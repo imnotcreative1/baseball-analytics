{
 "cells": [
  {
   "cell_type": "code",
   "execution_count": 131,
   "metadata": {
    "collapsed": false
   },
   "outputs": [
    {
     "data": {
      "text/plain": [
       "'\\nScraping date from baseball-reference.com\\nThis file is specifically for getting information that will be used to predict the probability of a batter hitting a \\nsingle.\\nNotes:\\n    -Specific to the blue jays\\n    -Specific to the year\\n-Matthew Sims\\n'"
      ]
     },
     "execution_count": 131,
     "metadata": {},
     "output_type": "execute_result"
    }
   ],
   "source": [
    "'''\n",
    "Scraping date from baseball-reference.com\n",
    "This file is specifically for getting information that will be used to predict the probability of a batter hitting a \n",
    "single.\n",
    "Notes:\n",
    "    -Specific to the blue jays\n",
    "    -Specific to the year\n",
    "-Matthew Sims\n",
    "'''"
   ]
  },
  {
   "cell_type": "code",
   "execution_count": 351,
   "metadata": {
    "collapsed": true
   },
   "outputs": [],
   "source": [
    "#list of libraries being imported\n",
    "from bs4 import BeautifulSoup\n",
    "import urllib\n",
    "import collections"
   ]
  },
  {
   "cell_type": "code",
   "execution_count": 352,
   "metadata": {
    "collapsed": false
   },
   "outputs": [],
   "source": [
    "#function used to convert the date from the form (year, month_name day_number) to (yyyymmdd)\n",
    "def dateConversion(oldDate):\n",
    "    newDate = \"\"\n",
    "    month = \"\"\n",
    "    day_num = \"\"\n",
    "    dateSystemDict = {\"Jan\": \"01\",\n",
    "                      \"Feb\": \"02\",\n",
    "                      \"Mar\": \"03\",\n",
    "                      \"Apr\": \"04\",\n",
    "                      \"May\": \"05\",\n",
    "                      \"Jun\": \"06\",\n",
    "                      \"Jul\": \"07\",\n",
    "                      \"Aug\": \"08\",\n",
    "                      \"Sep\": \"09\",\n",
    "                      \"Oct\": \"10\",\n",
    "                      \"Nov\": \"11\",\n",
    "                      \"Dec\": \"12\"}\n",
    "    oldDate = oldDate.split(' ') #the default is space, but it is used here to be explicit\n",
    "    splitSize = len(oldDate)\n",
    "    month = dateSystemDict[oldDate[splitSize-2]]\n",
    "    day_num = oldDate[splitSize-1]\n",
    "    if (len(day_num) == 1):\n",
    "        day_num = \"0\" + day_num\n",
    "    elif (len(day_num) < 1 or len(day_num) > 2):\n",
    "        print \"error getting date from schedule table\"\n",
    "    newDate = year + month + day_num\n",
    "    return newDate\n",
    "        "
   ]
  },
  {
   "cell_type": "code",
   "execution_count": 353,
   "metadata": {
    "collapsed": true
   },
   "outputs": [],
   "source": [
    "#function to change the team abbreviation if needed\n",
    "#the team abrs used in the table do not match up with the ones used in the url for boxscores\n",
    "def teamAbrConversion(teamAbr):\n",
    "    teamAbrDict = {\"NYY\":\"NYA\",\n",
    "                   \"TBR\":\"TBA\",\n",
    "                   \"WSN\":\"WAS\",\n",
    "                   \"NYM\":\"NYN\",\n",
    "                   \"CHW\":\"CHA\",\n",
    "                   \"KCR\":\"KCA\",\n",
    "                   \"LAA\":\"ANA\"}\n",
    "    if (teamAbrDict.has_key(teamAbr)):\n",
    "        return teamAbrDict[teamAbr]\n",
    "    return teamAbr"
   ]
  },
  {
   "cell_type": "code",
   "execution_count": 354,
   "metadata": {
    "collapsed": false
   },
   "outputs": [],
   "source": [
    "#function to loop through a team's schedule a grab all the url needed to request boxscores\n",
    "#hard-coded Toronto as the home team\n",
    "def getListofBoxscoreURLs(schedule_table):\n",
    "    listOfUrls = []\n",
    "    #get a list of all the rows in the schedule table\n",
    "    team_schedule_rows = schedule_table.find_all('tr')\n",
    "    team_schedule_rows.pop(0)\n",
    "    for a_row in team_schedule_rows:\n",
    "        try:\n",
    "            columns = a_row.find_all(\"td\")\n",
    "            base_url = \"http://www.baseball-reference.com/boxes/\"\n",
    "            end_url = \"0.shtml\"\n",
    "            oldTeamAbr = a_row.find(id=\"Click for standings on this date\")\n",
    "            date = dateConversion(a_row.find(title=\"Click for standings on this date\").get_text())\n",
    "            #find the home team by first looking in the row for an @ symbol\n",
    "            homeTeamAbr = \"\"\n",
    "            if (\"@\" in columns[5].get_text()):\n",
    "                homeTeamAbr = teamAbrConversion(columns[6].get_text())\n",
    "            else:\n",
    "                homeTeamAbr = teamAbrConversion(abr1[team_index])\n",
    "            url = base_url + homeTeamAbr + '/' + homeTeamAbr + date + end_url\n",
    "            listOfUrls.append(url.encode('utf-8'))\n",
    "        except:\n",
    "            continue\n",
    "    return listOfUrls"
   ]
  },
  {
   "cell_type": "code",
   "execution_count": 355,
   "metadata": {
    "collapsed": true
   },
   "outputs": [],
   "source": [
    "testURL = \"http://www.baseball-reference.com/boxes/NYA/NYA201504060.shtml\""
   ]
  },
  {
   "cell_type": "code",
   "execution_count": 356,
   "metadata": {
    "collapsed": false
   },
   "outputs": [],
   "source": [
    "boxscore_page = urllib.urlopen(testURL).read()\n",
    "boxscore_page = BeautifulSoup(boxscore_page)"
   ]
  },
  {
   "cell_type": "code",
   "execution_count": 357,
   "metadata": {
    "collapsed": false
   },
   "outputs": [],
   "source": [
    "#function to scan through the play-by-play finding single in the description to get the single stats for each plater\n",
    "def getSingles(page):\n",
    "    singlesList = []\n",
    "    play_by_play_table = page.find(id=\"play_by_play\")\n",
    "    play_by_play_rows = play_by_play_table.find_all('tr')\n",
    "    for i in range(0, len(play_by_play_rows)):\n",
    "        try:\n",
    "            columns = play_by_play_rows[i].find_all('td')\n",
    "            event = columns[len(columns)-1].get_text()\n",
    "            if ('Single' in event):\n",
    "                nameFound = False\n",
    "                lastName = columns[7].get_text().split()\n",
    "                lastName = lastName[len(lastName)-1]\n",
    "                singleDict = {\"lastName\":lastName.encode('utf-8'), \"singleCount\": 1}\n",
    "                for j in range(0, len(singlesList)):\n",
    "                    if (singlesList[j][\"lastName\"] == lastName):\n",
    "                        #print lastName\n",
    "                        nameFound = True\n",
    "                        singlesList[j][\"singleCount\"] += 1\n",
    "                if (not nameFound):\n",
    "                    singlesList.append(singleDict)\n",
    "        except:\n",
    "            continue\n",
    "    return singlesList\n",
    "        "
   ]
  },
  {
   "cell_type": "code",
   "execution_count": 358,
   "metadata": {
    "collapsed": false
   },
   "outputs": [],
   "source": [
    "#function to return the opposing pitcher on the day\n",
    "#getPitcher from the play by play table\n",
    "def getPitcher(page, batter):\n",
    "    play_by_play_table = page.find(id=\"play_by_play\")\n",
    "    play_by_play_rows = play_by_play_table.find_all('tr')\n",
    "    for i in range(0, len(play_by_play_rows)):\n",
    "        try:\n",
    "            columns = play_by_play_rows[i].find_all('td')\n",
    "            b_lastName = columns[7].get_text().split()\n",
    "            b_lastName = b_lastName[len(b_lastName)-1]\n",
    "            if (b_lastName in batter):\n",
    "                p_lastName = columns[8].get_text().split()\n",
    "                p_lastName = p_lastName[len(p_lastName)-1]\n",
    "                return p_lastName.encode('utf-8')\n",
    "        except:\n",
    "            continue\n",
    "    return \"failed to find pitcher\"\n",
    "        "
   ]
  },
  {
   "cell_type": "code",
   "execution_count": 359,
   "metadata": {
    "collapsed": false
   },
   "outputs": [
    {
     "name": "stdout",
     "output_type": "stream",
     "text": [
      "Hutchison\n"
     ]
    }
   ],
   "source": [
    "print getPitcher(boxscore_page, 'Jacoby Ellsbury')"
   ]
  },
  {
   "cell_type": "code",
   "execution_count": 368,
   "metadata": {
    "collapsed": false
   },
   "outputs": [],
   "source": [
    "#hard-coded for the Toronto Blue Jays\n",
    "#column accesses are hard_coded by index\n",
    "#for boxscoreURL in urlList:\n",
    "    #opening the boxscore page \n",
    "def getTeamBattingStats(page, listOfSingles):\n",
    "    boxscore_batting_table = page.find(id=currentTeam[team_index] + \"batting\")\n",
    "    batter_rows = boxscore_batting_table.find_all('tr')\n",
    "    batter_rows.pop(0)\n",
    "    gameBattingStats = []\n",
    "    for batter_info in batter_rows:\n",
    "        foundName = False\n",
    "        record = {\"name\":\"\",\n",
    "                  \"PA\": 0,\n",
    "                  \"OBP\": 0,\n",
    "                  \"SLG\": 0,\n",
    "                  \"singles\": 0,\n",
    "                  \"pitcher_name\": \"\",\n",
    "                  \"pitcher_OBP\": 0,\n",
    "                  \"defensive_efficiency\": 0,\n",
    "                  \"team\": currentTeam[team_index]}\n",
    "        attributes = batter_info.find_all('td')\n",
    "        name = attributes[0].get_text().strip().split(' ')\n",
    "        name.pop(len(name)-1)\n",
    "        record[\"name\"] = ' '.join(name).strip().encode('utf-8')\n",
    "        record[\"PA\"] = (attributes[7].get_text()).encode('utf-8')\n",
    "        record[\"OBP\"] = (attributes[9].get_text()).encode('utf-8')\n",
    "        record[\"SLG\"] = (attributes[10].get_text()).encode('utf-8')\n",
    "        record[\"pitcher_name\"] = getPitcher(page, record[\"name\"])\n",
    "        if (record[\"pitcher_name\"] != \"failed to find pitcher\" and record[\"PA\"] != \"\"):\n",
    "            for single in listOfSingles:\n",
    "                if (single[\"lastName\"] in record[\"name\"]):\n",
    "                    record[\"singles\"] = single[\"singleCount\"]\n",
    "                    #print \"addedSingle\"\n",
    "                    break\n",
    "            gameBattingStats.append(record)\n",
    "    return gameBattingStats\n",
    "    \n"
   ]
  },
  {
   "cell_type": "code",
   "execution_count": 369,
   "metadata": {
    "collapsed": false
   },
   "outputs": [
    {
     "name": "stdout",
     "output_type": "stream",
     "text": [
      "[{'lastName': 'Navarro', 'singleCount': 1}, {'lastName': 'Pillar', 'singleCount': 2}, {'lastName': 'Martin', 'singleCount': 1}, {'lastName': 'McCann', 'singleCount': 1}, {'lastName': 'Rodriguez', 'singleCount': 1}]\n"
     ]
    }
   ],
   "source": [
    "boxscore_page = urllib.urlopen(\"http://www.baseball-reference.com/boxes/NYA/NYA201504060.shtml\").read()\n",
    "boxscore_page = BeautifulSoup(boxscore_page)\n",
    "singless =  getSingles(boxscore_page)\n",
    "print singless"
   ]
  },
  {
   "cell_type": "code",
   "execution_count": 397,
   "metadata": {
    "collapsed": true
   },
   "outputs": [],
   "source": [
    "#function to get all urls from a team's schedule then get all the batter information\n",
    "def getAllTeamBattingStats(t_schedule):\n",
    "    #variable to store all data records to be inputted into excel\n",
    "    data = []\n",
    "    #get all the urls\n",
    "    urlList = getListofBoxscoreURLs(t_schedule)\n",
    "    #open each boxscore page to grab info\n",
    "    for url in urlList:\n",
    "        try:\n",
    "            boxscore_page = urllib.urlopen(url).read()\n",
    "            boxscore_page = BeautifulSoup(boxscore_page)\n",
    "            singlesList = getSingles(boxscore_page)\n",
    "            data = data + getTeamBattingStats(boxscore_page, singlesList)\n",
    "            print url\n",
    "        except:\n",
    "            print \"fails:\" + url\n",
    "    return data"
   ]
  },
  {
   "cell_type": "code",
   "execution_count": null,
   "metadata": {
    "collapsed": false
   },
   "outputs": [
    {
     "name": "stdout",
     "output_type": "stream",
     "text": [
      "TorontoBlueJays\n",
      "http://www.baseball-reference.com/boxes/NYA/NYA201504060.shtml\n",
      "http://www.baseball-reference.com/boxes/NYA/NYA201504080.shtml\n",
      "http://www.baseball-reference.com/boxes/NYA/NYA201504090.shtml\n",
      "http://www.baseball-reference.com/boxes/BAL/BAL201504100.shtml\n",
      "http://www.baseball-reference.com/boxes/BAL/BAL201504110.shtml\n",
      "http://www.baseball-reference.com/boxes/BAL/BAL201504120.shtml\n",
      "http://www.baseball-reference.com/boxes/TOR/TOR201504130.shtml\n",
      "http://www.baseball-reference.com/boxes/TOR/TOR201504140.shtml\n",
      "http://www.baseball-reference.com/boxes/TOR/TOR201504150.shtml\n",
      "http://www.baseball-reference.com/boxes/TOR/TOR201504160.shtml\n",
      "http://www.baseball-reference.com/boxes/TOR/TOR201504170.shtml\n",
      "http://www.baseball-reference.com/boxes/TOR/TOR201504180.shtml\n",
      "http://www.baseball-reference.com/boxes/TOR/TOR201504190.shtml\n",
      "http://www.baseball-reference.com/boxes/TOR/TOR201504210.shtml\n",
      "http://www.baseball-reference.com/boxes/TOR/TOR201504220.shtml\n",
      "http://www.baseball-reference.com/boxes/TOR/TOR201504230.shtml\n",
      "http://www.baseball-reference.com/boxes/TBA/TBA201504240.shtml\n",
      "http://www.baseball-reference.com/boxes/TBA/TBA201504250.shtml\n",
      "http://www.baseball-reference.com/boxes/TBA/TBA201504260.shtml\n",
      "http://www.baseball-reference.com/boxes/BOS/BOS201504270.shtml\n",
      "http://www.baseball-reference.com/boxes/BOS/BOS201504280.shtml\n",
      "http://www.baseball-reference.com/boxes/BOS/BOS201504290.shtml\n",
      "http://www.baseball-reference.com/boxes/CLE/CLE201504300.shtml\n",
      "http://www.baseball-reference.com/boxes/CLE/CLE201505010.shtml\n",
      "http://www.baseball-reference.com/boxes/CLE/CLE201505020.shtml\n",
      "http://www.baseball-reference.com/boxes/CLE/CLE201505030.shtml\n",
      "http://www.baseball-reference.com/boxes/TOR/TOR201505040.shtml\n",
      "http://www.baseball-reference.com/boxes/TOR/TOR201505050.shtml\n",
      "http://www.baseball-reference.com/boxes/TOR/TOR201505060.shtml\n",
      "http://www.baseball-reference.com/boxes/TOR/TOR201505080.shtml\n",
      "http://www.baseball-reference.com/boxes/TOR/TOR201505090.shtml\n",
      "http://www.baseball-reference.com/boxes/TOR/TOR201505100.shtml\n",
      "http://www.baseball-reference.com/boxes/BAL/BAL201505110.shtml\n",
      "http://www.baseball-reference.com/boxes/BAL/BAL201505120.shtml\n",
      "http://www.baseball-reference.com/boxes/BAL/BAL201505130.shtml\n",
      "http://www.baseball-reference.com/boxes/HOU/HOU201505140.shtml\n",
      "http://www.baseball-reference.com/boxes/HOU/HOU201505150.shtml\n",
      "http://www.baseball-reference.com/boxes/HOU/HOU201505160.shtml\n",
      "http://www.baseball-reference.com/boxes/HOU/HOU201505170.shtml\n",
      "http://www.baseball-reference.com/boxes/TOR/TOR201505180.shtml\n",
      "http://www.baseball-reference.com/boxes/TOR/TOR201505190.shtml\n",
      "http://www.baseball-reference.com/boxes/TOR/TOR201505200.shtml\n",
      "http://www.baseball-reference.com/boxes/TOR/TOR201505210.shtml\n",
      "http://www.baseball-reference.com/boxes/TOR/TOR201505220.shtml\n",
      "http://www.baseball-reference.com/boxes/TOR/TOR201505230.shtml\n",
      "http://www.baseball-reference.com/boxes/TOR/TOR201505240.shtml\n",
      "http://www.baseball-reference.com/boxes/TOR/TOR201505250.shtml\n",
      "http://www.baseball-reference.com/boxes/TOR/TOR201505260.shtml\n",
      "http://www.baseball-reference.com/boxes/TOR/TOR201505270.shtml\n",
      "http://www.baseball-reference.com/boxes/MIN/MIN201505290.shtml\n",
      "http://www.baseball-reference.com/boxes/MIN/MIN201505300.shtml\n",
      "http://www.baseball-reference.com/boxes/MIN/MIN201505310.shtml\n",
      "fails:http://www.baseball-reference.com/boxes/WAS/WAS201506020.shtml\n",
      "fails:http://www.baseball-reference.com/boxes/WAS/WAS201506020.shtml\n",
      "http://www.baseball-reference.com/boxes/WAS/WAS201506030.shtml\n",
      "http://www.baseball-reference.com/boxes/TOR/TOR201506050.shtml\n",
      "http://www.baseball-reference.com/boxes/TOR/TOR201506060.shtml\n",
      "http://www.baseball-reference.com/boxes/TOR/TOR201506070.shtml\n",
      "http://www.baseball-reference.com/boxes/TOR/TOR201506080.shtml\n",
      "http://www.baseball-reference.com/boxes/TOR/TOR201506090.shtml\n",
      "http://www.baseball-reference.com/boxes/TOR/TOR201506100.shtml\n",
      "http://www.baseball-reference.com/boxes/BOS/BOS201506120.shtml\n",
      "http://www.baseball-reference.com/boxes/BOS/BOS201506130.shtml\n",
      "http://www.baseball-reference.com/boxes/BOS/BOS201506140.shtml\n",
      "http://www.baseball-reference.com/boxes/NYN/NYN201506150.shtml\n",
      "http://www.baseball-reference.com/boxes/NYN/NYN201506160.shtml\n",
      "http://www.baseball-reference.com/boxes/TOR/TOR201506170.shtml\n",
      "http://www.baseball-reference.com/boxes/TOR/TOR201506180.shtml\n",
      "http://www.baseball-reference.com/boxes/TOR/TOR201506190.shtml\n",
      "http://www.baseball-reference.com/boxes/TOR/TOR201506200.shtml\n",
      "http://www.baseball-reference.com/boxes/TOR/TOR201506210.shtml\n",
      "http://www.baseball-reference.com/boxes/TBA/TBA201506220.shtml\n",
      "http://www.baseball-reference.com/boxes/TBA/TBA201506230.shtml\n",
      "http://www.baseball-reference.com/boxes/TBA/TBA201506240.shtml\n",
      "http://www.baseball-reference.com/boxes/TOR/TOR201506260.shtml\n",
      "http://www.baseball-reference.com/boxes/TOR/TOR201506270.shtml\n",
      "http://www.baseball-reference.com/boxes/TOR/TOR201506280.shtml\n",
      "http://www.baseball-reference.com/boxes/TOR/TOR201506290.shtml\n",
      "http://www.baseball-reference.com/boxes/TOR/TOR201506300.shtml\n",
      "http://www.baseball-reference.com/boxes/TOR/TOR201507010.shtml\n",
      "http://www.baseball-reference.com/boxes/TOR/TOR201507020.shtml\n",
      "http://www.baseball-reference.com/boxes/DET/DET201507030.shtml\n",
      "http://www.baseball-reference.com/boxes/DET/DET201507040.shtml\n",
      "http://www.baseball-reference.com/boxes/DET/DET201507050.shtml\n",
      "http://www.baseball-reference.com/boxes/CHA/CHA201507060.shtml\n",
      "http://www.baseball-reference.com/boxes/CHA/CHA201507070.shtml\n",
      "http://www.baseball-reference.com/boxes/CHA/CHA201507080.shtml\n",
      "http://www.baseball-reference.com/boxes/CHA/CHA201507090.shtml\n",
      "http://www.baseball-reference.com/boxes/KCA/KCA201507100.shtml\n",
      "http://www.baseball-reference.com/boxes/KCA/KCA201507110.shtml\n",
      "http://www.baseball-reference.com/boxes/KCA/KCA201507120.shtml\n",
      "http://www.baseball-reference.com/boxes/TOR/TOR201507170.shtml\n",
      "http://www.baseball-reference.com/boxes/TOR/TOR201507180.shtml\n",
      "http://www.baseball-reference.com/boxes/TOR/TOR201507190.shtml\n",
      "http://www.baseball-reference.com/boxes/OAK/OAK201507210.shtml\n",
      "http://www.baseball-reference.com/boxes/OAK/OAK201507220.shtml\n",
      "http://www.baseball-reference.com/boxes/OAK/OAK201507230.shtml\n",
      "http://www.baseball-reference.com/boxes/SEA/SEA201507240.shtml\n",
      "http://www.baseball-reference.com/boxes/SEA/SEA201507250.shtml\n",
      "http://www.baseball-reference.com/boxes/SEA/SEA201507260.shtml\n",
      "http://www.baseball-reference.com/boxes/TOR/TOR201507280.shtml\n",
      "http://www.baseball-reference.com/boxes/TOR/TOR201507290.shtml\n",
      "http://www.baseball-reference.com/boxes/TOR/TOR201507300.shtml\n",
      "http://www.baseball-reference.com/boxes/TOR/TOR201507310.shtml\n",
      "http://www.baseball-reference.com/boxes/TOR/TOR201508010.shtml\n",
      "http://www.baseball-reference.com/boxes/TOR/TOR201508020.shtml\n",
      "http://www.baseball-reference.com/boxes/TOR/TOR201508030.shtml\n",
      "http://www.baseball-reference.com/boxes/TOR/TOR201508040.shtml\n",
      "http://www.baseball-reference.com/boxes/TOR/TOR201508050.shtml\n",
      "http://www.baseball-reference.com/boxes/TOR/TOR201508060.shtml\n",
      "http://www.baseball-reference.com/boxes/NYA/NYA201508070.shtml\n",
      "http://www.baseball-reference.com/boxes/NYA/NYA201508080.shtml\n",
      "http://www.baseball-reference.com/boxes/NYA/NYA201508090.shtml\n",
      "http://www.baseball-reference.com/boxes/TOR/TOR201508110.shtml\n",
      "http://www.baseball-reference.com/boxes/TOR/TOR201508120.shtml\n",
      "http://www.baseball-reference.com/boxes/TOR/TOR201508130.shtml\n",
      "http://www.baseball-reference.com/boxes/TOR/TOR201508140.shtml\n",
      "http://www.baseball-reference.com/boxes/TOR/TOR201508150.shtml\n",
      "http://www.baseball-reference.com/boxes/TOR/TOR201508160.shtml\n",
      "http://www.baseball-reference.com/boxes/PHI/PHI201508180.shtml\n",
      "http://www.baseball-reference.com/boxes/PHI/PHI201508190.shtml\n",
      "http://www.baseball-reference.com/boxes/ANA/ANA201508210.shtml\n",
      "http://www.baseball-reference.com/boxes/ANA/ANA201508220.shtml\n",
      "http://www.baseball-reference.com/boxes/ANA/ANA201508230.shtml\n",
      "http://www.baseball-reference.com/boxes/TEX/TEX201508250.shtml\n",
      "http://www.baseball-reference.com/boxes/TEX/TEX201508260.shtml\n",
      "http://www.baseball-reference.com/boxes/TEX/TEX201508270.shtml\n",
      "http://www.baseball-reference.com/boxes/TOR/TOR201508280.shtml\n",
      "http://www.baseball-reference.com/boxes/TOR/TOR201508290.shtml\n",
      "http://www.baseball-reference.com/boxes/TOR/TOR201508300.shtml\n",
      "http://www.baseball-reference.com/boxes/TOR/TOR201508310.shtml\n",
      "http://www.baseball-reference.com/boxes/TOR/TOR201509010.shtml\n",
      "http://www.baseball-reference.com/boxes/TOR/TOR201509020.shtml\n",
      "http://www.baseball-reference.com/boxes/TOR/TOR201509040.shtml\n",
      "http://www.baseball-reference.com/boxes/TOR/TOR201509050.shtml\n",
      "http://www.baseball-reference.com/boxes/TOR/TOR201509060.shtml\n",
      "http://www.baseball-reference.com/boxes/BOS/BOS201509070.shtml\n",
      "http://www.baseball-reference.com/boxes/BOS/BOS201509080.shtml\n",
      "http://www.baseball-reference.com/boxes/BOS/BOS201509090.shtml\n",
      "http://www.baseball-reference.com/boxes/NYA/NYA201509110.shtml\n",
      "fails:http://www.baseball-reference.com/boxes/NYA/NYA201509120.shtml\n",
      "fails:http://www.baseball-reference.com/boxes/NYA/NYA201509120.shtml\n",
      "http://www.baseball-reference.com/boxes/NYA/NYA201509130.shtml\n",
      "http://www.baseball-reference.com/boxes/ATL/ATL201509150.shtml\n",
      "http://www.baseball-reference.com/boxes/ATL/ATL201509160.shtml\n",
      "http://www.baseball-reference.com/boxes/ATL/ATL201509170.shtml\n"
     ]
    }
   ],
   "source": [
    "#global variables\n",
    "currentTeam = [\"TorontoBlueJays\", \"NewYorkYankees\", \"BostonRedSox\", \"BaltimoreOrioles\", \"TampaBayRays\", \n",
    "               \"DetroitTigers\", \"NewYorkMets\", \"KansasCityRoyals\", \"WashingtonNationals\", \"TexasRangers\",\n",
    "               \"OaklandAthletics\", \"MiamiMarlins\", \"PhiladelphiaPhillies\", \"HoustonAstros\", \"SeattleMariners\",\n",
    "               \"MinnesotaTwins\", \"ChicagoWhiteSox\", \"ClevelandIndians\", \"AtlantaBraves\", \"AnaheimAngels\"]\n",
    "abr1 = [\"TOR\", \"NYY\", \"BOS\", \"BAL\", \"TBR\", \"DET\", \"NYM\", \"KCR\", \"WSN\", \"TEX\", \"OAK\", \"MIA\", \"PHI\", \"HOU\", \"SEA\",\n",
    "        \"MIN\", \"CHW\", \"CLE\", \"ATL\", \"LAA\"]\n",
    "year = \"2015\"\n",
    "data = []\n",
    "for team_index in range(0, len(currentTeam)):\n",
    "    currentTeamURL = \"http://www.baseball-reference.com/teams/\" + abr1[team_index] + \"/2015-schedule-scores.shtml\"\n",
    "    #print currentTeamURL\n",
    "    #opening the team schedule page \n",
    "    try:\n",
    "        print currentTeam[team_index]\n",
    "        team_schedule = urllib.urlopen(currentTeamURL).read()\n",
    "        team_schedule = BeautifulSoup(team_schedule)\n",
    "        team_schedule_table = team_schedule.find(id=\"team_schedule\")\n",
    "        data = data + getAllTeamBattingStats(team_schedule_table)\n",
    "    except:\n",
    "        print \"fail:\" + currentTeamURL"
   ]
  },
  {
   "cell_type": "code",
   "execution_count": null,
   "metadata": {
    "collapsed": false
   },
   "outputs": [],
   "source": [
    "import pandas as pd\n",
    "import numpy as np"
   ]
  },
  {
   "cell_type": "code",
   "execution_count": null,
   "metadata": {
    "collapsed": false
   },
   "outputs": [],
   "source": [
    "df = pd.DataFrame(data)"
   ]
  },
  {
   "cell_type": "code",
   "execution_count": null,
   "metadata": {
    "collapsed": false
   },
   "outputs": [],
   "source": [
    "df.to_excel('test.xlsx', sheet_name='sheet1', index=False)"
   ]
  },
  {
   "cell_type": "code",
   "execution_count": null,
   "metadata": {
    "collapsed": false
   },
   "outputs": [],
   "source": [
    "print df"
   ]
  },
  {
   "cell_type": "code",
   "execution_count": null,
   "metadata": {
    "collapsed": true
   },
   "outputs": [],
   "source": []
  }
 ],
 "metadata": {
  "kernelspec": {
   "display_name": "Python 2",
   "language": "python",
   "name": "python2"
  },
  "language_info": {
   "codemirror_mode": {
    "name": "ipython",
    "version": 2
   },
   "file_extension": ".py",
   "mimetype": "text/x-python",
   "name": "python",
   "nbconvert_exporter": "python",
   "pygments_lexer": "ipython2",
   "version": "2.7.11"
  }
 },
 "nbformat": 4,
 "nbformat_minor": 0
}
