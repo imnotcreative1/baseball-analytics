{
 "cells": [
  {
   "cell_type": "code",
   "execution_count": 4,
   "metadata": {
    "collapsed": false
   },
   "outputs": [
    {
     "data": {
      "text/plain": [
       "'\\nScraping date from baseball-reference.com\\nThis file is specifically for getting information that will be used to predict the probability of a batter hitting a \\nsingle.\\nNotes:\\n    -Specific to the blue jays\\n    -Specific to the year\\n-Matthew Sims\\n'"
      ]
     },
     "execution_count": 4,
     "metadata": {},
     "output_type": "execute_result"
    }
   ],
   "source": [
    "'''\n",
    "Scraping date from baseball-reference.com\n",
    "This file is specifically for getting information that will be used to predict the probability of a batter hitting a \n",
    "single.\n",
    "Notes:\n",
    "    -Specific to the blue jays\n",
    "    -Specific to the year\n",
    "-Matthew Sims\n",
    "'''"
   ]
  },
  {
   "cell_type": "code",
   "execution_count": 5,
   "metadata": {
    "collapsed": true
   },
   "outputs": [],
   "source": [
    "#list of libraries being imported\n",
    "from bs4 import BeautifulSoup\n",
    "import urllib\n",
    "import collections\n",
    "import re"
   ]
  },
  {
   "cell_type": "code",
   "execution_count": 36,
   "metadata": {
    "collapsed": true
   },
   "outputs": [],
   "source": [
    "#global variables\n",
    "_home_team = []\n",
    "_away_team = []\n",
    "_date = []"
   ]
  },
  {
   "cell_type": "code",
   "execution_count": 7,
   "metadata": {
    "collapsed": false
   },
   "outputs": [],
   "source": [
    "#function used to convert the date from the form (year, month_name day_number) to (yyyymmdd)\n",
    "def dateConversion(oldDate):\n",
    "    newDate = \"\"\n",
    "    month = \"\"\n",
    "    day_num = \"\"\n",
    "    dateSystemDict = {\"Jan\": \"01\",\n",
    "                      \"Feb\": \"02\",\n",
    "                      \"Mar\": \"03\",\n",
    "                      \"Apr\": \"04\",\n",
    "                      \"May\": \"05\",\n",
    "                      \"Jun\": \"06\",\n",
    "                      \"Jul\": \"07\",\n",
    "                      \"Aug\": \"08\",\n",
    "                      \"Sep\": \"09\",\n",
    "                      \"Oct\": \"10\",\n",
    "                      \"Nov\": \"11\",\n",
    "                      \"Dec\": \"12\"}\n",
    "    oldDate = oldDate.split(' ') #the default is space, but it is used here to be explicit\n",
    "    splitSize = len(oldDate)\n",
    "    month = dateSystemDict[oldDate[splitSize-2]]\n",
    "    day_num = oldDate[splitSize-1]\n",
    "    if (len(day_num) == 1):\n",
    "        day_num = \"0\" + day_num\n",
    "    elif (len(day_num) < 1 or len(day_num) > 2):\n",
    "        print \"error getting date from schedule table\"\n",
    "    newDate = year + month + day_num\n",
    "    return newDate\n",
    "        "
   ]
  },
  {
   "cell_type": "code",
   "execution_count": 8,
   "metadata": {
    "collapsed": true
   },
   "outputs": [],
   "source": [
    "#function to change the team abbreviation if needed\n",
    "#the team abrs used in the table do not match up with the ones used in the url for boxscores\n",
    "def teamAbrConversion(teamAbr):\n",
    "    teamAbrDict = {\"NYY\":\"NYA\",\n",
    "                   \"TBR\":\"TBA\",\n",
    "                   \"WSN\":\"WAS\",\n",
    "                   \"NYM\":\"NYN\",\n",
    "                   \"CHW\":\"CHA\",\n",
    "                   \"KCR\":\"KCA\",\n",
    "                   \"LAA\":\"ANA\"}\n",
    "    if (teamAbrDict.has_key(teamAbr)):\n",
    "        return teamAbrDict[teamAbr]\n",
    "    return teamAbr"
   ]
  },
  {
   "cell_type": "code",
   "execution_count": 37,
   "metadata": {
    "collapsed": false
   },
   "outputs": [],
   "source": [
    "#function to loop through a team's schedule a grab all the url needed to request boxscores\n",
    "#hard-coded Toronto as the home team\n",
    "def getListofBoxscoreURLs(schedule_table):\n",
    "    listOfUrls = []\n",
    "    #get a list of all the rows in the schedule table\n",
    "    team_schedule_rows = schedule_table.find_all('tr')\n",
    "    team_schedule_rows.pop(0)\n",
    "    for a_row in team_schedule_rows:\n",
    "        try:\n",
    "            columns = a_row.find_all(\"td\")\n",
    "            base_url = \"http://www.baseball-reference.com/boxes/\"\n",
    "            end_url = \"0.shtml\"\n",
    "            oldTeamAbr = a_row.find(id=\"Click for standings on this date\")\n",
    "            global _date\n",
    "            tempDate = dateConversion(a_row.find(title=\"Click for standings on this date\").get_text())\n",
    "            _date.append(tempDate)\n",
    "            #find the home team by first looking in the row for an @ symbol\n",
    "            TeamAbr = \"\"\n",
    "            global _home_team\n",
    "            global _away_team\n",
    "            if (\"@\" in columns[5].get_text()):\n",
    "                TeamAbr = teamAbrConversion(columns[6].get_text())\n",
    "                _home_team.append(TeamAbr)\n",
    "                _away_team.append(teamAbrConversion(abr1[team_index]))\n",
    "            else:\n",
    "                TeamAbr = teamAbrConversion(abr1[team_index])\n",
    "                _away_team.append(TeamAbr)\n",
    "                _home_team.append(teamAbrConversion(abr1[team_index]))\n",
    "            url = base_url + TeamAbr + '/' + TeamAbr + tempDate + end_url \n",
    "            listOfUrls.append(url.encode('utf-8'))\n",
    "        except:\n",
    "            continue\n",
    "    return listOfUrls"
   ]
  },
  {
   "cell_type": "code",
   "execution_count": 27,
   "metadata": {
    "collapsed": false
   },
   "outputs": [],
   "source": [
    "testURL = \"http://www.baseball-reference.com/boxes/NYA/NYA201504060.shtml\"\n",
    "test_page = urllib.urlopen(\"http://www.baseball-reference.com/teams/TOR/2015-schedule-scores.shtml\").read()\n",
    "test_page = BeautifulSoup(test_page)"
   ]
  },
  {
   "cell_type": "code",
   "execution_count": 28,
   "metadata": {
    "collapsed": true
   },
   "outputs": [],
   "source": [
    "#function to check if event occurred\n",
    "#fix later\n",
    "def searchforEvent(count_label, event_list, columns):\n",
    "    '''nameFound = False\n",
    "    lastName = columns[7].get_text().split()\n",
    "    lastName = lastName[len(lastName)-1]\n",
    "    event_dict = {\"lastName\":lastName.encode('utf-8'), count_label: 1}\n",
    "    for j in range(0, len(event_list)):\n",
    "        if (event_list[j][\"lastName\"] == lastName):\n",
    "            #print lastName\n",
    "            nameFound = True\n",
    "            event_list[j][count_label] += 1\n",
    "    if (not nameFound):\n",
    "        event_list.append(event_dict)\n",
    "    return  event_list'''\n",
    "    nameFound = False\n",
    "    lastName = columns[7].get_text().split()\n",
    "    lastName = lastName[len(lastName)-1]\n",
    "    singleDict = {\"lastName\":lastName.encode('utf-8'), \"singleCount\": 1}\n",
    "    for j in range(0, len(singlesList)):\n",
    "        if (singlesList[j][\"lastName\"] == lastName):\n",
    "            #print lastName\n",
    "            nameFound = True\n",
    "            singlesList[j][\"singleCount\"] += 1\n",
    "    if (not nameFound):\n",
    "        singlesList.append(singleDict)\n",
    "    return singlesList"
   ]
  },
  {
   "cell_type": "code",
   "execution_count": 29,
   "metadata": {
    "collapsed": false
   },
   "outputs": [],
   "source": [
    "#function to scan through the play-by-play finding an event in the description to get the event stats for each plater\n",
    "def getSingles(page):\n",
    "    singlesList = []\n",
    "    doublesList = []\n",
    "    triplesList = []\n",
    "    walksList = []\n",
    "    home_runsList = []\n",
    "    play_by_play_table = page.find(id=\"play_by_play\")\n",
    "    play_by_play_rows = play_by_play_table.find_all('tr')\n",
    "    for i in range(0, len(play_by_play_rows)):\n",
    "        try:\n",
    "            columns = play_by_play_rows[i].find_all('td')\n",
    "            event = columns[len(columns)-1].get_text()\n",
    "            if ('Single' in event):\n",
    "                nameFound = False\n",
    "                lastName = columns[7].get_text().split()\n",
    "                lastName = lastName[len(lastName)-1]\n",
    "                singleDict = {\"lastName\":lastName.encode('utf-8'), \"singleCount\": 1}\n",
    "                for j in range(0, len(singlesList)):\n",
    "                    if (singlesList[j][\"lastName\"] == lastName):\n",
    "                        #print lastName\n",
    "                        nameFound = True\n",
    "                        singlesList[j][\"singleCount\"] += 1\n",
    "                if (not nameFound):\n",
    "                    singlesList.append(singleDict)\n",
    "            elif ('Double' in event):\n",
    "                nameFound = False\n",
    "                lastName = columns[7].get_text().split()\n",
    "                lastName = lastName[len(lastName)-1]\n",
    "                doubleDict = {\"lastName\":lastName.encode('utf-8'), \"doubleCount\": 1}\n",
    "                for j in range(0, len(doublesList)):\n",
    "                    if (doublesList[j][\"lastName\"] == lastName):\n",
    "                        #print lastName\n",
    "                        nameFound = True\n",
    "                        doublesList[j][\"doubleCount\"] += 1\n",
    "                if (not nameFound):\n",
    "                    doublesList.append(doubleDict)\n",
    "            elif ('Triple' in event):\n",
    "                nameFound = False\n",
    "                lastName = columns[7].get_text().split()\n",
    "                lastName = lastName[len(lastName)-1]\n",
    "                tripleDict = {\"lastName\":lastName.encode('utf-8'), \"tripleCount\": 1}\n",
    "                for j in range(0, len(triplesList)):\n",
    "                    if (triplesList[j][\"lastName\"] == lastName):\n",
    "                        #print lastName\n",
    "                        nameFound = True\n",
    "                        tripleList[j][\"tripleCount\"] += 1\n",
    "                if (not nameFound):\n",
    "                    triplesList.append(tripleDict)\n",
    "            elif ('Walk' in event):\n",
    "                nameFound = False\n",
    "                lastName = columns[7].get_text().split()\n",
    "                lastName = lastName[len(lastName)-1]\n",
    "                walkDict = {\"lastName\":lastName.encode('utf-8'), \"walkCount\": 1}\n",
    "                for j in range(0, len(walksList)):\n",
    "                    if (triplesList[j][\"lastName\"] == lastName):\n",
    "                        #print lastName\n",
    "                        nameFound = True\n",
    "                        walkList[j][\"walkCount\"] += 1\n",
    "                if (not nameFound):\n",
    "                    walksList.append(walkDict)\n",
    "            elif ('Home Run' in event):\n",
    "                nameFound = False\n",
    "                lastName = columns[7].get_text().split()\n",
    "                lastName = lastName[len(lastName)-1]\n",
    "                home_runDict = {\"lastName\":lastName.encode('utf-8'), \"home_runCount\": 1}\n",
    "                for j in range(0, len(home_runsList)):\n",
    "                    if (home_runsList[j][\"lastName\"] == lastName):\n",
    "                        #print lastName\n",
    "                        nameFound = True\n",
    "                        home_runsList[j][\"home_runCount\"] += 1\n",
    "                if (not nameFound):\n",
    "                    home_runsList.append(home_runDict)\n",
    "        except:\n",
    "            continue\n",
    "    return {\"singles\":singlesList, \"doubles\":doublesList, \"triples\":triplesList, \"walks\":walksList, \"home_runs\":\n",
    "            home_runsList}\n",
    "        "
   ]
  },
  {
   "cell_type": "code",
   "execution_count": 30,
   "metadata": {
    "collapsed": false
   },
   "outputs": [],
   "source": [
    "#function to return the opposing pitcher on the day\n",
    "#getPitcher from the play by play table\n",
    "def getPitcher(page, batter):\n",
    "    play_by_play_table = page.find(id=\"play_by_play\")\n",
    "    play_by_play_rows = play_by_play_table.find_all('tr')\n",
    "    for i in range(0, len(play_by_play_rows)):\n",
    "        try:\n",
    "            columns = play_by_play_rows[i].find_all('td')\n",
    "            b_lastName = columns[7].get_text().split()\n",
    "            b_lastName = b_lastName[len(b_lastName)-1]\n",
    "            if (b_lastName in batter):\n",
    "                p_lastName = columns[8].get_text().split()\n",
    "                p_lastName = p_lastName[len(p_lastName)-1]\n",
    "                return p_lastName.encode('utf-8')\n",
    "        except:\n",
    "            continue\n",
    "    return \"failed to find pitcher\"\n",
    "        "
   ]
  },
  {
   "cell_type": "code",
   "execution_count": 44,
   "metadata": {
    "collapsed": false
   },
   "outputs": [],
   "source": [
    "def getTeamPitchingStats(page, game_index):\n",
    "    boxscore_batting_table = page.find(id=currentTeam[team_index] + \"pitching\") #testing\n",
    "    pitcher_rows = boxscore_batting_table.find_all('tr')\n",
    "    pitcher_rows.pop(0)\n",
    "    gamePitchingStats = []\n",
    "    for i in range (0,len(pitcher_rows)-1):\n",
    "        record = {\"name\":\"\",\n",
    "                  \"team\":\"\",\n",
    "                  \"date\": \"\",\n",
    "                  \"IP\": 0,\n",
    "                  \"H\": 0,\n",
    "                  \"BF\": 0,}\n",
    "                    \n",
    "        attributes = pitcher_rows[i].find_all('td')\n",
    "        name = attributes[0].get_text().split(\",\")[0]\n",
    "\n",
    "        record[\"name\"] = name.strip().encode('utf-8')\n",
    "        record[\"team\"] =currentTeam[team_index]\n",
    "        record[\"date\"] = _date[game_index]        \n",
    "        record[\"IP\"] = (attributes[1].get_text()).encode('utf-8')\n",
    "        record[\"H\"] = (attributes[2].get_text()).encode('utf-8')\n",
    "        record[\"BF\"] = (attributes[9].get_text()).encode('utf-8')\n",
    "        gamePitchingStats.append(record)\n",
    "    return gamePitchingStats"
   ]
  },
  {
   "cell_type": "code",
   "execution_count": 45,
   "metadata": {
    "collapsed": true
   },
   "outputs": [],
   "source": [
    "#function to get all urls from a team's schedule then get all the batter information\n",
    "def getAllTeamPitchingStats(t_schedule):\n",
    "    #variable to store all data records to be inputted into excel\n",
    "    data = []\n",
    "    #get all the urls\n",
    "    urlList = getListofBoxscoreURLs(t_schedule)\n",
    "    #open each boxscore page to grab info\n",
    "    for i in range (0,len(urlList[0:2])):\n",
    "        boxscore_page = urllib.urlopen(urlList[i]).read()\n",
    "        boxscore_page = BeautifulSoup(boxscore_page)\n",
    "        data = data + getPitchingStats(boxscore_page, i)\n",
    "    return data"
   ]
  },
  {
   "cell_type": "code",
   "execution_count": 46,
   "metadata": {
    "collapsed": false
   },
   "outputs": [],
   "source": [
    "#hard-coded for the Toronto Blue Jays\n",
    "#column accesses are hard_coded by index\n",
    "#for boxscoreURL in urlList:\n",
    "    #opening the boxscore page \n",
    "def getTeamBattingStats(page, listOfSingles, listOfDoubles, listOfTriples, listOfWalks, listOfHomeRuns, game_index):\n",
    "    boxscore_batting_table = page.find(id=currentTeam[team_index] + \"batting\")\n",
    "    batter_rows = boxscore_batting_table.find_all('tr')\n",
    "    batter_rows.pop(0)\n",
    "    gameBattingStats = []\n",
    "    for batter_info in batter_rows:\n",
    "        foundName = False\n",
    "        record = {\"name\":\"\",\n",
    "                  \"PA\": 0,\n",
    "                  \"OBP\": 0,\n",
    "                  \"SLG\": 0,\n",
    "                  \"singles\": 0,\n",
    "                  \"doubles\": 0,\n",
    "                  \"triples\": 0,\n",
    "                  \"walks\":0,\n",
    "                  \"home_runs\":0,\n",
    "                  \"pitcher_name\": \"\",\n",
    "                  \"pitcher_OBP\": 0,\n",
    "                  \"defensive_efficiency\": 0,\n",
    "                  \"batter_team\": currentTeam[team_index],\n",
    "                  \"home_team\": _home_team[game_index],\n",
    "                  \"away_team\": _away_team[game_index],\n",
    "                  \"date\": _date[game_index]}\n",
    "        attributes = batter_info.find_all('td')\n",
    "        name = attributes[0].get_text().strip().split(' ')\n",
    "        name.pop(len(name)-1)\n",
    "        record[\"name\"] = ' '.join(name).strip().encode('utf-8')\n",
    "        record[\"PA\"] = (attributes[7].get_text()).encode('utf-8')\n",
    "        record[\"OBP\"] = (attributes[9].get_text()).encode('utf-8')\n",
    "        record[\"SLG\"] = (attributes[10].get_text()).encode('utf-8')\n",
    "        record[\"pitcher_name\"] = getPitcher(page, record[\"name\"])\n",
    "        if (record[\"pitcher_name\"] != \"failed to find pitcher\" and record[\"PA\"] != \"\"):\n",
    "            for single in listOfSingles:\n",
    "                if (single[\"lastName\"] in record[\"name\"]):\n",
    "                    record[\"singles\"] = single[\"singleCount\"]\n",
    "                    break\n",
    "            for double in listOfDoubles:\n",
    "                #print double\n",
    "                if (double[\"lastName\"] in record[\"name\"]):\n",
    "                    record[\"doubles\"] = double[\"doubleCount\"]\n",
    "                    break\n",
    "            for triple in listOfTriples:\n",
    "                if (triple[\"lastName\"] in record[\"name\"]):\n",
    "                    record[\"triples\"] = triple[\"tripleCount\"]\n",
    "                    break\n",
    "            for walk in listOfWalks:\n",
    "                if (walk[\"lastName\"] in record[\"name\"]):\n",
    "                    record[\"walks\"] = walk[\"walkCount\"]\n",
    "                    break\n",
    "            for home_run in listOfHomeRuns:\n",
    "                if (home_run[\"lastName\"] in record[\"name\"]):\n",
    "                    record[\"home_runs\"] = home_run[\"home_runCount\"]\n",
    "                    break\n",
    "            gameBattingStats.append(record)\n",
    "    return gameBattingStats\n",
    "    \n"
   ]
  },
  {
   "cell_type": "code",
   "execution_count": 52,
   "metadata": {
    "collapsed": false
   },
   "outputs": [],
   "source": [
    "#function to get all urls from a team's schedule then get all the batter information\n",
    "def getAllTeamBattingStats(t_schedule):\n",
    "    #variable to store all data records to be inputted into excel\n",
    "    b_data = []\n",
    "    p_data = []\n",
    "    data = {\"batter_data\": b_data, \"pitcher_data\": p_data}\n",
    "    #get all the urls\n",
    "    urlList = getListofBoxscoreURLs(t_schedule)\n",
    "    game_index = 0\n",
    "    #open each boxscore page to grab info\n",
    "    for url in urlList[0:6]:\n",
    "        try:\n",
    "            boxscore_page = urllib.urlopen(url).read()\n",
    "            boxscore_page = BeautifulSoup(boxscore_page)\n",
    "            events = getSingles(boxscore_page) \n",
    "            b_data = b_data + getTeamBattingStats(boxscore_page, events[\"singles\"], events[\"doubles\"], events[\"triples\"],\n",
    "                                                  events[\"walks\"], events[\"home_runs\"], game_index)\n",
    "            p_data = p_data + getTeamPitchingStats(boxscore_page, game_index)\n",
    "            print url\n",
    "        except:\n",
    "            print \"fails:\" + url\n",
    "        game_index += 1\n",
    "    data = {\"batter_data\": b_data, \"pitcher_data\": p_data}\n",
    "    return data"
   ]
  },
  {
   "cell_type": "code",
   "execution_count": 53,
   "metadata": {
    "collapsed": false
   },
   "outputs": [
    {
     "name": "stdout",
     "output_type": "stream",
     "text": [
      "TorontoBlueJays\n",
      "http://www.baseball-reference.com/boxes/NYA/NYA201504060.shtml\n",
      "http://www.baseball-reference.com/boxes/NYA/NYA201504080.shtml\n",
      "http://www.baseball-reference.com/boxes/NYA/NYA201504090.shtml\n",
      "http://www.baseball-reference.com/boxes/BAL/BAL201504100.shtml\n",
      "http://www.baseball-reference.com/boxes/BAL/BAL201504110.shtml\n",
      "http://www.baseball-reference.com/boxes/BAL/BAL201504120.shtml\n"
     ]
    }
   ],
   "source": [
    "#global variables\n",
    "currentTeam = [\"TorontoBlueJays\", \"NewYorkYankees\", \"BostonRedSox\", \"BaltimoreOrioles\", \"TampaBayRays\", \n",
    "               \"DetroitTigers\", \"NewYorkMets\", \"KansasCityRoyals\", \"WashingtonNationals\", \"TexasRangers\",\n",
    "               \"OaklandAthletics\", \"MiamiMarlins\", \"PhiladelphiaPhillies\", \"HoustonAstros\", \"SeattleMariners\",\n",
    "               \"MinnesotaTwins\", \"ChicagoWhiteSox\", \"ClevelandIndians\", \"AtlantaBraves\", \"AnaheimAngels\"]\n",
    "abr1 = [\"TOR\", \"NYY\", \"BOS\", \"BAL\", \"TBR\", \"DET\", \"NYM\", \"KCR\", \"WSN\", \"TEX\", \"OAK\", \"MIA\", \"PHI\", \"HOU\", \"SEA\",\n",
    "        \"MIN\", \"CHW\", \"CLE\", \"ATL\", \"LAA\"]\n",
    "year = \"2015\"\n",
    "p_data = []\n",
    "b_data = []\n",
    "for team_index in range(0, len(currentTeam[0:1])):\n",
    "    currentTeamURL = \"http://www.baseball-reference.com/teams/\" + abr1[team_index] + \"/2015-schedule-scores.shtml\"\n",
    "    #print currentTeamURL\n",
    "    #opening the team schedule page \n",
    "    #try:\n",
    "    print currentTeam[team_index]\n",
    "    team_schedule = urllib.urlopen(currentTeamURL).read()\n",
    "    team_schedule = BeautifulSoup(team_schedule)\n",
    "    team_schedule_table = team_schedule.find(id=\"team_schedule\")\n",
    "    data = (getAllTeamBattingStats(team_schedule_table))\n",
    "    p_data = p_data + data[\"pitcher_data\"]\n",
    "    b_data = b_data + data[\"batter_data\"]\n",
    "    #except:\n",
    "        #print \"fail:\" + currentTeamURL"
   ]
  },
  {
   "cell_type": "code",
   "execution_count": 54,
   "metadata": {
    "collapsed": false
   },
   "outputs": [],
   "source": [
    "import pandas as pd\n",
    "import numpy as np"
   ]
  },
  {
   "cell_type": "code",
   "execution_count": 55,
   "metadata": {
    "collapsed": false
   },
   "outputs": [],
   "source": [
    "#print data\n",
    "dfp = pd.DataFrame(p_data)\n",
    "dfb = pd.DataFrame(b_data)\n",
    "#dfp = pd.DataFrame(pdata)"
   ]
  },
  {
   "cell_type": "code",
   "execution_count": null,
   "metadata": {
    "collapsed": true
   },
   "outputs": [],
   "source": []
  },
  {
   "cell_type": "code",
   "execution_count": 64,
   "metadata": {
    "collapsed": false
   },
   "outputs": [],
   "source": [
    "dfp.to_excel('pitcher_data.xlsx', sheet_name='sheet1', index=False)\n",
    "dfb.to_excel('batter_data.xlsx', sheet_name='sheet1', index=False)"
   ]
  },
  {
   "cell_type": "code",
   "execution_count": 56,
   "metadata": {
    "collapsed": false
   },
   "outputs": [
    {
     "name": "stdout",
     "output_type": "stream",
     "text": [
      "    BF  H    IP      date            name             team\n",
      "0   23  3   6    20150406  Drew Hutchison  TorontoBlueJays\n",
      "1    7  0   1.2  20150406      Aaron Loup  TorontoBlueJays\n",
      "2    3  0   1.1  20150406   Miguel Castro  TorontoBlueJays\n",
      "3   24  4   6.1  20150408     R.A. Dickey  TorontoBlueJays\n",
      "4    2  0   0.2  20150408   Miguel Castro  TorontoBlueJays\n",
      "5    3  2   0    20150408      Aaron Loup  TorontoBlueJays\n",
      "6    4  1   0.1  20150408     Brett Cecil  TorontoBlueJays\n",
      "7    2  0   0.2  20150408   Roberto Osuna  TorontoBlueJays\n",
      "8   24  6   5.2  20150409   Daniel Norris  TorontoBlueJays\n",
      "9    6  1   1.1  20150409   Roberto Osuna  TorontoBlueJays\n",
      "10   4  0   1    20150409     Brett Cecil  TorontoBlueJays\n",
      "11   3  0   1    20150409   Miguel Castro  TorontoBlueJays\n",
      "12  26  8   6    20150410    Mark Buehrle  TorontoBlueJays\n",
      "13   3  1   1    20150410   Liam Hendriks  TorontoBlueJays\n",
      "14   5  3   1    20150410      Colt Hynes  TorontoBlueJays\n",
      "15   4  1   1    20150410   Marco Estrada  TorontoBlueJays\n",
      "16  18  7   3.1  20150411   Aaron Sanchez  TorontoBlueJays\n",
      "17   3  0   0.2  20150411      Colt Hynes  TorontoBlueJays\n",
      "18  12  2   2    20150411    Todd Redmond  TorontoBlueJays\n",
      "19   6  0   2    20150411   Liam Hendriks  TorontoBlueJays\n",
      "20  23  7   4.1  20150412  Drew Hutchison  TorontoBlueJays\n",
      "21   5  0   1.2  20150412      Aaron Loup  TorontoBlueJays\n",
      "22   3  0   1    20150412   Roberto Osuna  TorontoBlueJays\n",
      "23   3  0   1    20150412     Brett Cecil  TorontoBlueJays\n",
      "24   5  1   1    20150412   Miguel Castro  TorontoBlueJays\n"
     ]
    }
   ],
   "source": [
    "print dfp\n"
   ]
  },
  {
   "cell_type": "code",
   "execution_count": 155,
   "metadata": {
    "collapsed": false
   },
   "outputs": [
    {
     "name": "stdout",
     "output_type": "stream",
     "text": [
      "\n"
     ]
    }
   ],
   "source": [
    "print _home_team"
   ]
  },
  {
   "cell_type": "code",
   "execution_count": null,
   "metadata": {
    "collapsed": true
   },
   "outputs": [],
   "source": []
  }
 ],
 "metadata": {
  "kernelspec": {
   "display_name": "Python 2",
   "language": "python",
   "name": "python2"
  },
  "language_info": {
   "codemirror_mode": {
    "name": "ipython",
    "version": 2
   },
   "file_extension": ".py",
   "mimetype": "text/x-python",
   "name": "python",
   "nbconvert_exporter": "python",
   "pygments_lexer": "ipython2",
   "version": "2.7.11"
  }
 },
 "nbformat": 4,
 "nbformat_minor": 0
}
