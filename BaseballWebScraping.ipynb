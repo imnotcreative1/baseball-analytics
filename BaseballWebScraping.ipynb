{
 "cells": [
  {
   "cell_type": "code",
   "execution_count": 489,
   "metadata": {
    "collapsed": false
   },
   "outputs": [
    {
     "data": {
      "text/plain": [
       "'\\nScraping date from baseball-reference.com\\nThis file is specifically for getting information that will be used to predict the probability of a batter hitting a \\nsingle.\\nNotes:\\n    -Specific to the blue jays\\n    -Specific to the year\\n-Matthew Sims\\n'"
      ]
     },
     "execution_count": 489,
     "metadata": {},
     "output_type": "execute_result"
    }
   ],
   "source": [
    "'''\n",
    "Scraping date from baseball-reference.com\n",
    "This file is specifically for getting information that will be used to predict the probability of a batter hitting a \n",
    "single.\n",
    "Notes:\n",
    "    -Specific to the blue jays\n",
    "    -Specific to the year\n",
    "-Matthew Sims\n",
    "'''"
   ]
  },
  {
   "cell_type": "code",
   "execution_count": 516,
   "metadata": {
    "collapsed": true
   },
   "outputs": [],
   "source": [
    "#list of libraries being imported\n",
    "from bs4 import BeautifulSoup\n",
    "import urllib\n",
    "import collections"
   ]
  },
  {
   "cell_type": "code",
   "execution_count": 491,
   "metadata": {
    "collapsed": true
   },
   "outputs": [],
   "source": [
    "#hard-coded for now\n",
    "currentTeam = \"TorontoBlueJays\"\n",
    "year = \"2015\"\n",
    "currentTeamURL = \"http://www.baseball-reference.com/teams/TOR/2015-schedule-scores.shtml\""
   ]
  },
  {
   "cell_type": "code",
   "execution_count": 492,
   "metadata": {
    "collapsed": false
   },
   "outputs": [],
   "source": [
    "#opening the team schedule page \n",
    "team_schedule = urllib.urlopen(currentTeamURL).read()\n",
    "team_schedule = BeautifulSoup(team_schedule)"
   ]
  },
  {
   "cell_type": "code",
   "execution_count": 493,
   "metadata": {
    "collapsed": false
   },
   "outputs": [],
   "source": [
    "team_schedule_table = team_schedule.find(id=\"team_schedule\")"
   ]
  },
  {
   "cell_type": "code",
   "execution_count": 494,
   "metadata": {
    "collapsed": false
   },
   "outputs": [],
   "source": [
    "#function used to convert the date from the form (year, month_name day_number) to (yyyymmdd)\n",
    "def dateConversion(oldDate):\n",
    "    newDate = \"\"\n",
    "    month = \"\"\n",
    "    day_num = \"\"\n",
    "    dateSystemDict = {\"Jan\": \"01\",\n",
    "                      \"Feb\": \"02\",\n",
    "                      \"Mar\": \"03\",\n",
    "                      \"Apr\": \"04\",\n",
    "                      \"May\": \"05\",\n",
    "                      \"Jun\": \"06\",\n",
    "                      \"Jul\": \"07\",\n",
    "                      \"Aug\": \"08\",\n",
    "                      \"Sep\": \"09\",\n",
    "                      \"Oct\": \"10\",\n",
    "                      \"Nov\": \"11\",\n",
    "                      \"Dec\": \"12\"}\n",
    "    oldDate = oldDate.split(' ') #the default is space, but it is used here to be explicit\n",
    "    splitSize = len(oldDate)\n",
    "    month = dateSystemDict[oldDate[splitSize-2]]\n",
    "    day_num = oldDate[splitSize-1]\n",
    "    if (len(day_num) == 1):\n",
    "        day_num = \"0\" + day_num\n",
    "    elif (len(day_num) < 1 or len(day_num) > 2):\n",
    "        print \"error getting date from schedule table\"\n",
    "    newDate = year + month + day_num\n",
    "    return newDate\n",
    "        "
   ]
  },
  {
   "cell_type": "code",
   "execution_count": 495,
   "metadata": {
    "collapsed": true
   },
   "outputs": [],
   "source": [
    "#function to change the team abbreviation if needed\n",
    "#the team abrs used in the table do not match up with the ones used in the url for boxscores\n",
    "def teamAbrConversion(teamAbr):\n",
    "    teamAbrDict = {\"NYY\":\"NYA\",\n",
    "                   \"TBR\":\"TBA\",\n",
    "                   \"WSN\":\"WAS\",\n",
    "                   \"NYM\":\"NYN\",\n",
    "                   \"CHW\":\"CHA\",\n",
    "                   \"KCR\":\"KCA\",\n",
    "                   \"LAA\":\"ANA\"}\n",
    "    if (teamAbrDict.has_key(teamAbr)):\n",
    "        return teamAbrDict[teamAbr]\n",
    "    return teamAbr"
   ]
  },
  {
   "cell_type": "code",
   "execution_count": 496,
   "metadata": {
    "collapsed": false
   },
   "outputs": [],
   "source": [
    "#function to loop through a team's schedule a grab all the url needed to request boxscores\n",
    "#hard-coded Toronto as the home team\n",
    "def getListofBoxscoreURLs(schedule_table):\n",
    "    listOfUrls = []\n",
    "    #get a list of all the rows in the schedule table\n",
    "    team_schedule_rows = schedule_table.find_all('tr')\n",
    "    team_schedule_rows.pop(0)\n",
    "    for a_row in team_schedule_rows:\n",
    "        try:\n",
    "            columns = a_row.find_all(\"td\")\n",
    "            base_url = \"http://www.baseball-reference.com/boxes/\"\n",
    "            end_url = \"0.shtml\"\n",
    "            oldTeamAbr = a_row.find(id=\"Click for standings on this date\")\n",
    "            date = dateConversion(a_row.find(title=\"Click for standings on this date\").get_text())\n",
    "            #find the home team by first looking in the row for an @ symbol\n",
    "            homeTeamAbr = \"\"\n",
    "            if (\"@\" in columns[5].get_text()):\n",
    "                homeTeamAbr = teamAbrConversion(columns[6].get_text())\n",
    "            else:\n",
    "                homeTeamAbr = \"TOR\" #hard-coded\n",
    "            url = base_url + homeTeamAbr + '/' + homeTeamAbr + date + end_url\n",
    "            listOfUrls.append(url.encode('utf-8'))\n",
    "        except:\n",
    "            continue\n",
    "    return listOfUrls"
   ]
  },
  {
   "cell_type": "code",
   "execution_count": 497,
   "metadata": {
    "collapsed": true
   },
   "outputs": [],
   "source": [
    "testURL = \"http://www.baseball-reference.com/boxes/NYA/NYA201504060.shtml\""
   ]
  },
  {
   "cell_type": "code",
   "execution_count": 498,
   "metadata": {
    "collapsed": true
   },
   "outputs": [],
   "source": [
    "boxscore_page = urllib.urlopen(testURL).read()\n",
    "boxscore_page = BeautifulSoup(boxscore_page)"
   ]
  },
  {
   "cell_type": "code",
   "execution_count": 499,
   "metadata": {
    "collapsed": false
   },
   "outputs": [],
   "source": [
    "#function to scan through the play-by-play finding single in the description to get the single stats for each plater\n",
    "def getSingles(page):\n",
    "    singlesList = []\n",
    "    play_by_play_table = page.find(id=\"play_by_play\")\n",
    "    play_by_play_rows = play_by_play_table.find_all('tr')\n",
    "    for i in range(0, len(play_by_play_rows)-1):\n",
    "        try:\n",
    "            columns = play_by_play_rows[i].find_all('td')\n",
    "            event = columns[len(columns)-1].get_text()\n",
    "            if ('Single' in event):\n",
    "                nameFound = False\n",
    "                lastName = columns[7].get_text().split()\n",
    "                lastName = lastName[len(lastName)-1]\n",
    "                singleDict = {\"lastName\":lastName.encode('utf-8'), \"singleCount\": 1}\n",
    "                for j in range(0, len(singlesList)-1):\n",
    "                    if (singlesList[i].lastName == lastName):\n",
    "                        singlesList[i].singleCount += 1\n",
    "                        nameFound = True\n",
    "                        break\n",
    "                if (not nameFound):\n",
    "                    singlesList.append(singleDict)\n",
    "        except:\n",
    "            continue\n",
    "    return singlesList\n",
    "        "
   ]
  },
  {
   "cell_type": "code",
   "execution_count": 500,
   "metadata": {
    "collapsed": false
   },
   "outputs": [],
   "source": [
    "#function to return the opposing pitcher on the day\n",
    "#getPitcher from the play by play table\n",
    "def getPitcher(page, batter):\n",
    "    play_by_play_table = page.find(id=\"play_by_play\")\n",
    "    play_by_play_rows = play_by_play_table.find_all('tr')\n",
    "    for i in range(0, len(play_by_play_rows)-1):\n",
    "        try:\n",
    "            columns = play_by_play_rows[i].find_all('td')\n",
    "            b_lastName = columns[7].get_text().split()\n",
    "            b_lastName = b_lastName[len(b_lastName)-1]\n",
    "            if (b_lastName in batter):\n",
    "                p_lastName = columns[8].get_text().split()\n",
    "                p_lastName = p_lastName[len(p_lastName)-1]\n",
    "                return p_lastName.encode('utf-8')\n",
    "        except:\n",
    "            continue\n",
    "    return \"failed to find pitcher\"\n",
    "        "
   ]
  },
  {
   "cell_type": "code",
   "execution_count": 501,
   "metadata": {
    "collapsed": false
   },
   "outputs": [
    {
     "name": "stdout",
     "output_type": "stream",
     "text": [
      "Hutchison\n"
     ]
    }
   ],
   "source": [
    "print getPitcher(boxscore_page, 'Jacoby Ellsbury')"
   ]
  },
  {
   "cell_type": "code",
   "execution_count": 502,
   "metadata": {
    "collapsed": false
   },
   "outputs": [],
   "source": [
    "#hard-coded for the Toronto Blue Jays\n",
    "#column accesses are hard_coded by index\n",
    "#for boxscoreURL in urlList:\n",
    "    #opening the boxscore page \n",
    "def getTeamBattingStats(page, listOfSingles):\n",
    "    boxscore_batting_table = page.find(id=\"TorontoBlueJaysbatting\")\n",
    "    batter_rows = boxscore_batting_table.find_all('tr')\n",
    "    batter_rows.pop(0)\n",
    "    gameBattingStats = []\n",
    "    for batter_info in batter_rows:\n",
    "        foundName = False\n",
    "        record = {\"name\":\"\",\n",
    "                  \"PA\": 0,\n",
    "                  \"OBP\": 0,\n",
    "                  \"SLG\": 0,\n",
    "                  \"singles\": 0,\n",
    "                  \"pitcher_name\": \"\",\n",
    "                  \"pitcher_OBP\": 0,\n",
    "                  \"defensive_efficiency\": 0}\n",
    "        attributes = batter_info.find_all('td')\n",
    "        name = attributes[0].get_text().strip().split(' ')\n",
    "        name.pop(len(name)-1)\n",
    "        record[\"name\"] = ' '.join(name).strip().encode('utf-8')\n",
    "        record[\"PA\"] = (attributes[7].get_text()).encode('utf-8')\n",
    "        record[\"OBP\"] = (attributes[9].get_text()).encode('utf-8')\n",
    "        record[\"SLG\"] = (attributes[10].get_text()).encode('utf-8')\n",
    "        record[\"pitcher_name\"] = getPitcher(page, record[\"name\"])\n",
    "        if (record[\"pitcher_name\"] != \"failed to find pitcher\" and record[\"PA\"] != \"\"):\n",
    "            for single in listOfSingles:\n",
    "                if (single[\"lastName\"] in record[\"name\"]):\n",
    "                    record[\"singles\"] = single[\"singleCount\"]\n",
    "                    #print \"addedSingle\"\n",
    "                    break\n",
    "            gameBattingStats.append(record)\n",
    "    return gameBattingStats\n",
    "    \n"
   ]
  },
  {
   "cell_type": "code",
   "execution_count": 503,
   "metadata": {
    "collapsed": false
   },
   "outputs": [
    {
     "name": "stdout",
     "output_type": "stream",
     "text": [
      "[{'lastName': 'Navarro', 'singleCount': 1}, {'lastName': 'Pillar', 'singleCount': 1}]\n"
     ]
    }
   ],
   "source": [
    "singless =  getSingles(boxscore_page)\n",
    "print singless"
   ]
  },
  {
   "cell_type": "code",
   "execution_count": 511,
   "metadata": {
    "collapsed": true
   },
   "outputs": [],
   "source": [
    "#function to get all urls from a team's schedule then get all the batter information\n",
    "def getAllTeamBattingStats(t_schedule):\n",
    "    #variable to store all data records to be inputted into excel\n",
    "    data = []\n",
    "    #get all the urls\n",
    "    urlList = getListofBoxscoreURLs(team_schedule_table)\n",
    "    #open each boxscore page to grab info\n",
    "    for url in urlList:\n",
    "        try:\n",
    "            boxscore_page = urllib.urlopen(url).read()\n",
    "            boxscore_page = BeautifulSoup(boxscore_page)\n",
    "            singlesList = getSingles(boxscore_page)\n",
    "            data = data + getTeamBattingStats(boxscore_page, singlesList)\n",
    "        except:\n",
    "            continue\n",
    "    return data"
   ]
  },
  {
   "cell_type": "code",
   "execution_count": 512,
   "metadata": {
    "collapsed": false
   },
   "outputs": [],
   "source": [
    "data = getAllTeamBattingStats(team_schedule_table)"
   ]
  },
  {
   "cell_type": "code",
   "execution_count": 513,
   "metadata": {
    "collapsed": false
   },
   "outputs": [],
   "source": [
    "import pandas as pd\n",
    "import numpy as np"
   ]
  },
  {
   "cell_type": "code",
   "execution_count": 514,
   "metadata": {
    "collapsed": false
   },
   "outputs": [],
   "source": [
    "df = pd.DataFrame(data)"
   ]
  },
  {
   "cell_type": "code",
   "execution_count": 515,
   "metadata": {
    "collapsed": false
   },
   "outputs": [],
   "source": [
    "df.to_excel('test.xlsx', sheet_name='sheet1', index=False)"
   ]
  },
  {
   "cell_type": "code",
   "execution_count": null,
   "metadata": {
    "collapsed": true
   },
   "outputs": [],
   "source": []
  }
 ],
 "metadata": {
  "kernelspec": {
   "display_name": "Python 2",
   "language": "python",
   "name": "python2"
  },
  "language_info": {
   "codemirror_mode": {
    "name": "ipython",
    "version": 2
   },
   "file_extension": ".py",
   "mimetype": "text/x-python",
   "name": "python",
   "nbconvert_exporter": "python",
   "pygments_lexer": "ipython2",
   "version": "2.7.11"
  }
 },
 "nbformat": 4,
 "nbformat_minor": 0
}
