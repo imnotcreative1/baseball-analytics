{
 "cells": [
  {
   "cell_type": "code",
   "execution_count": 307,
   "metadata": {
    "collapsed": false
   },
   "outputs": [
    {
     "data": {
      "text/plain": [
       "'\\nScraping date from baseball-reference.com\\nThis file is specifically for getting information that will be used to predict the probability of a batter hitting a \\nsingle.\\nNotes:\\n    -Specific to the blue jays\\n    -Specific to the year\\n-Matthew Sims\\n'"
      ]
     },
     "execution_count": 307,
     "metadata": {},
     "output_type": "execute_result"
    }
   ],
   "source": [
    "'''\n",
    "Scraping date from baseball-reference.com\n",
    "This file is specifically for getting information that will be used to predict the probability of a batter hitting a \n",
    "single.\n",
    "Notes:\n",
    "    -Specific to the blue jays\n",
    "    -Specific to the year\n",
    "-Matthew Sims\n",
    "'''"
   ]
  },
  {
   "cell_type": "code",
   "execution_count": 308,
   "metadata": {
    "collapsed": true
   },
   "outputs": [],
   "source": [
    "#list of libraries being imported\n",
    "from bs4 import BeautifulSoup\n",
    "import urllib\n",
    "import collections"
   ]
  },
  {
   "cell_type": "code",
   "execution_count": 309,
   "metadata": {
    "collapsed": true
   },
   "outputs": [],
   "source": [
    "#global variables\n",
    "_home_team = \"\"\n",
    "_away_team = \"\"\n",
    "_batter_team = \"\"\n",
    "_date = \"\""
   ]
  },
  {
   "cell_type": "code",
   "execution_count": 310,
   "metadata": {
    "collapsed": false
   },
   "outputs": [],
   "source": [
    "#function used to convert the date from the form (year, month_name day_number) to (yyyymmdd)\n",
    "def dateConversion(oldDate):\n",
    "    newDate = \"\"\n",
    "    month = \"\"\n",
    "    day_num = \"\"\n",
    "    dateSystemDict = {\"Jan\": \"01\",\n",
    "                      \"Feb\": \"02\",\n",
    "                      \"Mar\": \"03\",\n",
    "                      \"Apr\": \"04\",\n",
    "                      \"May\": \"05\",\n",
    "                      \"Jun\": \"06\",\n",
    "                      \"Jul\": \"07\",\n",
    "                      \"Aug\": \"08\",\n",
    "                      \"Sep\": \"09\",\n",
    "                      \"Oct\": \"10\",\n",
    "                      \"Nov\": \"11\",\n",
    "                      \"Dec\": \"12\"}\n",
    "    oldDate = oldDate.split(' ') #the default is space, but it is used here to be explicit\n",
    "    splitSize = len(oldDate)\n",
    "    month = dateSystemDict[oldDate[splitSize-2]]\n",
    "    day_num = oldDate[splitSize-1]\n",
    "    if (len(day_num) == 1):\n",
    "        day_num = \"0\" + day_num\n",
    "    elif (len(day_num) < 1 or len(day_num) > 2):\n",
    "        print \"error getting date from schedule table\"\n",
    "    newDate = year + month + day_num\n",
    "    return newDate\n",
    "        "
   ]
  },
  {
   "cell_type": "code",
   "execution_count": 311,
   "metadata": {
    "collapsed": true
   },
   "outputs": [],
   "source": [
    "#function to change the team abbreviation if needed\n",
    "#the team abrs used in the table do not match up with the ones used in the url for boxscores\n",
    "def teamAbrConversion(teamAbr):\n",
    "    teamAbrDict = {\"NYY\":\"NYA\",\n",
    "                   \"TBR\":\"TBA\",\n",
    "                   \"WSN\":\"WAS\",\n",
    "                   \"NYM\":\"NYN\",\n",
    "                   \"CHW\":\"CHA\",\n",
    "                   \"KCR\":\"KCA\",\n",
    "                   \"LAA\":\"ANA\"}\n",
    "    if (teamAbrDict.has_key(teamAbr)):\n",
    "        return teamAbrDict[teamAbr]\n",
    "    return teamAbr"
   ]
  },
  {
   "cell_type": "code",
   "execution_count": 312,
   "metadata": {
    "collapsed": false
   },
   "outputs": [],
   "source": [
    "#function to loop through a team's schedule a grab all the url needed to request boxscores\n",
    "#hard-coded Toronto as the home team\n",
    "def getListofBoxscoreURLs(schedule_table):\n",
    "    listOfUrls = []\n",
    "    #get a list of all the rows in the schedule table\n",
    "    team_schedule_rows = schedule_table.find_all('tr')\n",
    "    team_schedule_rows.pop(0)\n",
    "    for a_row in team_schedule_rows:\n",
    "        try:\n",
    "            columns = a_row.find_all(\"td\")\n",
    "            base_url = \"http://www.baseball-reference.com/boxes/\"\n",
    "            end_url = \"0.shtml\"\n",
    "            oldTeamAbr = a_row.find(id=\"Click for standings on this date\")\n",
    "            _date = dateConversion(a_row.find(title=\"Click for standings on this date\").get_text())\n",
    "            #find the home team by first looking in the row for an @ symbol\n",
    "            TeamAbr = \"\"\n",
    "            global _home_team\n",
    "            global _away_team\n",
    "            _batting_team = teamAbrConversion(abr1[team_index])\n",
    "            if (\"@\" in columns[5].get_text()):\n",
    "                TeamAbr = teamAbrConversion(columns[6].get_text())\n",
    "                _home_team = TeamAbr\n",
    "                _away_team = teamAbrConversion(abr1[team_index])\n",
    "            else:\n",
    "                TeamAbr = teamAbrConversion(abr1[team_index])\n",
    "                _away_team = TeamAbr\n",
    "                _home_team = teamAbrConversion(abr1[team_index])\n",
    "            url = base_url + TeamAbr + '/' + TeamAbr + _date + end_url \n",
    "            listOfUrls.append(url.encode('utf-8'))\n",
    "        except:\n",
    "            continue\n",
    "    return listOfUrls"
   ]
  },
  {
   "cell_type": "code",
   "execution_count": 313,
   "metadata": {
    "collapsed": true
   },
   "outputs": [],
   "source": [
    "testURL = \"http://www.baseball-reference.com/boxes/NYA/NYA201504060.shtml\""
   ]
  },
  {
   "cell_type": "code",
   "execution_count": 314,
   "metadata": {
    "collapsed": true
   },
   "outputs": [],
   "source": [
    "#function to check if event occurred\n",
    "#fix later\n",
    "def searchforEvent(count_label, event_list, columns):\n",
    "    '''nameFound = False\n",
    "    lastName = columns[7].get_text().split()\n",
    "    lastName = lastName[len(lastName)-1]\n",
    "    event_dict = {\"lastName\":lastName.encode('utf-8'), count_label: 1}\n",
    "    for j in range(0, len(event_list)):\n",
    "        if (event_list[j][\"lastName\"] == lastName):\n",
    "            #print lastName\n",
    "            nameFound = True\n",
    "            event_list[j][count_label] += 1\n",
    "    if (not nameFound):\n",
    "        event_list.append(event_dict)\n",
    "    return  event_list'''\n",
    "    nameFound = False\n",
    "    lastName = columns[7].get_text().split()\n",
    "    lastName = lastName[len(lastName)-1]\n",
    "    singleDict = {\"lastName\":lastName.encode('utf-8'), \"singleCount\": 1}\n",
    "    for j in range(0, len(singlesList)):\n",
    "        if (singlesList[j][\"lastName\"] == lastName):\n",
    "            #print lastName\n",
    "            nameFound = True\n",
    "            singlesList[j][\"singleCount\"] += 1\n",
    "    if (not nameFound):\n",
    "        singlesList.append(singleDict)\n",
    "    return singlesList"
   ]
  },
  {
   "cell_type": "code",
   "execution_count": 315,
   "metadata": {
    "collapsed": false
   },
   "outputs": [],
   "source": [
    "#function to scan through the play-by-play finding an event in the description to get the event stats for each plater\n",
    "def getSingles(page):\n",
    "    singlesList = []\n",
    "    doublesList = []\n",
    "    triplesList = []\n",
    "    walksList = []\n",
    "    home_runsList = []\n",
    "    play_by_play_table = page.find(id=\"play_by_play\")\n",
    "    play_by_play_rows = play_by_play_table.find_all('tr')\n",
    "    for i in range(0, len(play_by_play_rows)):\n",
    "        try:\n",
    "            columns = play_by_play_rows[i].find_all('td')\n",
    "            event = columns[len(columns)-1].get_text()\n",
    "            if ('Single' in event):\n",
    "                nameFound = False\n",
    "                lastName = columns[7].get_text().split()\n",
    "                lastName = lastName[len(lastName)-1]\n",
    "                singleDict = {\"lastName\":lastName.encode('utf-8'), \"singleCount\": 1}\n",
    "                for j in range(0, len(singlesList)):\n",
    "                    if (singlesList[j][\"lastName\"] == lastName):\n",
    "                        #print lastName\n",
    "                        nameFound = True\n",
    "                        singlesList[j][\"singleCount\"] += 1\n",
    "                if (not nameFound):\n",
    "                    singlesList.append(singleDict)\n",
    "            elif ('Double' in event):\n",
    "                nameFound = False\n",
    "                lastName = columns[7].get_text().split()\n",
    "                lastName = lastName[len(lastName)-1]\n",
    "                doubleDict = {\"lastName\":lastName.encode('utf-8'), \"doubleCount\": 1}\n",
    "                for j in range(0, len(doublesList)):\n",
    "                    if (doublesList[j][\"lastName\"] == lastName):\n",
    "                        #print lastName\n",
    "                        nameFound = True\n",
    "                        doublesList[j][\"doubleCount\"] += 1\n",
    "                if (not nameFound):\n",
    "                    doublesList.append(doubleDict)\n",
    "            elif ('Triple' in event):\n",
    "                nameFound = False\n",
    "                lastName = columns[7].get_text().split()\n",
    "                lastName = lastName[len(lastName)-1]\n",
    "                tripleDict = {\"lastName\":lastName.encode('utf-8'), \"tripleCount\": 1}\n",
    "                for j in range(0, len(triplesList)):\n",
    "                    if (triplesList[j][\"lastName\"] == lastName):\n",
    "                        #print lastName\n",
    "                        nameFound = True\n",
    "                        tripleList[j][\"tripleCount\"] += 1\n",
    "                if (not nameFound):\n",
    "                    triplesList.append(tripleDict)\n",
    "            elif ('Walk' in event):\n",
    "                nameFound = False\n",
    "                lastName = columns[7].get_text().split()\n",
    "                lastName = lastName[len(lastName)-1]\n",
    "                walkDict = {\"lastName\":lastName.encode('utf-8'), \"walkCount\": 1}\n",
    "                for j in range(0, len(walksList)):\n",
    "                    if (triplesList[j][\"lastName\"] == lastName):\n",
    "                        #print lastName\n",
    "                        nameFound = True\n",
    "                        walkList[j][\"walkCount\"] += 1\n",
    "                if (not nameFound):\n",
    "                    walksList.append(walkDict)\n",
    "            elif ('Home Run' in event):\n",
    "                nameFound = False\n",
    "                lastName = columns[7].get_text().split()\n",
    "                lastName = lastName[len(lastName)-1]\n",
    "                home_runDict = {\"lastName\":lastName.encode('utf-8'), \"home_runCount\": 1}\n",
    "                for j in range(0, len(home_runsList)):\n",
    "                    if (home_runsList[j][\"lastName\"] == lastName):\n",
    "                        #print lastName\n",
    "                        nameFound = True\n",
    "                        home_runsList[j][\"home_runCount\"] += 1\n",
    "                if (not nameFound):\n",
    "                    home_runsList.append(home_runDict)\n",
    "        except:\n",
    "            continue\n",
    "    return {\"singles\":singlesList, \"doubles\":doublesList, \"triples\":triplesList, \"walks\":walksList, \"home_runs\":\n",
    "            home_runsList}\n",
    "        "
   ]
  },
  {
   "cell_type": "code",
   "execution_count": 316,
   "metadata": {
    "collapsed": false
   },
   "outputs": [],
   "source": [
    "#function to return the opposing pitcher on the day\n",
    "#getPitcher from the play by play table\n",
    "def getPitcher(page, batter):\n",
    "    play_by_play_table = page.find(id=\"play_by_play\")\n",
    "    play_by_play_rows = play_by_play_table.find_all('tr')\n",
    "    for i in range(0, len(play_by_play_rows)):\n",
    "        try:\n",
    "            columns = play_by_play_rows[i].find_all('td')\n",
    "            b_lastName = columns[7].get_text().split()\n",
    "            b_lastName = b_lastName[len(b_lastName)-1]\n",
    "            if (b_lastName in batter):\n",
    "                p_lastName = columns[8].get_text().split()\n",
    "                p_lastName = p_lastName[len(p_lastName)-1]\n",
    "                return p_lastName.encode('utf-8')\n",
    "        except:\n",
    "            continue\n",
    "    return \"failed to find pitcher\"\n",
    "        "
   ]
  },
  {
   "cell_type": "code",
   "execution_count": 327,
   "metadata": {
    "collapsed": true
   },
   "outputs": [],
   "source": [
    "def getPitchingStats(page):\n",
    "    boxscore_batting_table = page.find(id=currentTeam[team_index] + \"pitching\")\n",
    "    pitcher_rows = boxscore_batting_table.find_all('tr')\n",
    "    pitcher_rows.pop(0)\n",
    "    gamePitchingStats = []\n",
    "    for i in range (0,len(pitcher_rows)-1):\n",
    "        record = {\"name\":\"\",\n",
    "                  \"IP\": 0,\n",
    "                  \"H\": 0,\n",
    "                  \"BF\": 0,}\n",
    "        attributes = pitcher_rows[i].find_all('td')\n",
    "        name = attributes[0].get_text().split(\",\")[0]\n",
    "\n",
    "        record[\"name\"] = name.strip().encode('utf-8')\n",
    "        record[\"IP\"] = (attributes[1].get_text()).encode('utf-8')\n",
    "        record[\"H\"] = (attributes[2].get_text()).encode('utf-8')\n",
    "        record[\"BF\"] = (attributes[9].get_text()).encode('utf-8')\n",
    "        gamePitchingStats.append(record)\n",
    "    return gamePitchingStats"
   ]
  },
  {
   "cell_type": "code",
   "execution_count": 328,
   "metadata": {
    "collapsed": true
   },
   "outputs": [],
   "source": [
    "#function to get all urls from a team's schedule then get all the batter information\n",
    "def getAllTeamPitchingStats(t_schedule):\n",
    "    #variable to store all data records to be inputted into excel\n",
    "    data = []\n",
    "    #get all the urls\n",
    "    urlList = getListofBoxscoreURLs(t_schedule)\n",
    "    #open each boxscore page to grab info\n",
    "    for i in range (0,len(urlList[0:2])):\n",
    "        boxscore_page = urllib.urlopen(urlList[i]).read()\n",
    "        boxscore_page = BeautifulSoup(boxscore_page)\n",
    "        data = data + getPitchingStats(boxscore_page)\n",
    "    return data"
   ]
  },
  {
   "cell_type": "code",
   "execution_count": 317,
   "metadata": {
    "collapsed": false
   },
   "outputs": [],
   "source": [
    "#hard-coded for the Toronto Blue Jays\n",
    "#column accesses are hard_coded by index\n",
    "#for boxscoreURL in urlList:\n",
    "    #opening the boxscore page \n",
    "def getTeamBattingStats(page, listOfSingles, listOfDoubles, listOfTriples, listOfWalks, listOfHomeRuns):\n",
    "    boxscore_batting_table = page.find(id=currentTeam[team_index] + \"batting\")\n",
    "    batter_rows = boxscore_batting_table.find_all('tr')\n",
    "    batter_rows.pop(0)\n",
    "    gameBattingStats = []\n",
    "    for batter_info in batter_rows:\n",
    "        foundName = False\n",
    "        record = {\"name\":\"\",\n",
    "                  \"PA\": 0,\n",
    "                  \"OBP\": 0,\n",
    "                  \"SLG\": 0,\n",
    "                  \"singles\": 0,\n",
    "                  \"doubles\": 0,\n",
    "                  \"triples\": 0,\n",
    "                  \"walks\":0,\n",
    "                  \"home_runs\":0,\n",
    "                  \"pitcher_name\": \"\",\n",
    "                  \"pitcher_OBP\": 0,\n",
    "                  \"defensive_efficiency\": 0,\n",
    "                  \"batter_team\": currentTeam[team_index],\n",
    "                  \"home_team\": _home_team,\n",
    "                  \"away_team\": _away_team,\n",
    "                  \"date\": _date}\n",
    "        attributes = batter_info.find_all('td')\n",
    "        name = attributes[0].get_text().strip().split(' ')\n",
    "        name.pop(len(name)-1)\n",
    "        record[\"name\"] = ' '.join(name).strip().encode('utf-8')\n",
    "        record[\"PA\"] = (attributes[7].get_text()).encode('utf-8')\n",
    "        record[\"OBP\"] = (attributes[9].get_text()).encode('utf-8')\n",
    "        record[\"SLG\"] = (attributes[10].get_text()).encode('utf-8')\n",
    "        record[\"pitcher_name\"] = getPitcher(page, record[\"name\"])\n",
    "        if (record[\"pitcher_name\"] != \"failed to find pitcher\" and record[\"PA\"] != \"\"):\n",
    "            for single in listOfSingles:\n",
    "                if (single[\"lastName\"] in record[\"name\"]):\n",
    "                    record[\"singles\"] = single[\"singleCount\"]\n",
    "                    break\n",
    "            for double in listOfDoubles:\n",
    "                #print double\n",
    "                if (double[\"lastName\"] in record[\"name\"]):\n",
    "                    record[\"doubles\"] = double[\"doubleCount\"]\n",
    "                    break\n",
    "            for triple in listOfTriples:\n",
    "                if (triple[\"lastName\"] in record[\"name\"]):\n",
    "                    record[\"triples\"] = triple[\"tripleCount\"]\n",
    "                    break\n",
    "            for walk in listOfWalks:\n",
    "                if (walk[\"lastName\"] in record[\"name\"]):\n",
    "                    record[\"walks\"] = walk[\"walkCount\"]\n",
    "                    break\n",
    "            for home_run in listOfHomeRuns:\n",
    "                if (home_run[\"lastName\"] in record[\"name\"]):\n",
    "                    record[\"home_runs\"] = home_run[\"home_runCount\"]\n",
    "                    break\n",
    "            gameBattingStats.append(record)\n",
    "    return gameBattingStats\n",
    "    \n"
   ]
  },
  {
   "cell_type": "code",
   "execution_count": 318,
   "metadata": {
    "collapsed": false
   },
   "outputs": [
    {
     "name": "stdout",
     "output_type": "stream",
     "text": [
      "[{'lastName': 'Teixeira', 'doubleCount': 1}, {'lastName': 'Smoak', 'doubleCount': 1}, {'lastName': 'Gregorius', 'doubleCount': 1}, {'lastName': 'Young', 'doubleCount': 1}]\n"
     ]
    }
   ],
   "source": [
    "boxscore_page = urllib.urlopen(\"http://www.baseball-reference.com/boxes/NYA/NYA201504080.shtml\").read()\n",
    "boxscore_page = BeautifulSoup(boxscore_page)\n",
    "singless =  getDoubles(boxscore_page)\n",
    "print singless"
   ]
  },
  {
   "cell_type": "code",
   "execution_count": 319,
   "metadata": {
    "collapsed": false
   },
   "outputs": [],
   "source": [
    "#function to get all urls from a team's schedule then get all the batter information\n",
    "def getAllTeamBattingStats(t_schedule):\n",
    "    #variable to store all data records to be inputted into excel\n",
    "    data = []\n",
    "    #get all the urls\n",
    "    urlList = getListofBoxscoreURLs(t_schedule)\n",
    "    #open each boxscore page to grab info\n",
    "    for url in urlList[0:3]:\n",
    "        try:\n",
    "            boxscore_page = urllib.urlopen(url).read()\n",
    "            boxscore_page = BeautifulSoup(boxscore_page)\n",
    "            events = getSingles(boxscore_page) \n",
    "            data = data + getTeamBattingStats(boxscore_page, events[\"singles\"], events[\"doubles\"], events[\"triples\"],\n",
    "                                              events[\"walks\"], events[\"home_runs\"])\n",
    "            print url\n",
    "        except:\n",
    "            print \"fails:\" + url\n",
    "    return data"
   ]
  },
  {
   "cell_type": "code",
   "execution_count": 320,
   "metadata": {
    "collapsed": false
   },
   "outputs": [
    {
     "name": "stdout",
     "output_type": "stream",
     "text": [
      "TorontoBlueJays\n",
      "http://www.baseball-reference.com/boxes/NYA/NYA201504060.shtml\n",
      "http://www.baseball-reference.com/boxes/NYA/NYA201504080.shtml\n",
      "http://www.baseball-reference.com/boxes/NYA/NYA201504090.shtml\n",
      "NewYorkYankees\n",
      "http://www.baseball-reference.com/boxes/NYA/NYA201504060.shtml\n",
      "http://www.baseball-reference.com/boxes/NYA/NYA201504080.shtml\n",
      "http://www.baseball-reference.com/boxes/NYA/NYA201504090.shtml\n",
      "BostonRedSox\n",
      "http://www.baseball-reference.com/boxes/PHI/PHI201504060.shtml\n",
      "http://www.baseball-reference.com/boxes/PHI/PHI201504080.shtml\n",
      "http://www.baseball-reference.com/boxes/PHI/PHI201504090.shtml\n"
     ]
    }
   ],
   "source": [
    "#global variables\n",
    "currentTeam = [\"TorontoBlueJays\", \"NewYorkYankees\", \"BostonRedSox\", \"BaltimoreOrioles\", \"TampaBayRays\", \n",
    "               \"DetroitTigers\", \"NewYorkMets\", \"KansasCityRoyals\", \"WashingtonNationals\", \"TexasRangers\",\n",
    "               \"OaklandAthletics\", \"MiamiMarlins\", \"PhiladelphiaPhillies\", \"HoustonAstros\", \"SeattleMariners\",\n",
    "               \"MinnesotaTwins\", \"ChicagoWhiteSox\", \"ClevelandIndians\", \"AtlantaBraves\", \"AnaheimAngels\"]\n",
    "abr1 = [\"TOR\", \"NYY\", \"BOS\", \"BAL\", \"TBR\", \"DET\", \"NYM\", \"KCR\", \"WSN\", \"TEX\", \"OAK\", \"MIA\", \"PHI\", \"HOU\", \"SEA\",\n",
    "        \"MIN\", \"CHW\", \"CLE\", \"ATL\", \"LAA\"]\n",
    "year = \"2015\"\n",
    "data = []\n",
    "for team_index in range(0, len(currentTeam[0:3])):\n",
    "    currentTeamURL = \"http://www.baseball-reference.com/teams/\" + abr1[team_index] + \"/2015-schedule-scores.shtml\"\n",
    "    #print currentTeamURL\n",
    "    #opening the team schedule page \n",
    "    try:\n",
    "        print currentTeam[team_index]\n",
    "        team_schedule = urllib.urlopen(currentTeamURL).read()\n",
    "        team_schedule = BeautifulSoup(team_schedule)\n",
    "        team_schedule_table = team_schedule.find(id=\"team_schedule\")\n",
    "        data = data + getAllTeamBattingStats(team_schedule_table)\n",
    "    except:\n",
    "        print \"fail:\" + currentTeamURL"
   ]
  },
  {
   "cell_type": "code",
   "execution_count": 321,
   "metadata": {
    "collapsed": false
   },
   "outputs": [],
   "source": [
    "import pandas as pd\n",
    "import numpy as np"
   ]
  },
  {
   "cell_type": "code",
   "execution_count": 322,
   "metadata": {
    "collapsed": false
   },
   "outputs": [],
   "source": [
    "df = pd.DataFrame(data)"
   ]
  },
  {
   "cell_type": "code",
   "execution_count": 326,
   "metadata": {
    "collapsed": false
   },
   "outputs": [],
   "source": [
    "df.to_excel('test2.xlsx', sheet_name='sheet1', index=False)"
   ]
  },
  {
   "cell_type": "code",
   "execution_count": 324,
   "metadata": {
    "collapsed": false
   },
   "outputs": [
    {
     "name": "stdout",
     "output_type": "stream",
     "text": [
      "      OBP PA    SLG away_team      batter_team date  defensive_efficiency  \\\n",
      "0    .250  5   .000       TOR  TorontoBlueJays                          0   \n",
      "1    .400  5   .250       TOR  TorontoBlueJays                          0   \n",
      "2    .000  5   .000       TOR  TorontoBlueJays                          0   \n",
      "3    .250  4  1.000       TOR  TorontoBlueJays                          0   \n",
      "4    .000  4   .000       TOR  TorontoBlueJays                          0   \n",
      "5    .250  4   .250       TOR  TorontoBlueJays                          0   \n",
      "6    .250  4   .000       TOR  TorontoBlueJays                          0   \n",
      "7    .500  4   .500       TOR  TorontoBlueJays                          0   \n",
      "8    .750  4  2.000       TOR  TorontoBlueJays                          0   \n",
      "9    .222  5   .125       TOR  TorontoBlueJays                          0   \n",
      "10   .222  4   .143       TOR  TorontoBlueJays                          0   \n",
      "11   .111  4   .000       TOR  TorontoBlueJays                          0   \n",
      "12   .375  4   .750       TOR  TorontoBlueJays                          0   \n",
      "13   .125  4   .000       TOR  TorontoBlueJays                          0   \n",
      "14   .250  4   .000       TOR  TorontoBlueJays                          0   \n",
      "15   .375  4   .375       TOR  TorontoBlueJays                          0   \n",
      "16   .333  3   .667       TOR  TorontoBlueJays                          0   \n",
      "17   .000  1   .000       TOR  TorontoBlueJays                          0   \n",
      "18   .625  4  1.000       TOR  TorontoBlueJays                          0   \n",
      "19   .308  4   .250       TOR  TorontoBlueJays                          0   \n",
      "20   .154  4   .091       TOR  TorontoBlueJays                          0   \n",
      "21   .077  4   .000       TOR  TorontoBlueJays                          0   \n",
      "22   .417  4   .917       TOR  TorontoBlueJays                          0   \n",
      "23   .250  4   .182       TOR  TorontoBlueJays                          0   \n",
      "24   .500  3   .500       TOR  TorontoBlueJays                          0   \n",
      "25   .250  1   .500       TOR  TorontoBlueJays                          0   \n",
      "26   .333  4   .333       TOR  TorontoBlueJays                          0   \n",
      "27   .000  2   .000       TOR  TorontoBlueJays                          0   \n",
      "28   .200  2   .000       TOR  TorontoBlueJays                          0   \n",
      "29   .455  3   .667       TOR  TorontoBlueJays                          0   \n",
      "..    ... ..    ...       ...              ...  ...                   ...   \n",
      "63   .600  5  2.000       BOS     BostonRedSox                          0   \n",
      "64   .000  5   .000       BOS     BostonRedSox                          0   \n",
      "65   .400  5   .000       BOS     BostonRedSox                          0   \n",
      "66   .250  4   .000       BOS     BostonRedSox                          0   \n",
      "67   .500  4   .333       BOS     BostonRedSox                          0   \n",
      "68   .000  3   .000       BOS     BostonRedSox                          0   \n",
      "69  1.000  1  1.000       BOS     BostonRedSox                          0   \n",
      "70   .333  4   .625       BOS     BostonRedSox                          0   \n",
      "71   .556  4  1.286       BOS     BostonRedSox                          0   \n",
      "72   .333  4   .250       BOS     BostonRedSox                          0   \n",
      "73   .333  4  1.000       BOS     BostonRedSox                          0   \n",
      "74   .200  4   .000       BOS     BostonRedSox                          0   \n",
      "75   .000  4   .000       BOS     BostonRedSox                          0   \n",
      "76   .429  4   .200       BOS     BostonRedSox                          0   \n",
      "77   .250  4   .143       BOS     BostonRedSox                          0   \n",
      "78   .000  2   .000       BOS     BostonRedSox                          0   \n",
      "79   .000  1   .000       BOS     BostonRedSox                          0   \n",
      "80   .286  5   .462       BOS     BostonRedSox                          0   \n",
      "81   .357  5   .750       BOS     BostonRedSox                          0   \n",
      "82   .333  4   .143       BOS     BostonRedSox                          0   \n",
      "83   .167  1   .000       BOS     BostonRedSox                          0   \n",
      "84   .357  5   .769       BOS     BostonRedSox                          0   \n",
      "85   .286  5   .167       BOS     BostonRedSox                          0   \n",
      "86   .400  5   .250       BOS     BostonRedSox                          0   \n",
      "87   .417  5   .125       BOS     BostonRedSox                          0   \n",
      "88   .462  5   .545       BOS     BostonRedSox                          0   \n",
      "89   .667  3   .667       BOS     BostonRedSox                          0   \n",
      "90   .500  1   .500       BOS     BostonRedSox                          0   \n",
      "91         0              BOS     BostonRedSox                          0   \n",
      "92   .000  1   .000       BOS     BostonRedSox                          0   \n",
      "\n",
      "    doubles  home_runs home_team               name  pitcher_OBP pitcher_name  \\\n",
      "0         0          0       TBA         Jose Reyes            0       Tanaka   \n",
      "1         0          0       TBA     Russell Martin            0       Tanaka   \n",
      "2         0          0       TBA      Jose Bautista            0       Tanaka   \n",
      "3         0          1       TBA  Edwin Encarnacion            0       Tanaka   \n",
      "4         0          0       TBA     Josh Donaldson            0       Tanaka   \n",
      "5         0          0       TBA     Dioner Navarro            0       Tanaka   \n",
      "6         0          0       TBA      Dalton Pompey            0       Tanaka   \n",
      "7         0          0       TBA       Kevin Pillar            0       Tanaka   \n",
      "8         0          1       TBA       Devon Travis            0       Tanaka   \n",
      "9         0          0       TBA         Jose Reyes            0       Pineda   \n",
      "10        0          0       TBA     Russell Martin            0       Pineda   \n",
      "11        0          0       TBA      Jose Bautista            0       Pineda   \n",
      "12        0          0       TBA  Edwin Encarnacion            0       Pineda   \n",
      "13        0          0       TBA     Josh Donaldson            0       Pineda   \n",
      "14        0          0       TBA      Dalton Pompey            0       Pineda   \n",
      "15        0          0       TBA       Kevin Pillar            0       Pineda   \n",
      "16        1          0       TBA       Justin Smoak            0       Pineda   \n",
      "17        0          0       TBA     Danny Valencia            0       Miller   \n",
      "18        0          0       TBA       Devon Travis            0       Pineda   \n",
      "19        0          0       TBA         Jose Reyes            0     Sabathia   \n",
      "20        1          0       TBA     Russell Martin            0     Sabathia   \n",
      "21        0          0       TBA      Jose Bautista            0     Sabathia   \n",
      "22        0          1       TBA  Edwin Encarnacion            0     Sabathia   \n",
      "23        0          0       TBA     Josh Donaldson            0     Sabathia   \n",
      "24        0          0       TBA     Danny Valencia            0     Sabathia   \n",
      "25        0          0       TBA       Justin Smoak            0    Carpenter   \n",
      "26        0          0       TBA       Kevin Pillar            0     Sabathia   \n",
      "27        0          0       TBA    Steven Tolleson            0     Sabathia   \n",
      "28        0          0       TBA      Dalton Pompey            0       Rogers   \n",
      "29        0          0       TBA       Devon Travis            0     Sabathia   \n",
      "..      ...        ...       ...                ...          ...          ...   \n",
      "63        1          2       CLE     Hanley Ramirez            0       Hamels   \n",
      "64        0          0       CLE     Pablo Sandoval            0       Hamels   \n",
      "65        0          0       CLE    Shane Victorino            0       Hamels   \n",
      "66        0          0       CLE    Xander Bogaerts            0       Hamels   \n",
      "67        0          0       CLE       Ryan Hanigan            0       Hamels   \n",
      "68        0          0       CLE      Clay Buchholz            0       Hamels   \n",
      "69        0          0       CLE        Allen Craig            0      Diekman   \n",
      "70        0          0       CLE       Mookie Betts            0       Harang   \n",
      "71        0          0       CLE     Dustin Pedroia            0       Harang   \n",
      "72        0          0       CLE     Pablo Sandoval            0       Harang   \n",
      "73        0          0       CLE     Hanley Ramirez            0       Harang   \n",
      "74        1          0       CLE        Mike Napoli            0       Harang   \n",
      "75        0          0       CLE        Daniel Nava            0       Harang   \n",
      "76        0          0       CLE       Ryan Hanigan            0       Harang   \n",
      "77        0          0       CLE    Xander Bogaerts            0       Harang   \n",
      "78        0          0       CLE      Rick Porcello            0       Harang   \n",
      "79        0          0       CLE        David Ortiz            0        Giles   \n",
      "80        0          0       CLE       Mookie Betts            0     Buchanan   \n",
      "81        0          0       CLE     Dustin Pedroia            0     Buchanan   \n",
      "82        0          0       CLE        David Ortiz            0     Buchanan   \n",
      "83        0          0       CLE        Mike Napoli            0       Garcia   \n",
      "84        0          0       CLE     Hanley Ramirez            0     Buchanan   \n",
      "85        0          0       CLE     Pablo Sandoval            0     Buchanan   \n",
      "86        0          0       CLE    Shane Victorino            0     Buchanan   \n",
      "87        1          0       CLE       Ryan Hanigan            0     Buchanan   \n",
      "88        0          0       CLE    Xander Bogaerts            0     Buchanan   \n",
      "89        0          0       CLE   Justin Masterson            0     Buchanan   \n",
      "90        0          0       CLE        Allen Craig            0       Fratus   \n",
      "91        0          0       CLE      Craig Breslow            0       Fratus   \n",
      "92        0          0       CLE         Brock Holt            0      Diekman   \n",
      "\n",
      "    singles  triples  walks  \n",
      "0         0        0      0  \n",
      "1         1        0      0  \n",
      "2         0        0      0  \n",
      "3         0        0      0  \n",
      "4         0        0      0  \n",
      "5         1        0      0  \n",
      "6         0        0      0  \n",
      "7         2        0      0  \n",
      "8         0        0      1  \n",
      "9         1        0      0  \n",
      "10        0        0      0  \n",
      "11        0        0      0  \n",
      "12        2        0      0  \n",
      "13        0        0      0  \n",
      "14        0        0      0  \n",
      "15        1        0      0  \n",
      "16        0        0      0  \n",
      "17        0        0      0  \n",
      "18        2        0      0  \n",
      "19        2        0      0  \n",
      "20        0        0      0  \n",
      "21        0        0      0  \n",
      "22        1        0      0  \n",
      "23        2        0      0  \n",
      "24        2        0      0  \n",
      "25        0        0      0  \n",
      "26        1        0      0  \n",
      "27        0        0      0  \n",
      "28        0        0      0  \n",
      "29        0        0      0  \n",
      "..      ...      ...    ...  \n",
      "63        0        0      0  \n",
      "64        0        0      0  \n",
      "65        0        0      1  \n",
      "66        0        0      0  \n",
      "67        1        0      0  \n",
      "68        0        0      0  \n",
      "69        1        0      0  \n",
      "70        0        0      0  \n",
      "71        0        0      0  \n",
      "72        2        0      0  \n",
      "73        0        0      0  \n",
      "74        0        0      0  \n",
      "75        0        0      0  \n",
      "76        0        0      0  \n",
      "77        1        0      0  \n",
      "78        0        0      0  \n",
      "79        0        0      0  \n",
      "80        1        0      0  \n",
      "81        0        0      0  \n",
      "82        1        0      1  \n",
      "83        0        0      0  \n",
      "84        2        0      0  \n",
      "85        0        0      0  \n",
      "86        2        0      0  \n",
      "87        0        0      0  \n",
      "88        2        1      0  \n",
      "89        2        0      0  \n",
      "90        0        0      0  \n",
      "91        0        0      0  \n",
      "92        0        0      0  \n",
      "\n",
      "[93 rows x 16 columns]\n"
     ]
    }
   ],
   "source": [
    "print df"
   ]
  },
  {
   "cell_type": "code",
   "execution_count": 155,
   "metadata": {
    "collapsed": false
   },
   "outputs": [
    {
     "name": "stdout",
     "output_type": "stream",
     "text": [
      "\n"
     ]
    }
   ],
   "source": [
    "print _home_team"
   ]
  },
  {
   "cell_type": "code",
   "execution_count": null,
   "metadata": {
    "collapsed": true
   },
   "outputs": [],
   "source": []
  }
 ],
 "metadata": {
  "kernelspec": {
   "display_name": "Python 2",
   "language": "python",
   "name": "python2"
  },
  "language_info": {
   "codemirror_mode": {
    "name": "ipython",
    "version": 2
   },
   "file_extension": ".py",
   "mimetype": "text/x-python",
   "name": "python",
   "nbconvert_exporter": "python",
   "pygments_lexer": "ipython2",
   "version": "2.7.11"
  }
 },
 "nbformat": 4,
 "nbformat_minor": 0
}
