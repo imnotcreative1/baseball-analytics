{
 "cells": [
  {
   "cell_type": "code",
   "execution_count": 124,
   "metadata": {
    "collapsed": false
   },
   "outputs": [
    {
     "data": {
      "text/plain": [
       "'\\nScraping date from baseball-reference.com\\nThis file is specifically for getting information that will be used to predict the probability of a batter hitting a \\nsingle.\\nNotes:\\n    -Specific to the blue jays\\n    -Specific to the year\\n-Matthew Sims\\n'"
      ]
     },
     "execution_count": 124,
     "metadata": {},
     "output_type": "execute_result"
    }
   ],
   "source": [
    "'''\n",
    "Scraping date from baseball-reference.com\n",
    "This file is specifically for getting information that will be used to predict the probability of a batter hitting a \n",
    "single.\n",
    "Notes:\n",
    "    -Specific to the blue jays\n",
    "    -Specific to the year\n",
    "-Matthew Sims\n",
    "'''"
   ]
  },
  {
   "cell_type": "code",
   "execution_count": 171,
   "metadata": {
    "collapsed": true
   },
   "outputs": [],
   "source": [
    "#list of libraries being imported\n",
    "from bs4 import BeautifulSoup\n",
    "import urllib\n",
    "import collections\n",
    "import re"
   ]
  },
  {
   "cell_type": "code",
   "execution_count": 172,
   "metadata": {
    "collapsed": true
   },
   "outputs": [],
   "source": [
    "#global variables\n",
    "_home_team = \"\"\n",
    "_away_team = \"\"\n",
    "_batter_team = \"\"\n",
    "_date = \"\""
   ]
  },
  {
   "cell_type": "code",
   "execution_count": 173,
   "metadata": {
    "collapsed": false
   },
   "outputs": [],
   "source": [
    "#function used to convert the date from the form (year, month_name day_number) to (yyyymmdd)\n",
    "def dateConversion(oldDate):\n",
    "    newDate = \"\"\n",
    "    month = \"\"\n",
    "    day_num = \"\"\n",
    "    dateSystemDict = {\"Jan\": \"01\",\n",
    "                      \"Feb\": \"02\",\n",
    "                      \"Mar\": \"03\",\n",
    "                      \"Apr\": \"04\",\n",
    "                      \"May\": \"05\",\n",
    "                      \"Jun\": \"06\",\n",
    "                      \"Jul\": \"07\",\n",
    "                      \"Aug\": \"08\",\n",
    "                      \"Sep\": \"09\",\n",
    "                      \"Oct\": \"10\",\n",
    "                      \"Nov\": \"11\",\n",
    "                      \"Dec\": \"12\"}\n",
    "    oldDate = oldDate.split(' ') #the default is space, but it is used here to be explicit\n",
    "    splitSize = len(oldDate)\n",
    "    month = dateSystemDict[oldDate[splitSize-2]]\n",
    "    day_num = oldDate[splitSize-1]\n",
    "    if (len(day_num) == 1):\n",
    "        day_num = \"0\" + day_num\n",
    "    elif (len(day_num) < 1 or len(day_num) > 2):\n",
    "        print \"error getting date from schedule table\"\n",
    "    newDate = year + month + day_num\n",
    "    return newDate\n",
    "        "
   ]
  },
  {
   "cell_type": "code",
   "execution_count": 174,
   "metadata": {
    "collapsed": true
   },
   "outputs": [],
   "source": [
    "#function to change the team abbreviation if needed\n",
    "#the team abrs used in the table do not match up with the ones used in the url for boxscores\n",
    "def teamAbrConversion(teamAbr):\n",
    "    teamAbrDict = {\"NYY\":\"NYA\",\n",
    "                   \"TBR\":\"TBA\",\n",
    "                   \"WSN\":\"WAS\",\n",
    "                   \"NYM\":\"NYN\",\n",
    "                   \"CHW\":\"CHA\",\n",
    "                   \"KCR\":\"KCA\",\n",
    "                   \"LAA\":\"ANA\"}\n",
    "    if (teamAbrDict.has_key(teamAbr)):\n",
    "        return teamAbrDict[teamAbr]\n",
    "    return teamAbr"
   ]
  },
  {
   "cell_type": "code",
   "execution_count": 207,
   "metadata": {
    "collapsed": false
   },
   "outputs": [],
   "source": [
    "#function to loop through a team's schedule a grab all the url needed to request boxscores\n",
    "#hard-coded Toronto as the home team\n",
    "def getListofBoxscoreURLs(schedule_table):\n",
    "    listOfUrls = []\n",
    "    #get a list of all the rows in the schedule table\n",
    "    team_schedule_rows = schedule_table.find_all('tr')\n",
    "    team_schedule_rows.pop(0)\n",
    "    for a_row in team_schedule_rows:\n",
    "        try:\n",
    "            columns = a_row.find_all(\"td\")\n",
    "            base_url = \"http://www.baseball-reference.com/boxes/\"\n",
    "            end_url = \"0.shtml\"\n",
    "            oldTeamAbr = a_row.find(id=\"Click for standings on this date\")\n",
    "            _date = dateConversion(a_row.find(title=\"Click for standings on this date\").get_text())\n",
    "            #find the home team by first looking in the row for an @ symbol\n",
    "            TeamAbr = \"\"\n",
    "            global _home_team\n",
    "            global _away_team\n",
    "            _batting_team = teamAbrConversion(abr1[team_index])\n",
    "            if (\"@\" in columns[5].get_text()):\n",
    "                TeamAbr = teamAbrConversion(columns[6].get_text())\n",
    "                _home_team = TeamAbr\n",
    "                _away_team = teamAbrConversion(abr1[team_index])\n",
    "            else:\n",
    "                TeamAbr = teamAbrConversion(abr1[team_index])\n",
    "                _away_team = TeamAbr\n",
    "                _home_team = teamAbrConversion(abr1[team_index])\n",
    "            url = base_url + TeamAbr + '/' + TeamAbr + _date + end_url \n",
    "            listOfUrls.append(url.encode('utf-8'))\n",
    "        except:\n",
    "            continue\n",
    "    return listOfUrls"
   ]
  },
  {
   "cell_type": "code",
   "execution_count": 208,
   "metadata": {
    "collapsed": false
   },
   "outputs": [],
   "source": [
    "testURL = \"http://www.baseball-reference.com/boxes/NYA/NYA201504060.shtml\"\n",
    "test_page = urllib.urlopen(\"http://www.baseball-reference.com/teams/TOR/2015-schedule-scores.shtml\").read()\n",
    "test_page = BeautifulSoup(test_page)"
   ]
  },
  {
   "cell_type": "code",
   "execution_count": 209,
   "metadata": {
    "collapsed": true
   },
   "outputs": [],
   "source": [
    "#function to check if event occurred\n",
    "#fix later\n",
    "def searchforEvent(count_label, event_list, columns):\n",
    "    '''nameFound = False\n",
    "    lastName = columns[7].get_text().split()\n",
    "    lastName = lastName[len(lastName)-1]\n",
    "    event_dict = {\"lastName\":lastName.encode('utf-8'), count_label: 1}\n",
    "    for j in range(0, len(event_list)):\n",
    "        if (event_list[j][\"lastName\"] == lastName):\n",
    "            #print lastName\n",
    "            nameFound = True\n",
    "            event_list[j][count_label] += 1\n",
    "    if (not nameFound):\n",
    "        event_list.append(event_dict)\n",
    "    return  event_list'''\n",
    "    nameFound = False\n",
    "    lastName = columns[7].get_text().split()\n",
    "    lastName = lastName[len(lastName)-1]\n",
    "    singleDict = {\"lastName\":lastName.encode('utf-8'), \"singleCount\": 1}\n",
    "    for j in range(0, len(singlesList)):\n",
    "        if (singlesList[j][\"lastName\"] == lastName):\n",
    "            #print lastName\n",
    "            nameFound = True\n",
    "            singlesList[j][\"singleCount\"] += 1\n",
    "    if (not nameFound):\n",
    "        singlesList.append(singleDict)\n",
    "    return singlesList"
   ]
  },
  {
   "cell_type": "code",
   "execution_count": 210,
   "metadata": {
    "collapsed": false
   },
   "outputs": [],
   "source": [
    "#function to scan through the play-by-play finding an event in the description to get the event stats for each plater\n",
    "def getSingles(page):\n",
    "    singlesList = []\n",
    "    doublesList = []\n",
    "    triplesList = []\n",
    "    walksList = []\n",
    "    home_runsList = []\n",
    "    play_by_play_table = page.find(id=\"play_by_play\")\n",
    "    play_by_play_rows = play_by_play_table.find_all('tr')\n",
    "    for i in range(0, len(play_by_play_rows)):\n",
    "        try:\n",
    "            columns = play_by_play_rows[i].find_all('td')\n",
    "            event = columns[len(columns)-1].get_text()\n",
    "            if ('Single' in event):\n",
    "                nameFound = False\n",
    "                lastName = columns[7].get_text().split()\n",
    "                lastName = lastName[len(lastName)-1]\n",
    "                singleDict = {\"lastName\":lastName.encode('utf-8'), \"singleCount\": 1}\n",
    "                for j in range(0, len(singlesList)):\n",
    "                    if (singlesList[j][\"lastName\"] == lastName):\n",
    "                        #print lastName\n",
    "                        nameFound = True\n",
    "                        singlesList[j][\"singleCount\"] += 1\n",
    "                if (not nameFound):\n",
    "                    singlesList.append(singleDict)\n",
    "            elif ('Double' in event):\n",
    "                nameFound = False\n",
    "                lastName = columns[7].get_text().split()\n",
    "                lastName = lastName[len(lastName)-1]\n",
    "                doubleDict = {\"lastName\":lastName.encode('utf-8'), \"doubleCount\": 1}\n",
    "                for j in range(0, len(doublesList)):\n",
    "                    if (doublesList[j][\"lastName\"] == lastName):\n",
    "                        #print lastName\n",
    "                        nameFound = True\n",
    "                        doublesList[j][\"doubleCount\"] += 1\n",
    "                if (not nameFound):\n",
    "                    doublesList.append(doubleDict)\n",
    "            elif ('Triple' in event):\n",
    "                nameFound = False\n",
    "                lastName = columns[7].get_text().split()\n",
    "                lastName = lastName[len(lastName)-1]\n",
    "                tripleDict = {\"lastName\":lastName.encode('utf-8'), \"tripleCount\": 1}\n",
    "                for j in range(0, len(triplesList)):\n",
    "                    if (triplesList[j][\"lastName\"] == lastName):\n",
    "                        #print lastName\n",
    "                        nameFound = True\n",
    "                        tripleList[j][\"tripleCount\"] += 1\n",
    "                if (not nameFound):\n",
    "                    triplesList.append(tripleDict)\n",
    "            elif ('Walk' in event):\n",
    "                nameFound = False\n",
    "                lastName = columns[7].get_text().split()\n",
    "                lastName = lastName[len(lastName)-1]\n",
    "                walkDict = {\"lastName\":lastName.encode('utf-8'), \"walkCount\": 1}\n",
    "                for j in range(0, len(walksList)):\n",
    "                    if (triplesList[j][\"lastName\"] == lastName):\n",
    "                        #print lastName\n",
    "                        nameFound = True\n",
    "                        walkList[j][\"walkCount\"] += 1\n",
    "                if (not nameFound):\n",
    "                    walksList.append(walkDict)\n",
    "            elif ('Home Run' in event):\n",
    "                nameFound = False\n",
    "                lastName = columns[7].get_text().split()\n",
    "                lastName = lastName[len(lastName)-1]\n",
    "                home_runDict = {\"lastName\":lastName.encode('utf-8'), \"home_runCount\": 1}\n",
    "                for j in range(0, len(home_runsList)):\n",
    "                    if (home_runsList[j][\"lastName\"] == lastName):\n",
    "                        #print lastName\n",
    "                        nameFound = True\n",
    "                        home_runsList[j][\"home_runCount\"] += 1\n",
    "                if (not nameFound):\n",
    "                    home_runsList.append(home_runDict)\n",
    "        except:\n",
    "            continue\n",
    "    return {\"singles\":singlesList, \"doubles\":doublesList, \"triples\":triplesList, \"walks\":walksList, \"home_runs\":\n",
    "            home_runsList}\n",
    "        "
   ]
  },
  {
   "cell_type": "code",
   "execution_count": 211,
   "metadata": {
    "collapsed": false
   },
   "outputs": [],
   "source": [
    "#function to return the opposing pitcher on the day\n",
    "#getPitcher from the play by play table\n",
    "def getPitcher(page, batter):\n",
    "    play_by_play_table = page.find(id=\"play_by_play\")\n",
    "    play_by_play_rows = play_by_play_table.find_all('tr')\n",
    "    for i in range(0, len(play_by_play_rows)):\n",
    "        try:\n",
    "            columns = play_by_play_rows[i].find_all('td')\n",
    "            b_lastName = columns[7].get_text().split()\n",
    "            b_lastName = b_lastName[len(b_lastName)-1]\n",
    "            if (b_lastName in batter):\n",
    "                p_lastName = columns[8].get_text().split()\n",
    "                p_lastName = p_lastName[len(p_lastName)-1]\n",
    "                return p_lastName.encode('utf-8')\n",
    "        except:\n",
    "            continue\n",
    "    return \"failed to find pitcher\"\n",
    "        "
   ]
  },
  {
   "cell_type": "code",
   "execution_count": 239,
   "metadata": {
    "collapsed": false
   },
   "outputs": [],
   "source": [
    "def getTeamPitchingStats(page):\n",
    "    boxscore_batting_table = page.find(id=currentTeam[team_index] + \"pitching\") #testing\n",
    "    pitcher_rows = boxscore_batting_table.find_all('tr')\n",
    "    pitcher_rows.pop(0)\n",
    "    gamePitchingStats = []\n",
    "    for i in range (0,len(pitcher_rows)-1):\n",
    "        record = {\"name\":\"\",\n",
    "                  \"team\":\"\",\n",
    "                  \"date\": \"\",\n",
    "                  \"IP\": 0,\n",
    "                  \"H\": 0,\n",
    "                  \"BF\": 0,}\n",
    "                    \n",
    "        attributes = pitcher_rows[i].find_all('td')\n",
    "        name = attributes[0].get_text().split(\",\")[0]\n",
    "\n",
    "        record[\"name\"] = name.strip().encode('utf-8')\n",
    "        record[\"team\"] =currentTeam[team_index]\n",
    "        record[\"date\"] = _date        \n",
    "        record[\"IP\"] = (attributes[1].get_text()).encode('utf-8')\n",
    "        record[\"H\"] = (attributes[2].get_text()).encode('utf-8')\n",
    "        record[\"BF\"] = (attributes[9].get_text()).encode('utf-8')\n",
    "        gamePitchingStats.append(record)\n",
    "    return gamePitchingStats"
   ]
  },
  {
   "cell_type": "code",
   "execution_count": 240,
   "metadata": {
    "collapsed": true
   },
   "outputs": [],
   "source": [
    "#function to get all urls from a team's schedule then get all the batter information\n",
    "def getAllTeamPitchingStats(t_schedule):\n",
    "    #variable to store all data records to be inputted into excel\n",
    "    data = []\n",
    "    #get all the urls\n",
    "    urlList = getListofBoxscoreURLs(t_schedule)\n",
    "    #open each boxscore page to grab info\n",
    "    for i in range (0,len(urlList[0:2])):\n",
    "        boxscore_page = urllib.urlopen(urlList[i]).read()\n",
    "        boxscore_page = BeautifulSoup(boxscore_page)\n",
    "        data = data + getPitchingStats(boxscore_page)\n",
    "    return data"
   ]
  },
  {
   "cell_type": "code",
   "execution_count": 241,
   "metadata": {
    "collapsed": false
   },
   "outputs": [
    {
     "name": "stdout",
     "output_type": "stream",
     "text": [
      "[{'BF': '23', 'name': 'Drew Hutchison', 'IP': ' 6  ', 'team': 'BostonRedSox', 'H': '3', 'date': ''}, {'BF': '7', 'name': 'Aaron Loup', 'IP': ' 1.2', 'team': 'BostonRedSox', 'H': '0', 'date': ''}, {'BF': '3', 'name': 'Miguel Castro', 'IP': ' 1.1', 'team': 'BostonRedSox', 'H': '0', 'date': ''}, {'BF': '24', 'name': 'R.A. Dickey', 'IP': ' 6.1', 'team': 'BostonRedSox', 'H': '4', 'date': ''}, {'BF': '2', 'name': 'Miguel Castro', 'IP': ' 0.2', 'team': 'BostonRedSox', 'H': '0', 'date': ''}, {'BF': '3', 'name': 'Aaron Loup', 'IP': ' 0  ', 'team': 'BostonRedSox', 'H': '2', 'date': ''}, {'BF': '4', 'name': 'Brett Cecil', 'IP': ' 0.1', 'team': 'BostonRedSox', 'H': '1', 'date': ''}, {'BF': '2', 'name': 'Roberto Osuna', 'IP': ' 0.2', 'team': 'BostonRedSox', 'H': '0', 'date': ''}]\n"
     ]
    }
   ],
   "source": [
    "print getAllTeamPitchingStats(test_page.find(id=\"team_schedule\"))\n",
    "#print getPitchingStats(test_page)"
   ]
  },
  {
   "cell_type": "code",
   "execution_count": 242,
   "metadata": {
    "collapsed": false
   },
   "outputs": [],
   "source": [
    "#hard-coded for the Toronto Blue Jays\n",
    "#column accesses are hard_coded by index\n",
    "#for boxscoreURL in urlList:\n",
    "    #opening the boxscore page \n",
    "def getTeamBattingStats(page, listOfSingles, listOfDoubles, listOfTriples, listOfWalks, listOfHomeRuns):\n",
    "    boxscore_batting_table = page.find(id=currentTeam[team_index] + \"batting\")\n",
    "    batter_rows = boxscore_batting_table.find_all('tr')\n",
    "    batter_rows.pop(0)\n",
    "    gameBattingStats = []\n",
    "    for batter_info in batter_rows:\n",
    "        foundName = False\n",
    "        record = {\"name\":\"\",\n",
    "                  \"PA\": 0,\n",
    "                  \"OBP\": 0,\n",
    "                  \"SLG\": 0,\n",
    "                  \"singles\": 0,\n",
    "                  \"doubles\": 0,\n",
    "                  \"triples\": 0,\n",
    "                  \"walks\":0,\n",
    "                  \"home_runs\":0,\n",
    "                  \"pitcher_name\": \"\",\n",
    "                  \"pitcher_OBP\": 0,\n",
    "                  \"defensive_efficiency\": 0,\n",
    "                  \"batter_team\": currentTeam[team_index],\n",
    "                  \"home_team\": _home_team,\n",
    "                  \"away_team\": _away_team,\n",
    "                  \"date\": _date}\n",
    "        attributes = batter_info.find_all('td')\n",
    "        name = attributes[0].get_text().strip().split(' ')\n",
    "        name.pop(len(name)-1)\n",
    "        record[\"name\"] = ' '.join(name).strip().encode('utf-8')\n",
    "        record[\"PA\"] = (attributes[7].get_text()).encode('utf-8')\n",
    "        record[\"OBP\"] = (attributes[9].get_text()).encode('utf-8')\n",
    "        record[\"SLG\"] = (attributes[10].get_text()).encode('utf-8')\n",
    "        record[\"pitcher_name\"] = getPitcher(page, record[\"name\"])\n",
    "        if (record[\"pitcher_name\"] != \"failed to find pitcher\" and record[\"PA\"] != \"\"):\n",
    "            for single in listOfSingles:\n",
    "                if (single[\"lastName\"] in record[\"name\"]):\n",
    "                    record[\"singles\"] = single[\"singleCount\"]\n",
    "                    break\n",
    "            for double in listOfDoubles:\n",
    "                #print double\n",
    "                if (double[\"lastName\"] in record[\"name\"]):\n",
    "                    record[\"doubles\"] = double[\"doubleCount\"]\n",
    "                    break\n",
    "            for triple in listOfTriples:\n",
    "                if (triple[\"lastName\"] in record[\"name\"]):\n",
    "                    record[\"triples\"] = triple[\"tripleCount\"]\n",
    "                    break\n",
    "            for walk in listOfWalks:\n",
    "                if (walk[\"lastName\"] in record[\"name\"]):\n",
    "                    record[\"walks\"] = walk[\"walkCount\"]\n",
    "                    break\n",
    "            for home_run in listOfHomeRuns:\n",
    "                if (home_run[\"lastName\"] in record[\"name\"]):\n",
    "                    record[\"home_runs\"] = home_run[\"home_runCount\"]\n",
    "                    break\n",
    "            gameBattingStats.append(record)\n",
    "    return gameBattingStats\n",
    "    \n"
   ]
  },
  {
   "cell_type": "code",
   "execution_count": 263,
   "metadata": {
    "collapsed": false
   },
   "outputs": [],
   "source": [
    "#function to get all urls from a team's schedule then get all the batter information\n",
    "def getAllTeamBattingStats(t_schedule):\n",
    "    #variable to store all data records to be inputted into excel\n",
    "    b_data = []\n",
    "    p_data = []\n",
    "    data = {\"batter_data\": b_data, \"pitcher_data\": p_data}\n",
    "    #get all the urls\n",
    "    urlList = getListofBoxscoreURLs(t_schedule)\n",
    "    #open each boxscore page to grab info\n",
    "    for url in urlList[0:3]:\n",
    "        try:\n",
    "            boxscore_page = urllib.urlopen(url).read()\n",
    "            boxscore_page = BeautifulSoup(boxscore_page)\n",
    "            events = getSingles(boxscore_page) \n",
    "            b_data = b_data + getTeamBattingStats(boxscore_page, events[\"singles\"], events[\"doubles\"], events[\"triples\"],\n",
    "                                                  events[\"walks\"], events[\"home_runs\"])\n",
    "            p_data = p_data + getTeamPitchingStats(boxscore_page)\n",
    "            print url\n",
    "        except:\n",
    "            print \"fails:\" + url\n",
    "    data = {\"batter_data\": b_data, \"pitcher_data\": p_data}\n",
    "    return data"
   ]
  },
  {
   "cell_type": "code",
   "execution_count": 280,
   "metadata": {
    "collapsed": false
   },
   "outputs": [
    {
     "name": "stdout",
     "output_type": "stream",
     "text": [
      "TorontoBlueJays\n",
      "http://www.baseball-reference.com/boxes/NYA/NYA201504060.shtml\n",
      "http://www.baseball-reference.com/boxes/NYA/NYA201504080.shtml\n",
      "http://www.baseball-reference.com/boxes/NYA/NYA201504090.shtml\n",
      "NewYorkYankees\n",
      "http://www.baseball-reference.com/boxes/NYA/NYA201504060.shtml\n",
      "http://www.baseball-reference.com/boxes/NYA/NYA201504080.shtml\n",
      "http://www.baseball-reference.com/boxes/NYA/NYA201504090.shtml\n",
      "BostonRedSox\n",
      "http://www.baseball-reference.com/boxes/PHI/PHI201504060.shtml\n",
      "http://www.baseball-reference.com/boxes/PHI/PHI201504080.shtml\n",
      "http://www.baseball-reference.com/boxes/PHI/PHI201504090.shtml\n"
     ]
    }
   ],
   "source": [
    "#global variables\n",
    "currentTeam = [\"TorontoBlueJays\", \"NewYorkYankees\", \"BostonRedSox\", \"BaltimoreOrioles\", \"TampaBayRays\", \n",
    "               \"DetroitTigers\", \"NewYorkMets\", \"KansasCityRoyals\", \"WashingtonNationals\", \"TexasRangers\",\n",
    "               \"OaklandAthletics\", \"MiamiMarlins\", \"PhiladelphiaPhillies\", \"HoustonAstros\", \"SeattleMariners\",\n",
    "               \"MinnesotaTwins\", \"ChicagoWhiteSox\", \"ClevelandIndians\", \"AtlantaBraves\", \"AnaheimAngels\"]\n",
    "abr1 = [\"TOR\", \"NYY\", \"BOS\", \"BAL\", \"TBR\", \"DET\", \"NYM\", \"KCR\", \"WSN\", \"TEX\", \"OAK\", \"MIA\", \"PHI\", \"HOU\", \"SEA\",\n",
    "        \"MIN\", \"CHW\", \"CLE\", \"ATL\", \"LAA\"]\n",
    "year = \"2015\"\n",
    "p_data = []\n",
    "b_data = []\n",
    "for team_index in range(0, len(currentTeam[0:3])):\n",
    "    currentTeamURL = \"http://www.baseball-reference.com/teams/\" + abr1[team_index] + \"/2015-schedule-scores.shtml\"\n",
    "    #print currentTeamURL\n",
    "    #opening the team schedule page \n",
    "    #try:\n",
    "    print currentTeam[team_index]\n",
    "    team_schedule = urllib.urlopen(currentTeamURL).read()\n",
    "    team_schedule = BeautifulSoup(team_schedule)\n",
    "    team_schedule_table = team_schedule.find(id=\"team_schedule\")\n",
    "    data = (getAllTeamBattingStats(team_schedule_table))\n",
    "    p_data = p_data + data[\"pitcher_data\"]\n",
    "    b_data = b_data + data[\"batter_data\"]\n",
    "    #except:\n",
    "        #print \"fail:\" + currentTeamURL"
   ]
  },
  {
   "cell_type": "code",
   "execution_count": 265,
   "metadata": {
    "collapsed": false
   },
   "outputs": [],
   "source": [
    "import pandas as pd\n",
    "import numpy as np"
   ]
  },
  {
   "cell_type": "code",
   "execution_count": 281,
   "metadata": {
    "collapsed": false
   },
   "outputs": [
    {
     "name": "stdout",
     "output_type": "stream",
     "text": [
      "[{'BF': '23', 'name': 'Drew Hutchison', 'IP': ' 6  ', 'team': 'TorontoBlueJays', 'H': '3', 'date': ''}, {'BF': '7', 'name': 'Aaron Loup', 'IP': ' 1.2', 'team': 'TorontoBlueJays', 'H': '0', 'date': ''}, {'BF': '3', 'name': 'Miguel Castro', 'IP': ' 1.1', 'team': 'TorontoBlueJays', 'H': '0', 'date': ''}, {'BF': '24', 'name': 'R.A. Dickey', 'IP': ' 6.1', 'team': 'TorontoBlueJays', 'H': '4', 'date': ''}, {'BF': '2', 'name': 'Miguel Castro', 'IP': ' 0.2', 'team': 'TorontoBlueJays', 'H': '0', 'date': ''}, {'BF': '3', 'name': 'Aaron Loup', 'IP': ' 0  ', 'team': 'TorontoBlueJays', 'H': '2', 'date': ''}, {'BF': '4', 'name': 'Brett Cecil', 'IP': ' 0.1', 'team': 'TorontoBlueJays', 'H': '1', 'date': ''}, {'BF': '2', 'name': 'Roberto Osuna', 'IP': ' 0.2', 'team': 'TorontoBlueJays', 'H': '0', 'date': ''}, {'BF': '24', 'name': 'Daniel Norris', 'IP': ' 5.2', 'team': 'TorontoBlueJays', 'H': '6', 'date': ''}, {'BF': '6', 'name': 'Roberto Osuna', 'IP': ' 1.1', 'team': 'TorontoBlueJays', 'H': '1', 'date': ''}, {'BF': '4', 'name': 'Brett Cecil', 'IP': ' 1  ', 'team': 'TorontoBlueJays', 'H': '0', 'date': ''}, {'BF': '3', 'name': 'Miguel Castro', 'IP': ' 1  ', 'team': 'TorontoBlueJays', 'H': '0', 'date': ''}, {'BF': '20', 'name': 'Masahiro Tanaka', 'IP': ' 4  ', 'team': 'NewYorkYankees', 'H': '5', 'date': ''}, {'BF': '3', 'name': 'Chris Martin', 'IP': ' 1  ', 'team': 'NewYorkYankees', 'H': '0', 'date': ''}, {'BF': '5', 'name': 'Chasen Shreve', 'IP': ' 1.1', 'team': 'NewYorkYankees', 'H': '1', 'date': ''}, {'BF': '5', 'name': 'David Carpenter', 'IP': ' 1.2', 'team': 'NewYorkYankees', 'H': '0', 'date': ''}, {'BF': '5', 'name': 'Justin Wilson', 'IP': ' 0.2', 'team': 'NewYorkYankees', 'H': '0', 'date': ''}, {'BF': '1', 'name': 'Esmil Rogers', 'IP': ' 0.1', 'team': 'NewYorkYankees', 'H': '0', 'date': ''}, {'BF': '25', 'name': 'Michael Pineda', 'IP': ' 6  ', 'team': 'NewYorkYankees', 'H': '6', 'date': ''}, {'BF': '3', 'name': 'Chris Martin', 'IP': ' 1  ', 'team': 'NewYorkYankees', 'H': '0', 'date': ''}, {'BF': '6', 'name': 'Dellin Betances', 'IP': ' 1  ', 'team': 'NewYorkYankees', 'H': '1', 'date': ''}, {'BF': '3', 'name': 'Andrew Miller', 'IP': ' 1  ', 'team': 'NewYorkYankees', 'H': '0', 'date': ''}, {'BF': '24', 'name': 'CC Sabathia', 'IP': ' 5.2', 'team': 'NewYorkYankees', 'H': '8', 'date': ''}, {'BF': '8', 'name': 'Esmil Rogers', 'IP': ' 2.1', 'team': 'NewYorkYankees', 'H': '1', 'date': ''}, {'BF': '3', 'name': 'David Carpenter', 'IP': ' 1  ', 'team': 'NewYorkYankees', 'H': '0', 'date': ''}, {'BF': '26', 'name': 'Clay Buchholz', 'IP': ' 7  ', 'team': 'BostonRedSox', 'H': '3', 'date': ''}, {'BF': '3', 'name': 'Junichi Tazawa', 'IP': ' 1  ', 'team': 'BostonRedSox', 'H': '0', 'date': ''}, {'BF': '4', 'name': 'Tommy Layne', 'IP': ' 1  ', 'team': 'BostonRedSox', 'H': '0', 'date': ''}, {'BF': '27', 'name': 'Rick Porcello', 'IP': ' 6  ', 'team': 'BostonRedSox', 'H': '6', 'date': ''}, {'BF': '4', 'name': 'Robbie Ross', 'IP': ' 1  ', 'team': 'BostonRedSox', 'H': '0', 'date': ''}, {'BF': '3', 'name': 'Alexi Ogando', 'IP': ' 1  ', 'team': 'BostonRedSox', 'H': '0', 'date': ''}, {'BF': '23', 'name': 'Justin Masterson', 'IP': ' 6  ', 'team': 'BostonRedSox', 'H': '3', 'date': ''}, {'BF': '5', 'name': 'Craig Breslow', 'IP': ' 1  ', 'team': 'BostonRedSox', 'H': '1', 'date': ''}, {'BF': '3', 'name': 'Tommy Layne', 'IP': ' 1  ', 'team': 'BostonRedSox', 'H': '0', 'date': ''}, {'BF': '4', 'name': 'Edward Mujica', 'IP': ' 1  ', 'team': 'BostonRedSox', 'H': '1', 'date': ''}]\n",
      "    BF  H    IP date              name             team\n",
      "0   23  3   6           Drew Hutchison  TorontoBlueJays\n",
      "1    7  0   1.2             Aaron Loup  TorontoBlueJays\n",
      "2    3  0   1.1          Miguel Castro  TorontoBlueJays\n",
      "3   24  4   6.1            R.A. Dickey  TorontoBlueJays\n",
      "4    2  0   0.2          Miguel Castro  TorontoBlueJays\n",
      "5    3  2   0               Aaron Loup  TorontoBlueJays\n",
      "6    4  1   0.1            Brett Cecil  TorontoBlueJays\n",
      "7    2  0   0.2          Roberto Osuna  TorontoBlueJays\n",
      "8   24  6   5.2          Daniel Norris  TorontoBlueJays\n",
      "9    6  1   1.1          Roberto Osuna  TorontoBlueJays\n",
      "10   4  0   1              Brett Cecil  TorontoBlueJays\n",
      "11   3  0   1            Miguel Castro  TorontoBlueJays\n",
      "12  20  5   4          Masahiro Tanaka   NewYorkYankees\n",
      "13   3  0   1             Chris Martin   NewYorkYankees\n",
      "14   5  1   1.1          Chasen Shreve   NewYorkYankees\n",
      "15   5  0   1.2        David Carpenter   NewYorkYankees\n",
      "16   5  0   0.2          Justin Wilson   NewYorkYankees\n",
      "17   1  0   0.1           Esmil Rogers   NewYorkYankees\n",
      "18  25  6   6           Michael Pineda   NewYorkYankees\n",
      "19   3  0   1             Chris Martin   NewYorkYankees\n",
      "20   6  1   1          Dellin Betances   NewYorkYankees\n",
      "21   3  0   1            Andrew Miller   NewYorkYankees\n",
      "22  24  8   5.2            CC Sabathia   NewYorkYankees\n",
      "23   8  1   2.1           Esmil Rogers   NewYorkYankees\n",
      "24   3  0   1          David Carpenter   NewYorkYankees\n",
      "25  26  3   7            Clay Buchholz     BostonRedSox\n",
      "26   3  0   1           Junichi Tazawa     BostonRedSox\n",
      "27   4  0   1              Tommy Layne     BostonRedSox\n",
      "28  27  6   6            Rick Porcello     BostonRedSox\n",
      "29   4  0   1              Robbie Ross     BostonRedSox\n",
      "30   3  0   1             Alexi Ogando     BostonRedSox\n",
      "31  23  3   6         Justin Masterson     BostonRedSox\n",
      "32   5  1   1            Craig Breslow     BostonRedSox\n",
      "33   3  0   1              Tommy Layne     BostonRedSox\n",
      "34   4  1   1            Edward Mujica     BostonRedSox\n"
     ]
    }
   ],
   "source": [
    "#print data\n",
    "dfp = pd.DataFrame(p_data)\n",
    "dfb = pd.DataFrame(b_data)\n",
    "#dfp = pd.DataFrame(pdata)"
   ]
  },
  {
   "cell_type": "code",
   "execution_count": null,
   "metadata": {
    "collapsed": true
   },
   "outputs": [],
   "source": []
  },
  {
   "cell_type": "code",
   "execution_count": 282,
   "metadata": {
    "collapsed": false
   },
   "outputs": [
    {
     "ename": "ImportError",
     "evalue": "No module named openpyxl",
     "output_type": "error",
     "traceback": [
      "\u001b[1;31m---------------------------------------------------------------------------\u001b[0m",
      "\u001b[1;31mImportError\u001b[0m                               Traceback (most recent call last)",
      "\u001b[1;32m<ipython-input-282-828abd7c5262>\u001b[0m in \u001b[0;36m<module>\u001b[1;34m()\u001b[0m\n\u001b[1;32m----> 1\u001b[1;33m \u001b[0mdf\u001b[0m\u001b[1;33m.\u001b[0m\u001b[0mto_excel\u001b[0m\u001b[1;33m(\u001b[0m\u001b[1;34m'test2.xlsx'\u001b[0m\u001b[1;33m,\u001b[0m \u001b[0msheet_name\u001b[0m\u001b[1;33m=\u001b[0m\u001b[1;34m'sheet1'\u001b[0m\u001b[1;33m,\u001b[0m \u001b[0mindex\u001b[0m\u001b[1;33m=\u001b[0m\u001b[0mFalse\u001b[0m\u001b[1;33m)\u001b[0m\u001b[1;33m\u001b[0m\u001b[0m\n\u001b[0m",
      "\u001b[1;32mF:\\Program Files (x86)\\Anaconda\\envs\\py2\\lib\\site-packages\\pandas\\core\\frame.pyc\u001b[0m in \u001b[0;36mto_excel\u001b[1;34m(self, excel_writer, sheet_name, na_rep, float_format, columns, header, index, index_label, startrow, startcol, engine, merge_cells, encoding, inf_rep, verbose)\u001b[0m\n\u001b[0;32m   1412\u001b[0m \u001b[1;33m\u001b[0m\u001b[0m\n\u001b[0;32m   1413\u001b[0m         \u001b[1;32mif\u001b[0m \u001b[0misinstance\u001b[0m\u001b[1;33m(\u001b[0m\u001b[0mexcel_writer\u001b[0m\u001b[1;33m,\u001b[0m \u001b[0mcompat\u001b[0m\u001b[1;33m.\u001b[0m\u001b[0mstring_types\u001b[0m\u001b[1;33m)\u001b[0m\u001b[1;33m:\u001b[0m\u001b[1;33m\u001b[0m\u001b[0m\n\u001b[1;32m-> 1414\u001b[1;33m             \u001b[0mexcel_writer\u001b[0m \u001b[1;33m=\u001b[0m \u001b[0mExcelWriter\u001b[0m\u001b[1;33m(\u001b[0m\u001b[0mexcel_writer\u001b[0m\u001b[1;33m,\u001b[0m \u001b[0mengine\u001b[0m\u001b[1;33m=\u001b[0m\u001b[0mengine\u001b[0m\u001b[1;33m)\u001b[0m\u001b[1;33m\u001b[0m\u001b[0m\n\u001b[0m\u001b[0;32m   1415\u001b[0m             \u001b[0mneed_save\u001b[0m \u001b[1;33m=\u001b[0m \u001b[0mTrue\u001b[0m\u001b[1;33m\u001b[0m\u001b[0m\n\u001b[0;32m   1416\u001b[0m \u001b[1;33m\u001b[0m\u001b[0m\n",
      "\u001b[1;32mF:\\Program Files (x86)\\Anaconda\\envs\\py2\\lib\\site-packages\\pandas\\io\\excel.pyc\u001b[0m in \u001b[0;36m__init__\u001b[1;34m(self, path, engine, **engine_kwargs)\u001b[0m\n\u001b[0;32m    711\u001b[0m \u001b[1;33m\u001b[0m\u001b[0m\n\u001b[0;32m    712\u001b[0m     \u001b[1;32mdef\u001b[0m \u001b[0m__init__\u001b[0m\u001b[1;33m(\u001b[0m\u001b[0mself\u001b[0m\u001b[1;33m,\u001b[0m \u001b[0mpath\u001b[0m\u001b[1;33m,\u001b[0m \u001b[0mengine\u001b[0m\u001b[1;33m=\u001b[0m\u001b[0mNone\u001b[0m\u001b[1;33m,\u001b[0m \u001b[1;33m**\u001b[0m\u001b[0mengine_kwargs\u001b[0m\u001b[1;33m)\u001b[0m\u001b[1;33m:\u001b[0m\u001b[1;33m\u001b[0m\u001b[0m\n\u001b[1;32m--> 713\u001b[1;33m         \u001b[1;32mif\u001b[0m \u001b[1;32mnot\u001b[0m \u001b[0mopenpyxl_compat\u001b[0m\u001b[1;33m.\u001b[0m\u001b[0mis_compat\u001b[0m\u001b[1;33m(\u001b[0m\u001b[0mmajor_ver\u001b[0m\u001b[1;33m=\u001b[0m\u001b[0mself\u001b[0m\u001b[1;33m.\u001b[0m\u001b[0mopenpyxl_majorver\u001b[0m\u001b[1;33m)\u001b[0m\u001b[1;33m:\u001b[0m\u001b[1;33m\u001b[0m\u001b[0m\n\u001b[0m\u001b[0;32m    714\u001b[0m             raise ValueError('Installed openpyxl is not supported at this '\n\u001b[0;32m    715\u001b[0m                              \u001b[1;34m'time. Use {0}.x.y.'\u001b[0m\u001b[1;33m\u001b[0m\u001b[0m\n",
      "\u001b[1;32mF:\\Program Files (x86)\\Anaconda\\envs\\py2\\lib\\site-packages\\pandas\\compat\\openpyxl_compat.pyc\u001b[0m in \u001b[0;36mis_compat\u001b[1;34m(major_ver)\u001b[0m\n\u001b[0;32m     25\u001b[0m         \u001b[1;33m`\u001b[0m\u001b[1;33m`\u001b[0m\u001b[0mFalse\u001b[0m\u001b[1;33m`\u001b[0m\u001b[1;33m`\u001b[0m \u001b[0motherwise\u001b[0m\u001b[1;33m.\u001b[0m\u001b[1;33m\u001b[0m\u001b[0m\n\u001b[0;32m     26\u001b[0m     \"\"\"\n\u001b[1;32m---> 27\u001b[1;33m     \u001b[1;32mimport\u001b[0m \u001b[0mopenpyxl\u001b[0m\u001b[1;33m\u001b[0m\u001b[0m\n\u001b[0m\u001b[0;32m     28\u001b[0m     \u001b[0mver\u001b[0m \u001b[1;33m=\u001b[0m \u001b[0mLooseVersion\u001b[0m\u001b[1;33m(\u001b[0m\u001b[0mopenpyxl\u001b[0m\u001b[1;33m.\u001b[0m\u001b[0m__version__\u001b[0m\u001b[1;33m)\u001b[0m\u001b[1;33m\u001b[0m\u001b[0m\n\u001b[0;32m     29\u001b[0m     \u001b[1;32mif\u001b[0m \u001b[0mmajor_ver\u001b[0m \u001b[1;33m==\u001b[0m \u001b[1;36m1\u001b[0m\u001b[1;33m:\u001b[0m\u001b[1;33m\u001b[0m\u001b[0m\n",
      "\u001b[1;31mImportError\u001b[0m: No module named openpyxl"
     ]
    }
   ],
   "source": [
    "df.to_excel('test2.xlsx', sheet_name='sheet1', index=False)"
   ]
  },
  {
   "cell_type": "code",
   "execution_count": 277,
   "metadata": {
    "collapsed": false
   },
   "outputs": [
    {
     "name": "stdout",
     "output_type": "stream",
     "text": [
      "     OBP PA    SLG away_team      batter_team date  defensive_efficiency  \\\n",
      "0   .250  5   .000       TOR  TorontoBlueJays                          0   \n",
      "1   .400  5   .250       TOR  TorontoBlueJays                          0   \n",
      "2   .000  5   .000       TOR  TorontoBlueJays                          0   \n",
      "3   .250  4  1.000       TOR  TorontoBlueJays                          0   \n",
      "4   .000  4   .000       TOR  TorontoBlueJays                          0   \n",
      "5   .250  4   .250       TOR  TorontoBlueJays                          0   \n",
      "6   .250  4   .000       TOR  TorontoBlueJays                          0   \n",
      "7   .500  4   .500       TOR  TorontoBlueJays                          0   \n",
      "8   .750  4  2.000       TOR  TorontoBlueJays                          0   \n",
      "9   .222  5   .125       TOR  TorontoBlueJays                          0   \n",
      "10  .222  4   .143       TOR  TorontoBlueJays                          0   \n",
      "11  .111  4   .000       TOR  TorontoBlueJays                          0   \n",
      "12  .375  4   .750       TOR  TorontoBlueJays                          0   \n",
      "13  .125  4   .000       TOR  TorontoBlueJays                          0   \n",
      "14  .250  4   .000       TOR  TorontoBlueJays                          0   \n",
      "15  .375  4   .375       TOR  TorontoBlueJays                          0   \n",
      "16  .333  3   .667       TOR  TorontoBlueJays                          0   \n",
      "17  .000  1   .000       TOR  TorontoBlueJays                          0   \n",
      "18  .625  4  1.000       TOR  TorontoBlueJays                          0   \n",
      "19  .308  4   .250       TOR  TorontoBlueJays                          0   \n",
      "20  .154  4   .091       TOR  TorontoBlueJays                          0   \n",
      "21  .077  4   .000       TOR  TorontoBlueJays                          0   \n",
      "22  .417  4   .917       TOR  TorontoBlueJays                          0   \n",
      "23  .250  4   .182       TOR  TorontoBlueJays                          0   \n",
      "24  .500  3   .500       TOR  TorontoBlueJays                          0   \n",
      "25  .250  1   .500       TOR  TorontoBlueJays                          0   \n",
      "26  .333  4   .333       TOR  TorontoBlueJays                          0   \n",
      "27  .000  2   .000       TOR  TorontoBlueJays                          0   \n",
      "28  .200  2   .000       TOR  TorontoBlueJays                          0   \n",
      "29  .455  3   .667       TOR  TorontoBlueJays                          0   \n",
      "\n",
      "    doubles  home_runs home_team               name  pitcher_OBP pitcher_name  \\\n",
      "0         0          0       TBA         Jose Reyes            0       Tanaka   \n",
      "1         0          0       TBA     Russell Martin            0       Tanaka   \n",
      "2         0          0       TBA      Jose Bautista            0       Tanaka   \n",
      "3         0          1       TBA  Edwin Encarnacion            0       Tanaka   \n",
      "4         0          0       TBA     Josh Donaldson            0       Tanaka   \n",
      "5         0          0       TBA     Dioner Navarro            0       Tanaka   \n",
      "6         0          0       TBA      Dalton Pompey            0       Tanaka   \n",
      "7         0          0       TBA       Kevin Pillar            0       Tanaka   \n",
      "8         0          1       TBA       Devon Travis            0       Tanaka   \n",
      "9         0          0       TBA         Jose Reyes            0       Pineda   \n",
      "10        0          0       TBA     Russell Martin            0       Pineda   \n",
      "11        0          0       TBA      Jose Bautista            0       Pineda   \n",
      "12        0          0       TBA  Edwin Encarnacion            0       Pineda   \n",
      "13        0          0       TBA     Josh Donaldson            0       Pineda   \n",
      "14        0          0       TBA      Dalton Pompey            0       Pineda   \n",
      "15        0          0       TBA       Kevin Pillar            0       Pineda   \n",
      "16        1          0       TBA       Justin Smoak            0       Pineda   \n",
      "17        0          0       TBA     Danny Valencia            0       Miller   \n",
      "18        0          0       TBA       Devon Travis            0       Pineda   \n",
      "19        0          0       TBA         Jose Reyes            0     Sabathia   \n",
      "20        1          0       TBA     Russell Martin            0     Sabathia   \n",
      "21        0          0       TBA      Jose Bautista            0     Sabathia   \n",
      "22        0          1       TBA  Edwin Encarnacion            0     Sabathia   \n",
      "23        0          0       TBA     Josh Donaldson            0     Sabathia   \n",
      "24        0          0       TBA     Danny Valencia            0     Sabathia   \n",
      "25        0          0       TBA       Justin Smoak            0    Carpenter   \n",
      "26        0          0       TBA       Kevin Pillar            0     Sabathia   \n",
      "27        0          0       TBA    Steven Tolleson            0     Sabathia   \n",
      "28        0          0       TBA      Dalton Pompey            0       Rogers   \n",
      "29        0          0       TBA       Devon Travis            0     Sabathia   \n",
      "\n",
      "    singles  triples  walks  \n",
      "0         0        0      0  \n",
      "1         1        0      0  \n",
      "2         0        0      0  \n",
      "3         0        0      0  \n",
      "4         0        0      0  \n",
      "5         1        0      0  \n",
      "6         0        0      0  \n",
      "7         2        0      0  \n",
      "8         0        0      1  \n",
      "9         1        0      0  \n",
      "10        0        0      0  \n",
      "11        0        0      0  \n",
      "12        2        0      0  \n",
      "13        0        0      0  \n",
      "14        0        0      0  \n",
      "15        1        0      0  \n",
      "16        0        0      0  \n",
      "17        0        0      0  \n",
      "18        2        0      0  \n",
      "19        2        0      0  \n",
      "20        0        0      0  \n",
      "21        0        0      0  \n",
      "22        1        0      0  \n",
      "23        2        0      0  \n",
      "24        2        0      0  \n",
      "25        0        0      0  \n",
      "26        1        0      0  \n",
      "27        0        0      0  \n",
      "28        0        0      0  \n",
      "29        0        0      0  \n"
     ]
    }
   ],
   "source": [
    "print df\n"
   ]
  },
  {
   "cell_type": "code",
   "execution_count": 155,
   "metadata": {
    "collapsed": false
   },
   "outputs": [
    {
     "name": "stdout",
     "output_type": "stream",
     "text": [
      "\n"
     ]
    }
   ],
   "source": [
    "print _home_team"
   ]
  },
  {
   "cell_type": "code",
   "execution_count": null,
   "metadata": {
    "collapsed": true
   },
   "outputs": [],
   "source": []
  }
 ],
 "metadata": {
  "kernelspec": {
   "display_name": "Python 2",
   "language": "python",
   "name": "python2"
  },
  "language_info": {
   "codemirror_mode": {
    "name": "ipython",
    "version": 2
   },
   "file_extension": ".py",
   "mimetype": "text/x-python",
   "name": "python",
   "nbconvert_exporter": "python",
   "pygments_lexer": "ipython2",
   "version": "2.7.12"
  }
 },
 "nbformat": 4,
 "nbformat_minor": 0
}
