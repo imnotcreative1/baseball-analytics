{
 "cells": [
  {
   "cell_type": "code",
   "execution_count": 55,
   "metadata": {
    "collapsed": true
   },
   "outputs": [],
   "source": [
    "# Scraping pitching data from baseball reference\n",
    "# Jordan McGregor"
   ]
  },
  {
   "cell_type": "code",
   "execution_count": 56,
   "metadata": {
    "collapsed": false
   },
   "outputs": [],
   "source": [
    "#list of libraries being imported\n",
    "from bs4 import BeautifulSoup\n",
    "import urllib\n",
    "import collections\n",
    "import pandas as pd\n",
    "import numpy as np"
   ]
  },
  {
   "cell_type": "code",
   "execution_count": 57,
   "metadata": {
    "collapsed": true
   },
   "outputs": [],
   "source": [
    "#hard-coded for now\n",
    "currentTeam = \"TorontoBlueJays\"\n",
    "year = \"2015\"\n",
    "currentTeamURL = \"http://www.baseball-reference.com/teams/TOR/2015-schedule-scores.shtml\""
   ]
  },
  {
   "cell_type": "code",
   "execution_count": 58,
   "metadata": {
    "collapsed": false
   },
   "outputs": [],
   "source": [
    "#opening the team schedule page \n",
    "team_schedule = urllib.urlopen(currentTeamURL).read()\n",
    "team_schedule = BeautifulSoup(team_schedule)"
   ]
  },
  {
   "cell_type": "code",
   "execution_count": 59,
   "metadata": {
    "collapsed": false
   },
   "outputs": [],
   "source": [
    "team_schedule_table = team_schedule.find(id=\"team_schedule\")"
   ]
  },
  {
   "cell_type": "code",
   "execution_count": 60,
   "metadata": {
    "collapsed": true
   },
   "outputs": [],
   "source": [
    "#function used to convert the date from the form (year, month_name day_number) to (yyyymmdd)\n",
    "def dateConversion(oldDate):\n",
    "    newDate = \"\"\n",
    "    month = \"\"\n",
    "    day_num = \"\"\n",
    "    dateSystemDict = {\"Jan\": \"01\",\n",
    "                      \"Feb\": \"02\",\n",
    "                      \"Mar\": \"03\",\n",
    "                      \"Apr\": \"04\",\n",
    "                      \"May\": \"05\",\n",
    "                      \"Jun\": \"06\",\n",
    "                      \"Jul\": \"07\",\n",
    "                      \"Aug\": \"08\",\n",
    "                      \"Sep\": \"09\",\n",
    "                      \"Oct\": \"10\",\n",
    "                      \"Nov\": \"11\",\n",
    "                      \"Dec\": \"12\"}\n",
    "    oldDate = oldDate.split(' ') #the default is space, but it is used here to be explicit\n",
    "    splitSize = len(oldDate)\n",
    "    month = dateSystemDict[oldDate[splitSize-2]]\n",
    "    day_num = oldDate[splitSize-1]\n",
    "    if (len(day_num) == 1):\n",
    "        day_num = \"0\" + day_num\n",
    "    elif (len(day_num) < 1 or len(day_num) > 2):\n",
    "        print \"error getting date from schedule table\"\n",
    "    newDate = year + month + day_num\n",
    "    return newDate\n"
   ]
  },
  {
   "cell_type": "code",
   "execution_count": 61,
   "metadata": {
    "collapsed": true
   },
   "outputs": [],
   "source": [
    "#function to change the team abbreviation if needed\n",
    "#the team abrs used in the table do not match up with the ones used in the url for boxscores\n",
    "def teamAbrConversion(teamAbr):\n",
    "    teamAbrDict = {\"NYY\":\"NYA\",\n",
    "                   \"TBR\":\"TBA\",\n",
    "                   \"WSN\":\"WAS\",\n",
    "                   \"NYM\":\"NYN\",\n",
    "                   \"CHW\":\"CHA\",\n",
    "                   \"KCR\":\"KCA\",\n",
    "                   \"LAA\":\"ANA\"}\n",
    "    if (teamAbrDict.has_key(teamAbr)):\n",
    "        return teamAbrDict[teamAbr]\n",
    "    return teamAbr"
   ]
  },
  {
   "cell_type": "code",
   "execution_count": 62,
   "metadata": {
    "collapsed": true
   },
   "outputs": [],
   "source": [
    "#function to loop through a team's schedule a grab all the url needed to request boxscores\n",
    "#hard-coded Toronto as the home team\n",
    "def getListofOpps(schedule_table):\n",
    "    listOfOpps = []\n",
    "    #get a list of all the rows in the schedule table\n",
    "    team_schedule_rows = schedule_table.find_all('tr')\n",
    "    team_schedule_rows.pop(0)\n",
    "    for a_row in team_schedule_rows:\n",
    "        try:\n",
    "            columns = a_row.find_all(\"td\")\n",
    "            opp = columns[6]\n",
    "            listOfOpps.append(opp)\n",
    "        except:\n",
    "            continue\n",
    "    return listOfOpps"
   ]
  },
  {
   "cell_type": "code",
   "execution_count": 63,
   "metadata": {
    "collapsed": true
   },
   "outputs": [],
   "source": [
    "testURL = \"http://www.baseball-reference.com/boxes/NYA/NYA201504060.shtml\""
   ]
  },
  {
   "cell_type": "code",
   "execution_count": 64,
   "metadata": {
    "collapsed": true
   },
   "outputs": [],
   "source": [
    "boxscore_page = urllib.urlopen(testURL).read()\n",
    "boxscore_page = BeautifulSoup(boxscore_page)"
   ]
  },
  {
   "cell_type": "code",
   "execution_count": 65,
   "metadata": {
    "collapsed": true
   },
   "outputs": [],
   "source": [
    "#function to loop through a team's schedule a grab all the url needed to request boxscores\n",
    "#hard-coded Toronto as the home team\n",
    "def getListofBoxscoreURLs(schedule_table):\n",
    "    listOfUrls = []\n",
    "    #get a list of all the rows in the schedule table\n",
    "    team_schedule_rows = schedule_table.find_all('tr')\n",
    "    team_schedule_rows.pop(0)\n",
    "    for a_row in team_schedule_rows:\n",
    "        try:\n",
    "            columns = a_row.find_all(\"td\")\n",
    "            base_url = \"http://www.baseball-reference.com/boxes/\"\n",
    "            end_url = \"0.shtml\"\n",
    "            oldTeamAbr = a_row.find(id=\"Click for standings on this date\")\n",
    "            date = dateConversion(a_row.find(title=\"Click for standings on this date\").get_text())\n",
    "            #find the home team by first looking in the row for an @ symbol\n",
    "            homeTeamAbr = \"\"\n",
    "            if (\"@\" in columns[5].get_text()):\n",
    "                homeTeamAbr = teamAbrConversion(columns[6].get_text())\n",
    "            else:\n",
    "                homeTeamAbr = \"TOR\" #hard-coded\n",
    "            url = base_url + homeTeamAbr + '/' + homeTeamAbr + date + end_url\n",
    "            listOfUrls.append(url.encode('utf-8'))\n",
    "        except:\n",
    "            continue\n",
    "    return listOfUrls\n",
    "        "
   ]
  },
  {
   "cell_type": "code",
   "execution_count": 83,
   "metadata": {
    "collapsed": true
   },
   "outputs": [],
   "source": [
    "def getPitchingStats(page,opp):\n",
    "    boxscore_batting_table = page.find(id=\"TorontoBlueJayspitching\")\n",
    "    pitcher_rows = boxscore_batting_table.find_all('tr')\n",
    "    pitcher_rows.pop(0)\n",
    "    gamePitchingStats = []\n",
    "    for pitcher_info in pitcher_rows:\n",
    "        record = {\"name\":\"\",\n",
    "                  \"IP\": 0,\n",
    "                  \"H\": 0,\n",
    "                  \"BF\": 0,\n",
    "                  \"ER\": 0,\n",
    "                  \"BB\": 0,\n",
    "                  \"SO\": 0,\n",
    "                  \"team_faced\":\"\"}\n",
    "        attributes = pitcher_info.find_all('td')\n",
    "        name = attributes[0].get_text()\n",
    "\n",
    "        record[\"name\"] = name.strip().encode('utf-8')\n",
    "        record[\"IP\"] = (attributes[1].get_text()).encode('utf-8')\n",
    "        record[\"H\"] = (attributes[2].get_text()).encode('utf-8')\n",
    "        record[\"BF\"] = (attributes[9].get_text()).encode('utf-8')\n",
    "        record[\"R\"] = (attributes[10].get_text()).encode('utf-8')\n",
    "        record[\"team_faced\"] = opp\n",
    "        gamePitchingStats.append(record)\n",
    "    return gamePitchingStats"
   ]
  },
  {
   "cell_type": "code",
   "execution_count": 84,
   "metadata": {
    "collapsed": true
   },
   "outputs": [],
   "source": [
    "#function to get all urls from a team's schedule then get all the batter information\n",
    "def getAllTeamBattingStats(t_schedule):\n",
    "    #variable to store all data records to be inputted into excel\n",
    "    data = []\n",
    "    #get all the urls\n",
    "    urlList = getListofBoxscoreURLs(t_schedule)\n",
    "    oppList = getListofOpps(t_schedule)\n",
    "    #open each boxscore page to grab info\n",
    "    for i in range (0,2):\n",
    "        boxscore_page = urllib.urlopen(urlList[i]).read()\n",
    "        boxscore_page = BeautifulSoup(boxscore_page)\n",
    "        data = data + getPitchingStats(boxscore_page,oppList[i])\n",
    "    return data"
   ]
  },
  {
   "cell_type": "code",
   "execution_count": 85,
   "metadata": {
    "collapsed": false
   },
   "outputs": [],
   "source": [
    "data = getAllTeamBattingStats(team_schedule_table)"
   ]
  },
  {
   "cell_type": "code",
   "execution_count": 86,
   "metadata": {
    "collapsed": true
   },
   "outputs": [],
   "source": [
    "df = pd.DataFrame(data)"
   ]
  },
  {
   "cell_type": "code",
   "execution_count": 87,
   "metadata": {
    "collapsed": false
   },
   "outputs": [
    {
     "name": "stdout",
     "output_type": "stream",
     "text": [
      "   BB  ER   H    IP    R  SO                     name  \\\n",
      "0   0   0  23   6     93   0  Drew Hutchison, W (1-0)   \n",
      "1   0   0   7   1.2   25   0               Aaron Loup   \n",
      "2   0   0   3   1.1   12   0            Miguel Castro   \n",
      "3   0   0  33   9    130   0              Team Totals   \n",
      "4   0   0  24   6.1   94   0              R.A. Dickey   \n",
      "5   0   0   2   0.2    4   0     Miguel Castro, H (1)   \n",
      "6   0   0   3   0      8   0      Aaron Loup, L (0-1)   \n",
      "7   0   0   4   0.1   16   0      Brett Cecil, BS (1)   \n",
      "8   0   0   2   0.2   11   0            Roberto Osuna   \n",
      "9   0   0  35   8    133   0              Team Totals   \n",
      "\n",
      "                                          team_faced  \n",
      "0  <td align=\"left\"><a href=\"/teams/NYY/2015.shtm...  \n",
      "1  <td align=\"left\"><a href=\"/teams/NYY/2015.shtm...  \n",
      "2  <td align=\"left\"><a href=\"/teams/NYY/2015.shtm...  \n",
      "3  <td align=\"left\"><a href=\"/teams/NYY/2015.shtm...  \n",
      "4  <td align=\"left\"><a href=\"/teams/NYY/2015.shtm...  \n",
      "5  <td align=\"left\"><a href=\"/teams/NYY/2015.shtm...  \n",
      "6  <td align=\"left\"><a href=\"/teams/NYY/2015.shtm...  \n",
      "7  <td align=\"left\"><a href=\"/teams/NYY/2015.shtm...  \n",
      "8  <td align=\"left\"><a href=\"/teams/NYY/2015.shtm...  \n",
      "9  <td align=\"left\"><a href=\"/teams/NYY/2015.shtm...  \n"
     ]
    }
   ],
   "source": [
    "print df"
   ]
  },
  {
   "cell_type": "code",
   "execution_count": 16,
   "metadata": {
    "collapsed": false
   },
   "outputs": [
    {
     "ename": "ImportError",
     "evalue": "No module named openpyxl",
     "output_type": "error",
     "traceback": [
      "\u001b[1;31m---------------------------------------------------------------------------\u001b[0m",
      "\u001b[1;31mImportError\u001b[0m                               Traceback (most recent call last)",
      "\u001b[1;32m<ipython-input-16-fb6ec6e52323>\u001b[0m in \u001b[0;36m<module>\u001b[1;34m()\u001b[0m\n\u001b[1;32m----> 1\u001b[1;33m \u001b[0mdf\u001b[0m\u001b[1;33m.\u001b[0m\u001b[0mto_excel\u001b[0m\u001b[1;33m(\u001b[0m\u001b[1;34m'test.xlsx'\u001b[0m\u001b[1;33m,\u001b[0m \u001b[0msheet_name\u001b[0m\u001b[1;33m=\u001b[0m\u001b[1;34m'sheet1'\u001b[0m\u001b[1;33m,\u001b[0m \u001b[0mindex\u001b[0m\u001b[1;33m=\u001b[0m\u001b[0mFalse\u001b[0m\u001b[1;33m)\u001b[0m\u001b[1;33m\u001b[0m\u001b[0m\n\u001b[0m",
      "\u001b[1;32mF:\\Program Files (x86)\\Anaconda\\envs\\py2\\lib\\site-packages\\pandas\\core\\frame.pyc\u001b[0m in \u001b[0;36mto_excel\u001b[1;34m(self, excel_writer, sheet_name, na_rep, float_format, columns, header, index, index_label, startrow, startcol, engine, merge_cells, encoding, inf_rep, verbose)\u001b[0m\n\u001b[0;32m   1412\u001b[0m \u001b[1;33m\u001b[0m\u001b[0m\n\u001b[0;32m   1413\u001b[0m         \u001b[1;32mif\u001b[0m \u001b[0misinstance\u001b[0m\u001b[1;33m(\u001b[0m\u001b[0mexcel_writer\u001b[0m\u001b[1;33m,\u001b[0m \u001b[0mcompat\u001b[0m\u001b[1;33m.\u001b[0m\u001b[0mstring_types\u001b[0m\u001b[1;33m)\u001b[0m\u001b[1;33m:\u001b[0m\u001b[1;33m\u001b[0m\u001b[0m\n\u001b[1;32m-> 1414\u001b[1;33m             \u001b[0mexcel_writer\u001b[0m \u001b[1;33m=\u001b[0m \u001b[0mExcelWriter\u001b[0m\u001b[1;33m(\u001b[0m\u001b[0mexcel_writer\u001b[0m\u001b[1;33m,\u001b[0m \u001b[0mengine\u001b[0m\u001b[1;33m=\u001b[0m\u001b[0mengine\u001b[0m\u001b[1;33m)\u001b[0m\u001b[1;33m\u001b[0m\u001b[0m\n\u001b[0m\u001b[0;32m   1415\u001b[0m             \u001b[0mneed_save\u001b[0m \u001b[1;33m=\u001b[0m \u001b[0mTrue\u001b[0m\u001b[1;33m\u001b[0m\u001b[0m\n\u001b[0;32m   1416\u001b[0m \u001b[1;33m\u001b[0m\u001b[0m\n",
      "\u001b[1;32mF:\\Program Files (x86)\\Anaconda\\envs\\py2\\lib\\site-packages\\pandas\\io\\excel.pyc\u001b[0m in \u001b[0;36m__init__\u001b[1;34m(self, path, engine, **engine_kwargs)\u001b[0m\n\u001b[0;32m    711\u001b[0m \u001b[1;33m\u001b[0m\u001b[0m\n\u001b[0;32m    712\u001b[0m     \u001b[1;32mdef\u001b[0m \u001b[0m__init__\u001b[0m\u001b[1;33m(\u001b[0m\u001b[0mself\u001b[0m\u001b[1;33m,\u001b[0m \u001b[0mpath\u001b[0m\u001b[1;33m,\u001b[0m \u001b[0mengine\u001b[0m\u001b[1;33m=\u001b[0m\u001b[0mNone\u001b[0m\u001b[1;33m,\u001b[0m \u001b[1;33m**\u001b[0m\u001b[0mengine_kwargs\u001b[0m\u001b[1;33m)\u001b[0m\u001b[1;33m:\u001b[0m\u001b[1;33m\u001b[0m\u001b[0m\n\u001b[1;32m--> 713\u001b[1;33m         \u001b[1;32mif\u001b[0m \u001b[1;32mnot\u001b[0m \u001b[0mopenpyxl_compat\u001b[0m\u001b[1;33m.\u001b[0m\u001b[0mis_compat\u001b[0m\u001b[1;33m(\u001b[0m\u001b[0mmajor_ver\u001b[0m\u001b[1;33m=\u001b[0m\u001b[0mself\u001b[0m\u001b[1;33m.\u001b[0m\u001b[0mopenpyxl_majorver\u001b[0m\u001b[1;33m)\u001b[0m\u001b[1;33m:\u001b[0m\u001b[1;33m\u001b[0m\u001b[0m\n\u001b[0m\u001b[0;32m    714\u001b[0m             raise ValueError('Installed openpyxl is not supported at this '\n\u001b[0;32m    715\u001b[0m                              \u001b[1;34m'time. Use {0}.x.y.'\u001b[0m\u001b[1;33m\u001b[0m\u001b[0m\n",
      "\u001b[1;32mF:\\Program Files (x86)\\Anaconda\\envs\\py2\\lib\\site-packages\\pandas\\compat\\openpyxl_compat.pyc\u001b[0m in \u001b[0;36mis_compat\u001b[1;34m(major_ver)\u001b[0m\n\u001b[0;32m     25\u001b[0m         \u001b[1;33m`\u001b[0m\u001b[1;33m`\u001b[0m\u001b[0mFalse\u001b[0m\u001b[1;33m`\u001b[0m\u001b[1;33m`\u001b[0m \u001b[0motherwise\u001b[0m\u001b[1;33m.\u001b[0m\u001b[1;33m\u001b[0m\u001b[0m\n\u001b[0;32m     26\u001b[0m     \"\"\"\n\u001b[1;32m---> 27\u001b[1;33m     \u001b[1;32mimport\u001b[0m \u001b[0mopenpyxl\u001b[0m\u001b[1;33m\u001b[0m\u001b[0m\n\u001b[0m\u001b[0;32m     28\u001b[0m     \u001b[0mver\u001b[0m \u001b[1;33m=\u001b[0m \u001b[0mLooseVersion\u001b[0m\u001b[1;33m(\u001b[0m\u001b[0mopenpyxl\u001b[0m\u001b[1;33m.\u001b[0m\u001b[0m__version__\u001b[0m\u001b[1;33m)\u001b[0m\u001b[1;33m\u001b[0m\u001b[0m\n\u001b[0;32m     29\u001b[0m     \u001b[1;32mif\u001b[0m \u001b[0mmajor_ver\u001b[0m \u001b[1;33m==\u001b[0m \u001b[1;36m1\u001b[0m\u001b[1;33m:\u001b[0m\u001b[1;33m\u001b[0m\u001b[0m\n",
      "\u001b[1;31mImportError\u001b[0m: No module named openpyxl"
     ]
    }
   ],
   "source": [
    "df.to_excel('test.xlsx', sheet_name='sheet1', index=False)"
   ]
  },
  {
   "cell_type": "code",
   "execution_count": null,
   "metadata": {
    "collapsed": true
   },
   "outputs": [],
   "source": []
  }
 ],
 "metadata": {
  "kernelspec": {
   "display_name": "Python 2",
   "language": "python",
   "name": "python2"
  },
  "language_info": {
   "codemirror_mode": {
    "name": "ipython",
    "version": 2
   },
   "file_extension": ".py",
   "mimetype": "text/x-python",
   "name": "python",
   "nbconvert_exporter": "python",
   "pygments_lexer": "ipython2",
   "version": "2.7.12"
  }
 },
 "nbformat": 4,
 "nbformat_minor": 0
}
