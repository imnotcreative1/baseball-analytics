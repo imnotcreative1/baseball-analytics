{
 "cells": [
  {
   "cell_type": "markdown",
   "metadata": {},
   "source": [
    "<h1> Description </h1>\n",
    "The Purpose of this Notebook is to use a branch and bound algorithm to select the optimal lineup given a set of baseball players in the form of:\n",
    "<table>\n",
    "<tr> \n",
    "    <th>POS</th>     \n",
    "    <th>Player</th>   \n",
    "    <th>EFP(Expected Fantasy Points)</th>\n",
    "    <th>Salary</th>\n",
    "</tr>\n",
    "<tr>\n",
    "    <th>String</th>  \n",
    "    <th>String</th>\n",
    "    <th>float</th>\n",
    "    <th>int</th>\n",
    "</table>\n",
    "<p>\n",
    "and the Salary Cap (int)\n",
    "</p>\n",
    "<p>\n",
    "\n",
    "The program will then choose the lineup that will generate the most expected fantasy points\n",
    "</p>"
   ]
  },
  {
   "cell_type": "markdown",
   "metadata": {},
   "source": [
    "<h2>Loading the Excel File </h2>\n",
    "<p>\n",
    "    For a given dfs league, we must first load the draftkings data from a pre-downloaded excel sheet. Make sure that it is stored in the directory /Users/imnotcreative1/Downloads\n",
    "</p>\n",
    "<p>\n",
    "    To do this we will use the openpxyl library\n",
    "</p> \n",
    "<p> Note: Every downloaded sheet must be named: \"DKSalaries.csv\" and found in my downloads folder <p>\n",
    "\n",
    "<p> When grabbing the information from draftkings note the cell structure is as follows: \n",
    "<br>\n",
    "    \"A\" = Position\n",
    "<br>\n",
    "    \"B\" = Name\n",
    "<br>\n",
    "    \"C\" = Salary\n",
    "<br>\n",
    "    \"E\" = Average Points\n",
    "</p>\n",
    "<p> During this process we created another column to store efp/cost </p>"
   ]
  },
  {
   "cell_type": "code",
   "execution_count": 96,
   "metadata": {
    "collapsed": true
   },
   "outputs": [],
   "source": [
    "'''\n",
    "Things that need to be manually entered\n",
    "'''\n",
    "#folder directory where the draftkings csv is stored\n",
    "folder_directory = \"/Users/imnotcreative1/Downloads/\"\n",
    "\n",
    "#downloaded file name\n",
    "dl_file_name = \"DKSalaries\"\n",
    "\n",
    "#salary cap\n",
    "salary_cap = 25000\n",
    "\n",
    "#number of players, will adjust for positions later\n",
    "player_limit = 3\n"
   ]
  },
  {
   "cell_type": "code",
   "execution_count": 115,
   "metadata": {
    "collapsed": false
   },
   "outputs": [
    {
     "name": "stdout",
     "output_type": "stream",
     "text": [
      "-2003\n",
      "-1908\n",
      "-1990\n",
      "-1657\n",
      "-1979\n",
      "-1856\n",
      "-2078\n",
      "-1934\n",
      "[{'salary': 14400, 'position': 'SP', 'efp': -28.847, 'name': 'Clayton Kershaw', 'efp/$1000000': -2003}, {'salary': 13700, 'position': 'SP', 'efp': -26.145, 'name': 'Max Scherzer', 'efp/$1000000': -1908}, {'salary': 13000, 'position': 'SP', 'efp': -25.872, 'name': 'Jose Fernandez', 'efp/$1000000': -1990}, {'salary': 12300, 'position': 'SP', 'efp': -20.388, 'name': 'Carlos Carrasco', 'efp/$1000000': -1657}, {'salary': 12300, 'position': 'SP', 'efp': -24.35, 'name': 'Johnny Cueto', 'efp/$1000000': -1979}, {'salary': 12200, 'position': 'SP', 'efp': -22.646, 'name': 'Rich Hill', 'efp/$1000000': -1856}, {'salary': 12000, 'position': 'SP', 'efp': -24.941, 'name': 'Stephen Strasburg', 'efp/$1000000': -2078}, {'salary': 11300, 'position': 'SP', 'efp': -21.856, 'name': 'Corey Kluber', 'efp/$1000000': -1934}]\n"
     ]
    }
   ],
   "source": [
    "'''\n",
    "    The openpyxl library only supports file with the extension .xlsx or other excel extentions so we need to \n",
    "    rename the file to have the .xlsx extension\n",
    "'''\n",
    "\n",
    "#function to convert .csv to .xlsx\n",
    "import os\n",
    "import glob\n",
    "import csv\n",
    "from xlsxwriter.workbook import Workbook\n",
    "\n",
    "for csvfile in glob.glob(os.path.join(folder_directory, '*.csv')):\n",
    "    workbook = Workbook(csvfile + '.xlsx')\n",
    "    worksheet = workbook.add_worksheet()\n",
    "    with open(csvfile, 'rb') as f:\n",
    "        reader = csv.reader(f)\n",
    "        for r, row in enumerate(reader):\n",
    "            for c, col in enumerate(row):\n",
    "                worksheet.write(r, c, col)\n",
    "    workbook.close()\n",
    "\n",
    "import os\n",
    "\n",
    "#flag to see if a file was found\n",
    "dfFile_found = False\n",
    "\n",
    "#string to hold the filename with an excel extension\n",
    "dkFile = \"\"\n",
    "\n",
    "for filename in os.listdir(folder_directory):\n",
    "    if filename.startswith(dl_file_name + \".\"):\n",
    "        dfFile_found = True\n",
    "        fileNamePrefix = filename.split('.')[0] #rename file\n",
    "        os.rename(folder_directory + filename, folder_directory + fileNamePrefix + \".xlsx\")\n",
    "        \n",
    "if (not dfFile_found):\n",
    "    print \"failed to find draftkings salary file\"\n",
    "\n",
    "#imports the library\n",
    "import openpyxl\n",
    "\n",
    "#open the excel data\n",
    "wb = openpyxl.load_workbook(folder_directory + dl_file_name + '.xlsx')\n",
    "sheet = wb.get_sheet_by_name('Sheet1')\n",
    "\n",
    "#load the data into a list of dictionaries\n",
    "df_data = []\n",
    "\n",
    "#loop through each row adding each set of data to the list\n",
    "for row_num in range (2, 10):\n",
    "    df_dict = {\"position\": \"\", \"name\": \"\", \"salary\": 1, \"efp\": 1, \"efp/$1000000\": 1}\n",
    "    df_dict[\"position\"] = sheet[\"A\" + str(row_num)].value.encode('utf-8')\n",
    "    df_dict[\"name\"] = sheet[\"B\" + str(row_num)].value.encode('utf-8')\n",
    "    salary =  int(sheet[\"C\" + str(row_num)].value.encode('utf-8'))\n",
    "    df_dict[\"salary\"] = salary\n",
    "    efp =  -1 * float(sheet[\"E\" + str(row_num)].value.encode('utf-8'))\n",
    "    df_dict[\"efp\"] = efp\n",
    "    df_dict[\"efp/$1000000\"] = int(efp/salary * 1000000)\n",
    "    print df_dict[\"efp/$1000000\"] \n",
    "    df_data.append(df_dict)\n",
    "\n",
    "print df_data\n",
    "\n"
   ]
  },
  {
   "cell_type": "markdown",
   "metadata": {},
   "source": [
    "<h2> Negative Expected Fantasy Points??? </h2>\n",
    "<p> As it turns out python doesn't have a built-in max heap library but does have a built-in min heap library. We would need a max heap if we were looking to maximize efp. In the effort to save time (not coding up our own max heap), we made all the efp negative so instead of looking to maximize efp we are now looking to minimize it. This allows us to use the heapq library. \n",
    "</p>\n",
    "\n"
   ]
  },
  {
   "cell_type": "markdown",
   "metadata": {},
   "source": [
    "<h2> Greedy Heuristic </h2>\n",
    "<p> Now that we have all the data in a list of dictionaries, we can now start working on the algorithm. \n",
    "<br>\n",
    "    First we need to apply a greedy heuristic to create a feasible line up which will give us our initial lower bound\n",
    "    that we will compare future lineups to.\n",
    "<br>\n",
    "    We will use the efp/\\$1000000 field and choose all the players with the best efp/\\$1000000\n",
    "</p>"
   ]
  },
  {
   "cell_type": "code",
   "execution_count": 116,
   "metadata": {
    "collapsed": false
   },
   "outputs": [
    {
     "name": "stdout",
     "output_type": "stream",
     "text": [
      "-24.941\n",
      "-53.788\n",
      "[{'salary': 12000, 'position': 'SP', 'efp': -24.941, 'name': 'Stephen Strasburg', 'efp/$1000000': -2078}, {'salary': 14400, 'position': 'SP', 'efp': -28.847, 'name': 'Clayton Kershaw', 'efp/$1000000': -2003}, {'salary': 13000, 'position': 'SP', 'efp': -25.872, 'name': 'Jose Fernandez', 'efp/$1000000': -1990}, {'salary': 12300, 'position': 'SP', 'efp': -24.35, 'name': 'Johnny Cueto', 'efp/$1000000': -1979}, {'salary': 11300, 'position': 'SP', 'efp': -21.856, 'name': 'Corey Kluber', 'efp/$1000000': -1934}, {'salary': 13700, 'position': 'SP', 'efp': -26.145, 'name': 'Max Scherzer', 'efp/$1000000': -1908}, {'salary': 12200, 'position': 'SP', 'efp': -22.646, 'name': 'Rich Hill', 'efp/$1000000': -1856}, {'salary': 12300, 'position': 'SP', 'efp': -20.388, 'name': 'Carlos Carrasco', 'efp/$1000000': -1657}]\n",
      "[{'salary': 12000, 'position': 'SP', 'efp': -24.941, 'name': 'Stephen Strasburg', 'efp/$1000000': -2078}]\n",
      "-24.941\n"
     ]
    }
   ],
   "source": [
    "#before we start grabing the most valuable players we need to sort the list of players\n",
    "#this we allow us to grab an initial lower bound\n",
    "\n",
    "#check accuracy of this section later \n",
    "\n",
    "#global lower bound\n",
    "global_lower_bound = 0\n",
    "\n",
    "from operator import itemgetter\n",
    "def sortLODBy(attribute, df_data):\n",
    "    return sorted(df_data, key=itemgetter(attribute), reverse=False) \n",
    "\n",
    "#call sort function\n",
    "df_data = sortLODBy(\"efp/$1000000\", df_data) \n",
    "\n",
    "#remaining funds\n",
    "funds_remaining = salary_cap\n",
    "\n",
    "#list_of_players\n",
    "players_taken = []\n",
    "\n",
    "#index of sorted list\n",
    "player_index = 0\n",
    "\n",
    "while (funds_remaining >= 0):\n",
    "    players_taken.append(df_data[player_index])\n",
    "    global_lower_bound +=  df_data[player_index][\"efp\"]\n",
    "    print global_lower_bound\n",
    "    funds_remaining -= df_data[player_index][\"salary\"]\n",
    "    player_index+=1\n",
    "\n",
    "#pop the last player that put it over the salary cap and remove the added efp from the global lower bound\n",
    "global_lower_bound -= players_taken[len(players_taken)-1][\"efp\"]\n",
    "print  df_data\n",
    "players_taken.pop(len(players_taken)-1)\n",
    "\n",
    "print players_taken\n",
    "print global_lower_bound\n"
   ]
  },
  {
   "cell_type": "markdown",
   "metadata": {},
   "source": [
    "<h2> Starting the Algorithm </h2>\n",
    "<p> Now that we have an inital global lower bound we can began the algorithm. </p>\n",
    "<p> We need to now write the main code that will loop through every path starting by selecting a greedy player as the first choice and continuing down that path until a lower and upper bound for that starting pick has been made </p>\n",
    "<p> For example, given three players(value, weight): Stephen Strasburg(5, 3), Clayton Kershaw(4, 2), and Jose Fernandez(2, 2). <br> <br>\n",
    "Let's say the weight cap is 4 and there is a max of two people allowed in a set. <br>\n",
    "After applying the greedy algorithm we would choose Stephen and Clayton which gives us a global lower bound of 8.\n",
    "If any future set of players has a upper bound less than 8, we will discard that set. <br><br>\n",
    "Initially we may choose Stephen who has a value of 5 and a weight of 3.\n",
    "The lower bound is then 5 since the set of players has a value of at least 5 since no player can give negative value His upper bound is 9 (him and Clayton), which we get by sorting the remaining players by value (descending) and taking players until the number of players limit has been met. Thus the upper bound is not less than the global lower bound and we need to continue pursuing more sets that start with Stephen. <br> <br>\n",
    "Next we would look at Clayton. Adding Clayton would push the weight of players above the threshold of 4 (5). Thus, we cannot use a player set with Stephen and Clayton. The lower bound and upper bound remain the same.<br> <br>\n",
    "The next player we look at is Jose. We face the same situation and thus cannot use a player set with Stephen and Jose either. There are no more players to combo with so we are done looking at combinations with Stephen in it. His one combination with only him in it remains in the partial sets with a lb (lower bound) of 5 and an ub (upper bound) of 5. The upper bound is now the same as the lower bound since just Stephen is now considered a complete set.<br> <br>\n",
    "Now we try starting with Clayton. His initial lb is 4 (just him) and his ub his 6 (him and Jose). His upperbound is not less than the global lower bound so we continue with Clayton. We now try to include Jose (the next player) which works since their combined weights do not exceed the limit. The lb of this new partial set is 6 and upper bound is 6 as well since they have two players. The lb bound of the set is now greater than the global lower bound so the global bound is updated to 6 from 5. Note that right now there are three partial sets stored in a max heap: [{Stephen},\n",
    "{Clayton}, {Clayton, Jose}]. The new global lower bound is then compared with the heap. Since the global lower bound is greater than  or equal to two of the solution's upper bounds, the {Stephen} and {Clayton} solutions are removed and no longer considered. There is no more we can do with Clayton as the intial player. <br> <br>\n",
    "We now look at Jose. His upper bound is 2 which is lower than the global lower bound so no more partial solutions are added. <br> <br>\n",
    "There are no more players to start with so the algorithm is done with one solution still being considered. Thus, the set of {Clayton, Jose} is the optimal set of players.\n",
    "</p>\n"
   ]
  },
  {
   "cell_type": "code",
   "execution_count": 163,
   "metadata": {
    "collapsed": false
   },
   "outputs": [
    {
     "name": "stdout",
     "output_type": "stream",
     "text": [
      "[{'salary': 12000, 'lb': -24, 'name': 'Stephen Strasburg', 'efp': -24.941, 'efp/$1000000': -2078, 'position': 'SP', 'ub': 0}, {'salary': 14400, 'lb': -28, 'name': 'Clayton Kershaw', 'efp': -28.847, 'efp/$1000000': -2003, 'position': 'SP', 'ub': 0}, {'salary': 13000, 'lb': -26, 'name': 'Jose Fernandez', 'efp': -25.872, 'efp/$1000000': -1990, 'position': 'SP', 'ub': 0}, {'salary': 12300, 'lb': -24, 'name': 'Johnny Cueto', 'efp': -24.35, 'efp/$1000000': -1979, 'position': 'SP', 'ub': 0}, {'salary': 11300, 'lb': -21, 'name': 'Corey Kluber', 'efp': -21.856, 'efp/$1000000': -1934, 'position': 'SP', 'ub': 0}, {'salary': 13700, 'lb': -26, 'name': 'Max Scherzer', 'efp': -26.145, 'efp/$1000000': -1908, 'position': 'SP', 'ub': 0}, {'salary': 12200, 'lb': -22, 'name': 'Rich Hill', 'efp': -22.646, 'efp/$1000000': -1856, 'position': 'SP', 'ub': 0}, {'salary': 12300, 'lb': -20, 'name': 'Carlos Carrasco', 'efp': -20.388, 'efp/$1000000': -1657, 'position': 'SP', 'ub': 0}]\n"
     ]
    }
   ],
   "source": [
    "'''\n",
    "The inital set S is df_data since it contains all the players/choices.\n",
    "Now we start by choosing the first players in df_data\n",
    "\n",
    "Note: The algorithm may look a little different than the example shown above because expected fantasy points is\n",
    "now a negative field.\n",
    "'''\n",
    "import heapq as h\n",
    "#heap of all partial sets being considered\n",
    "partial_sets = []\n",
    "#current set\n",
    "current_set = Player_Set([])\n",
    "print df_data\n",
    "#loop through each possible starting player\n",
    "#nextPartialSets(0, df_data, partial_sets, current_set)"
   ]
  },
  {
   "cell_type": "code",
   "execution_count": 201,
   "metadata": {
    "collapsed": false
   },
   "outputs": [],
   "source": [
    "'''\n",
    "Function to generate all the possible partial sets that can be made by adding one player\n",
    "'''\n",
    "def nextPartialSets(player_index, df_data, partial_sets, current_set):\n",
    "    for player_index in range (0, len(df_data)):\n",
    "        next_player = df_data[player_index]\n",
    "        #if there is a possible solution starting with init_player that is better/= to current best add it to partial sol.\n",
    "        h.heappush(partial_sets, current_set_player)\n",
    "        #current partial set\n",
    "        current_set = []\n",
    "        current_set = [partial_sets[len(partial_sets)-1]]\n",
    "        #set the lower bound for the partial set with one player, his efs\n",
    "        current_set[\"lb\"] = int(starting_player[\"efp\"])\n",
    "        #make the global bound attribute for the new partial set\n",
    "        current_set[\"ub\"] = 0\n",
    "        if (getUpperBound(1, current_set, init_player_index, df_data) <= global_lower_bound):\n",
    "            #loop to continuously add partial sets\n",
    "            for i in range (init_player_index+1, len(df_data)):\n",
    "                next_player = df_data[i]\n",
    "                h.heappush(partial_sets, current_set.append(next_player))"
   ]
  },
  {
   "cell_type": "code",
   "execution_count": 202,
   "metadata": {
    "collapsed": false
   },
   "outputs": [
    {
     "name": "stdout",
     "output_type": "stream",
     "text": [
      "[2, 3, 3, 5]\n"
     ]
    }
   ],
   "source": [
    "import heapq as h\n",
    "heap = []\n",
    "h.heappush(heap, 5)\n",
    "h.heappush(heap, 2)\n",
    "h.heappush(heap, 3)\n",
    "h.heappush(heap, 3)\n",
    "print heap"
   ]
  },
  {
   "cell_type": "code",
   "execution_count": 203,
   "metadata": {
    "collapsed": false
   },
   "outputs": [],
   "source": [
    "class Player_Set:\n",
    "    lower_bound = 1\n",
    "    upper_bound = 1\n",
    "    \n",
    "    def __init__(self, list_players):\n",
    "        self.list_players = list_players\n",
    "        self.lower_bound = calcLowerBound(list_players)\n",
    "        \n",
    "    def setUpperBound(self, upper_bound):\n",
    "        self.upper_bound = upper_bound\n",
    "        \n",
    "    def setLowerBound(self, lower_bound):\n",
    "        self.lower_bound = lower_bound\n",
    "        \n",
    "    def getUpperBound(self):\n",
    "        return selfupper_bound\n",
    "    \n",
    "    def getLowerBound(self):\n",
    "        return self.lower_bound\n",
    "    \n",
    "    def getPlayers(self, player):\n",
    "        print self.list_players\n",
    "        print self.list_players.append(player)\n",
    "    \n",
    "    def addPlayer(self, player):\n",
    "        print player\n",
    "        #if (self.list)\n",
    "        self.list_players = self.list_players.append(player)\n",
    "        print self.list_players\n",
    "        self.lower_bound = calcLowerBound(self.list_players)"
   ]
  },
  {
   "cell_type": "code",
   "execution_count": 204,
   "metadata": {
    "collapsed": true
   },
   "outputs": [],
   "source": [
    "'''\n",
    "Assisiting Functions\n",
    "''' \n",
    "def getUpperBound(set_size, partial_set, init_player_index, df_data):\n",
    "    upperBound = partial_set[\"lb\"]\n",
    "    remainingSet = []\n",
    "    #check that there is still players left to add the player_limit hasn't been exceeded\n",
    "    if (init_player_index < len(df_data) and set_size <= player_limit):\n",
    "        #sort remaining players that could be added to the player_set by efp\n",
    "        remainingSet = sortLODBy(\"efp\", df_data[init_player_index+1:len(df_data)])\n",
    "        #keep track of remaining player index\n",
    "        remaining_player_index = 0\n",
    "        while (set_size < player_limit and remaining_player_index < len(remainingSet)):\n",
    "            upperBound += remainingSet[remaining_player_index][\"efp\"]\n",
    "            set_size += 1\n",
    "            remaining_player_index +=1\n",
    "    else:\n",
    "        return 0\n",
    "    return upperBound\n",
    "\n",
    "def calcLowerBound(list_players):\n",
    "        lower_bound = 0\n",
    "        if (len(list_players) > 0):\n",
    "            for player in list_players:\n",
    "                lower_bound += player[\"efp\"]\n",
    "        return lower_bound"
   ]
  },
  {
   "cell_type": "code",
   "execution_count": 205,
   "metadata": {
    "collapsed": false
   },
   "outputs": [
    {
     "name": "stdout",
     "output_type": "stream",
     "text": [
      "[{'salary': 12000, 'lb': -24, 'name': 'Stephen Strasburg', 'efp': -24.941, 'efp/$1000000': -2078, 'position': 'SP', 'ub': 0}, {'salary': 14400, 'lb': -28, 'name': 'Clayton Kershaw', 'efp': -28.847, 'efp/$1000000': -2003, 'position': 'SP', 'ub': 0}, {'salary': 13000, 'lb': -26, 'name': 'Jose Fernandez', 'efp': -25.872, 'efp/$1000000': -1990, 'position': 'SP', 'ub': 0}, {'salary': 12300, 'lb': -24, 'name': 'Johnny Cueto', 'efp': -24.35, 'efp/$1000000': -1979, 'position': 'SP', 'ub': 0}, {'salary': 11300, 'lb': -21, 'name': 'Corey Kluber', 'efp': -21.856, 'efp/$1000000': -1934, 'position': 'SP', 'ub': 0}, {'salary': 13700, 'lb': -26, 'name': 'Max Scherzer', 'efp': -26.145, 'efp/$1000000': -1908, 'position': 'SP', 'ub': 0}, {'salary': 12200, 'lb': -22, 'name': 'Rich Hill', 'efp': -22.646, 'efp/$1000000': -1856, 'position': 'SP', 'ub': 0}, {'salary': 12300, 'lb': -20, 'name': 'Carlos Carrasco', 'efp': -20.388, 'efp/$1000000': -1657, 'position': 'SP', 'ub': 0}, {'salary': 12000, 'lb': -24, 'name': 'Stephen Strasburg', 'efp': -24.941, 'efp/$1000000': -2078, 'position': 'SP', 'ub': 0}, {'salary': 12000, 'lb': -24, 'name': 'Stephen Strasburg', 'efp': -24.941, 'efp/$1000000': -2078, 'position': 'SP', 'ub': 0}, {'salary': 12000, 'lb': -24, 'name': 'Stephen Strasburg', 'efp': -24.941, 'efp/$1000000': -2078, 'position': 'SP', 'ub': 0}, {'salary': 12000, 'lb': -24, 'name': 'Stephen Strasburg', 'efp': -24.941, 'efp/$1000000': -2078, 'position': 'SP', 'ub': 0}, {'salary': 12000, 'lb': -24, 'name': 'Stephen Strasburg', 'efp': -24.941, 'efp/$1000000': -2078, 'position': 'SP', 'ub': 0}, {'salary': 12000, 'lb': -24, 'name': 'Stephen Strasburg', 'efp': -24.941, 'efp/$1000000': -2078, 'position': 'SP', 'ub': 0}, {'salary': 12000, 'lb': -24, 'name': 'Stephen Strasburg', 'efp': -24.941, 'efp/$1000000': -2078, 'position': 'SP', 'ub': 0}, {'salary': 12000, 'lb': -24, 'name': 'Stephen Strasburg', 'efp': -24.941, 'efp/$1000000': -2078, 'position': 'SP', 'ub': 0}, {'salary': 12000, 'lb': -24, 'name': 'Stephen Strasburg', 'efp': -24.941, 'efp/$1000000': -2078, 'position': 'SP', 'ub': 0}]\n"
     ]
    },
    {
     "ename": "NameError",
     "evalue": "name 'PA' is not defined",
     "output_type": "error",
     "traceback": [
      "\u001b[0;31m---------------------------------------------------------------------------\u001b[0m",
      "\u001b[0;31mNameError\u001b[0m                                 Traceback (most recent call last)",
      "\u001b[0;32m<ipython-input-205-b60f5470f6cd>\u001b[0m in \u001b[0;36m<module>\u001b[0;34m()\u001b[0m\n\u001b[1;32m      1\u001b[0m \u001b[0mPAS\u001b[0m \u001b[0;34m=\u001b[0m \u001b[0mPlayer_Set\u001b[0m\u001b[0;34m(\u001b[0m\u001b[0mdf_data\u001b[0m\u001b[0;34m)\u001b[0m\u001b[0;34m\u001b[0m\u001b[0m\n\u001b[1;32m      2\u001b[0m \u001b[0;32mprint\u001b[0m \u001b[0mdf_data\u001b[0m\u001b[0;34m\u001b[0m\u001b[0m\n\u001b[0;32m----> 3\u001b[0;31m \u001b[0;32mdel\u001b[0m \u001b[0mPA\u001b[0m\u001b[0;34m\u001b[0m\u001b[0m\n\u001b[0m\u001b[1;32m      4\u001b[0m \u001b[0;31m#PA.getPlayers(df_data[0])\u001b[0m\u001b[0;34m\u001b[0m\u001b[0;34m\u001b[0m\u001b[0m\n",
      "\u001b[0;31mNameError\u001b[0m: name 'PA' is not defined"
     ]
    }
   ],
   "source": [
    "PAS = Player_Set(df_data)\n",
    "print df_data\n",
    "del PA\n",
    "#PA.getPlayers(df_data[0])\n"
   ]
  },
  {
   "cell_type": "code",
   "execution_count": 197,
   "metadata": {
    "collapsed": false
   },
   "outputs": [
    {
     "ename": "NameError",
     "evalue": "name 'PA' is not defined",
     "output_type": "error",
     "traceback": [
      "\u001b[0;31m---------------------------------------------------------------------------\u001b[0m",
      "\u001b[0;31mNameError\u001b[0m                                 Traceback (most recent call last)",
      "\u001b[0;32m<ipython-input-197-ba6bc7dbaab4>\u001b[0m in \u001b[0;36m<module>\u001b[0;34m()\u001b[0m\n\u001b[0;32m----> 1\u001b[0;31m \u001b[0;32mprint\u001b[0m \u001b[0mPA\u001b[0m\u001b[0;34m.\u001b[0m\u001b[0mgetLowerBound\u001b[0m\u001b[0;34m(\u001b[0m\u001b[0;34m)\u001b[0m\u001b[0;34m\u001b[0m\u001b[0m\n\u001b[0m",
      "\u001b[0;31mNameError\u001b[0m: name 'PA' is not defined"
     ]
    }
   ],
   "source": [
    "print PA.getLowerBound()"
   ]
  },
  {
   "cell_type": "code",
   "execution_count": null,
   "metadata": {
    "collapsed": true
   },
   "outputs": [],
   "source": []
  }
 ],
 "metadata": {
  "kernelspec": {
   "display_name": "Python 2",
   "language": "python",
   "name": "python2"
  },
  "language_info": {
   "codemirror_mode": {
    "name": "ipython",
    "version": 2
   },
   "file_extension": ".py",
   "mimetype": "text/x-python",
   "name": "python",
   "nbconvert_exporter": "python",
   "pygments_lexer": "ipython2",
   "version": "2.7.11"
  }
 },
 "nbformat": 4,
 "nbformat_minor": 0
}
